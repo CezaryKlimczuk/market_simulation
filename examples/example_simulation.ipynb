{
 "cells": [
  {
   "cell_type": "markdown",
   "metadata": {},
   "source": [
    "# Example of orderbook simulation - Zero intelligence agents\n",
    "\n",
    "In this notebook I utilise the zero-intelligence framework where market participants submit random market and limit orders according to pre-configured distributions, regardless of market conditions.\n",
    "\n",
    "**IMPORTANT**: To ensure that the modules are discoverable, you should either run the notebook from the root of the repository *or* add the module directory to the `PYTHONPATH` variable on your machine."
   ]
  },
  {
   "cell_type": "code",
   "execution_count": 1,
   "metadata": {},
   "outputs": [],
   "source": [
    "import pandas as pd\n",
    "\n",
    "from random import seed\n",
    "import plotly.graph_objects as go\n",
    "from datetime import datetime\n",
    "\n",
    "from instrument import Instrument\n",
    "from order_factory import OrderFactory\n",
    "from orderbook import OrderBook\n",
    "from visualisation import plot_orderbook\n",
    "\n",
    "seed(42)"
   ]
  },
  {
   "cell_type": "markdown",
   "metadata": {},
   "source": [
    "### Defining an imaginary *mVidia* instrument \n",
    "\n",
    "Creating `Instrument` and `OrderBook` objects"
   ]
  },
  {
   "cell_type": "code",
   "execution_count": 2,
   "metadata": {},
   "outputs": [
    {
     "data": {
      "text/plain": [
       "Instrument(code='MVDA', name='mVidia', is_active=True, min_tick_size=0.01)"
      ]
     },
     "metadata": {},
     "output_type": "display_data"
    }
   ],
   "source": [
    "mvda = Instrument('MVDA', 'mVidia', True, min_tick_size=0.01)\n",
    "display(mvda)"
   ]
  },
  {
   "cell_type": "code",
   "execution_count": 3,
   "metadata": {},
   "outputs": [
    {
     "data": {
      "text/plain": [
       "deque([])"
      ]
     },
     "metadata": {},
     "output_type": "display_data"
    },
    {
     "data": {
      "text/plain": [
       "deque([])"
      ]
     },
     "metadata": {},
     "output_type": "display_data"
    }
   ],
   "source": [
    "mvda_orderbook = OrderBook(mvda)\n",
    "display(mvda_orderbook.bids)\n",
    "display(mvda_orderbook.asks)"
   ]
  },
  {
   "cell_type": "markdown",
   "metadata": {},
   "source": [
    "### Pre-generating an initial state of the orderbook \n",
    "\n",
    "This is achieved by submitting a few limit orders first around the price of $100.00."
   ]
  },
  {
   "cell_type": "code",
   "execution_count": 4,
   "metadata": {},
   "outputs": [],
   "source": [
    "mvda_order_factory = OrderFactory(\n",
    "    instrument=mvda,\n",
    "    orderbook=mvda_orderbook,\n",
    "    arrivals_rate=2.0,\n",
    "    hazard_rate=0.01,\n",
    "    buy_ratio=0.5,\n",
    "    limit_order_ratio=1.0,\n",
    "    min_consideration=1,\n",
    "    limit_amount_lambda=1/3,\n",
    "    market_amount_lambda=1/30,\n",
    "    max_halfspread=1.0,\n",
    "    static_midprice=100.0\n",
    ")"
   ]
  },
  {
   "cell_type": "code",
   "execution_count": 5,
   "metadata": {},
   "outputs": [
    {
     "data": {
      "text/plain": [
       "[Order(timestamp=datetime.datetime(2024, 1, 1, 0, 0, 0, 54068), cancellation_timestamp=datetime.datetime(2024, 1, 1, 0, 2, 15, 18588), counterpart_id=1010, instrument=Instrument(code='MVDA', name='mVidia', is_active=True, min_tick_size=0.01), order_type=<OrderType.LIMIT: 1>, side=<OrderSide.BUY: 1>, amount=1, price=99.99000000000001),\n",
       " Order(timestamp=datetime.datetime(2024, 1, 1, 0, 0, 0, 406026), cancellation_timestamp=datetime.datetime(2024, 1, 1, 0, 0, 3, 95466), counterpart_id=1008, instrument=Instrument(code='MVDA', name='mVidia', is_active=True, min_tick_size=0.01), order_type=<OrderType.LIMIT: 1>, side=<OrderSide.BUY: 1>, amount=1, price=99.99000000000001),\n",
       " Order(timestamp=datetime.datetime(2024, 1, 1, 0, 0, 0, 569023), cancellation_timestamp=datetime.datetime(2024, 1, 1, 0, 3, 24, 54334), counterpart_id=1003, instrument=Instrument(code='MVDA', name='mVidia', is_active=True, min_tick_size=0.01), order_type=<OrderType.LIMIT: 1>, side=<OrderSide.SELL: 2>, amount=2, price=100.06),\n",
       " Order(timestamp=datetime.datetime(2024, 1, 1, 0, 0, 0, 774207), cancellation_timestamp=datetime.datetime(2024, 1, 1, 0, 0, 10, 507472), counterpart_id=1002, instrument=Instrument(code='MVDA', name='mVidia', is_active=True, min_tick_size=0.01), order_type=<OrderType.LIMIT: 1>, side=<OrderSide.SELL: 2>, amount=1, price=100.06),\n",
       " Order(timestamp=datetime.datetime(2024, 1, 1, 0, 0, 1, 81768), cancellation_timestamp=datetime.datetime(2024, 1, 1, 0, 0, 14, 415042), counterpart_id=1001, instrument=Instrument(code='MVDA', name='mVidia', is_active=True, min_tick_size=0.01), order_type=<OrderType.LIMIT: 1>, side=<OrderSide.BUY: 1>, amount=1, price=100.0)]"
      ]
     },
     "metadata": {},
     "output_type": "display_data"
    }
   ],
   "source": [
    "# Generating 500 limit orders objects\n",
    "start_time = datetime(2024, 1, 1)\n",
    "limit_orders = mvda_order_factory.generate_orders(start_time=start_time, n_orders=500)\n",
    "display(limit_orders[:5])"
   ]
  },
  {
   "cell_type": "code",
   "execution_count": 6,
   "metadata": {},
   "outputs": [],
   "source": [
    "for i, lo in enumerate(limit_orders):\n",
    "    mvda_orderbook.add_order(incoming_order=lo)\n",
    "    # Cancelling orders after their lifetime expiry\n",
    "    mvda_orderbook.perform_order_cancellations(lo.timestamp)"
   ]
  },
  {
   "cell_type": "code",
   "execution_count": 7,
   "metadata": {},
   "outputs": [
    {
     "data": {
      "application/vnd.plotly.v1+json": {
       "config": {
        "plotlyServerURL": "https://plot.ly"
       },
       "data": [
        {
         "customdata": [
          [
           1007
          ]
         ],
         "hovertemplate": "Counterparty: %{customdata[0]}<br>Amount: %{x}<br>Price: %{y}<extra></extra>",
         "marker": {
          "color": "green"
         },
         "name": "BUY 1007",
         "offsetgroup": "bid",
         "orientation": "h",
         "type": "bar",
         "x": [
          1
         ],
         "y": [
          99.99000000000001
         ]
        },
        {
         "customdata": [
          [
           1004
          ]
         ],
         "hovertemplate": "Counterparty: %{customdata[0]}<br>Amount: %{x}<br>Price: %{y}<extra></extra>",
         "marker": {
          "color": "green"
         },
         "name": "BUY 1004",
         "offsetgroup": "bid",
         "orientation": "h",
         "type": "bar",
         "x": [
          5
         ],
         "y": [
          99.99000000000001
         ]
        },
        {
         "customdata": [
          [
           1010
          ]
         ],
         "hovertemplate": "Counterparty: %{customdata[0]}<br>Amount: %{x}<br>Price: %{y}<extra></extra>",
         "marker": {
          "color": "green"
         },
         "name": "BUY 1010",
         "offsetgroup": "bid",
         "orientation": "h",
         "type": "bar",
         "x": [
          1
         ],
         "y": [
          99.99000000000001
         ]
        },
        {
         "customdata": [
          [
           1005
          ]
         ],
         "hovertemplate": "Counterparty: %{customdata[0]}<br>Amount: %{x}<br>Price: %{y}<extra></extra>",
         "marker": {
          "color": "green"
         },
         "name": "BUY 1005",
         "offsetgroup": "bid",
         "orientation": "h",
         "type": "bar",
         "x": [
          1
         ],
         "y": [
          99.99000000000001
         ]
        },
        {
         "customdata": [
          [
           1007
          ]
         ],
         "hovertemplate": "Counterparty: %{customdata[0]}<br>Amount: %{x}<br>Price: %{y}<extra></extra>",
         "marker": {
          "color": "green"
         },
         "name": "BUY 1007",
         "offsetgroup": "bid",
         "orientation": "h",
         "type": "bar",
         "x": [
          1
         ],
         "y": [
          99.99000000000001
         ]
        },
        {
         "customdata": [
          [
           1009
          ]
         ],
         "hovertemplate": "Counterparty: %{customdata[0]}<br>Amount: %{x}<br>Price: %{y}<extra></extra>",
         "marker": {
          "color": "green"
         },
         "name": "BUY 1009",
         "offsetgroup": "bid",
         "orientation": "h",
         "type": "bar",
         "x": [
          2
         ],
         "y": [
          99.99000000000001
         ]
        },
        {
         "customdata": [
          [
           1007
          ]
         ],
         "hovertemplate": "Counterparty: %{customdata[0]}<br>Amount: %{x}<br>Price: %{y}<extra></extra>",
         "marker": {
          "color": "green"
         },
         "name": "BUY 1007",
         "offsetgroup": "bid",
         "orientation": "h",
         "type": "bar",
         "x": [
          1
         ],
         "y": [
          99.99000000000001
         ]
        },
        {
         "customdata": [
          [
           1001
          ]
         ],
         "hovertemplate": "Counterparty: %{customdata[0]}<br>Amount: %{x}<br>Price: %{y}<extra></extra>",
         "marker": {
          "color": "green"
         },
         "name": "BUY 1001",
         "offsetgroup": "bid",
         "orientation": "h",
         "type": "bar",
         "x": [
          4
         ],
         "y": [
          99.99000000000001
         ]
        },
        {
         "customdata": [
          [
           1001
          ]
         ],
         "hovertemplate": "Counterparty: %{customdata[0]}<br>Amount: %{x}<br>Price: %{y}<extra></extra>",
         "marker": {
          "color": "green"
         },
         "name": "BUY 1001",
         "offsetgroup": "bid",
         "orientation": "h",
         "type": "bar",
         "x": [
          2
         ],
         "y": [
          99.99000000000001
         ]
        },
        {
         "customdata": [
          [
           1006
          ]
         ],
         "hovertemplate": "Counterparty: %{customdata[0]}<br>Amount: %{x}<br>Price: %{y}<extra></extra>",
         "marker": {
          "color": "green"
         },
         "name": "BUY 1006",
         "offsetgroup": "bid",
         "orientation": "h",
         "type": "bar",
         "x": [
          2
         ],
         "y": [
          99.99000000000001
         ]
        },
        {
         "customdata": [
          [
           1009
          ]
         ],
         "hovertemplate": "Counterparty: %{customdata[0]}<br>Amount: %{x}<br>Price: %{y}<extra></extra>",
         "marker": {
          "color": "green"
         },
         "name": "BUY 1009",
         "offsetgroup": "bid",
         "orientation": "h",
         "type": "bar",
         "x": [
          1
         ],
         "y": [
          99.98
         ]
        },
        {
         "customdata": [
          [
           1000
          ]
         ],
         "hovertemplate": "Counterparty: %{customdata[0]}<br>Amount: %{x}<br>Price: %{y}<extra></extra>",
         "marker": {
          "color": "green"
         },
         "name": "BUY 1000",
         "offsetgroup": "bid",
         "orientation": "h",
         "type": "bar",
         "x": [
          2
         ],
         "y": [
          99.98
         ]
        },
        {
         "customdata": [
          [
           1002
          ]
         ],
         "hovertemplate": "Counterparty: %{customdata[0]}<br>Amount: %{x}<br>Price: %{y}<extra></extra>",
         "marker": {
          "color": "green"
         },
         "name": "BUY 1002",
         "offsetgroup": "bid",
         "orientation": "h",
         "type": "bar",
         "x": [
          2
         ],
         "y": [
          99.98
         ]
        },
        {
         "customdata": [
          [
           1001
          ]
         ],
         "hovertemplate": "Counterparty: %{customdata[0]}<br>Amount: %{x}<br>Price: %{y}<extra></extra>",
         "marker": {
          "color": "green"
         },
         "name": "BUY 1001",
         "offsetgroup": "bid",
         "orientation": "h",
         "type": "bar",
         "x": [
          2
         ],
         "y": [
          99.97
         ]
        },
        {
         "customdata": [
          [
           1003
          ]
         ],
         "hovertemplate": "Counterparty: %{customdata[0]}<br>Amount: %{x}<br>Price: %{y}<extra></extra>",
         "marker": {
          "color": "green"
         },
         "name": "BUY 1003",
         "offsetgroup": "bid",
         "orientation": "h",
         "type": "bar",
         "x": [
          3
         ],
         "y": [
          99.97
         ]
        },
        {
         "customdata": [
          [
           1004
          ]
         ],
         "hovertemplate": "Counterparty: %{customdata[0]}<br>Amount: %{x}<br>Price: %{y}<extra></extra>",
         "marker": {
          "color": "green"
         },
         "name": "BUY 1004",
         "offsetgroup": "bid",
         "orientation": "h",
         "type": "bar",
         "x": [
          1
         ],
         "y": [
          99.97
         ]
        },
        {
         "customdata": [
          [
           1006
          ]
         ],
         "hovertemplate": "Counterparty: %{customdata[0]}<br>Amount: %{x}<br>Price: %{y}<extra></extra>",
         "marker": {
          "color": "green"
         },
         "name": "BUY 1006",
         "offsetgroup": "bid",
         "orientation": "h",
         "type": "bar",
         "x": [
          1
         ],
         "y": [
          99.97
         ]
        },
        {
         "customdata": [
          [
           1002
          ]
         ],
         "hovertemplate": "Counterparty: %{customdata[0]}<br>Amount: %{x}<br>Price: %{y}<extra></extra>",
         "marker": {
          "color": "green"
         },
         "name": "BUY 1002",
         "offsetgroup": "bid",
         "orientation": "h",
         "type": "bar",
         "x": [
          2
         ],
         "y": [
          99.97
         ]
        },
        {
         "customdata": [
          [
           1003
          ]
         ],
         "hovertemplate": "Counterparty: %{customdata[0]}<br>Amount: %{x}<br>Price: %{y}<extra></extra>",
         "marker": {
          "color": "green"
         },
         "name": "BUY 1003",
         "offsetgroup": "bid",
         "orientation": "h",
         "type": "bar",
         "x": [
          2
         ],
         "y": [
          99.96000000000001
         ]
        },
        {
         "customdata": [
          [
           1010
          ]
         ],
         "hovertemplate": "Counterparty: %{customdata[0]}<br>Amount: %{x}<br>Price: %{y}<extra></extra>",
         "marker": {
          "color": "green"
         },
         "name": "BUY 1010",
         "offsetgroup": "bid",
         "orientation": "h",
         "type": "bar",
         "x": [
          11
         ],
         "y": [
          99.96000000000001
         ]
        },
        {
         "customdata": [
          [
           1003
          ]
         ],
         "hovertemplate": "Counterparty: %{customdata[0]}<br>Amount: %{x}<br>Price: %{y}<extra></extra>",
         "marker": {
          "color": "green"
         },
         "name": "BUY 1003",
         "offsetgroup": "bid",
         "orientation": "h",
         "type": "bar",
         "x": [
          1
         ],
         "y": [
          99.96000000000001
         ]
        },
        {
         "customdata": [
          [
           1003
          ]
         ],
         "hovertemplate": "Counterparty: %{customdata[0]}<br>Amount: %{x}<br>Price: %{y}<extra></extra>",
         "marker": {
          "color": "green"
         },
         "name": "BUY 1003",
         "offsetgroup": "bid",
         "orientation": "h",
         "type": "bar",
         "x": [
          2
         ],
         "y": [
          99.96000000000001
         ]
        },
        {
         "customdata": [
          [
           1001
          ]
         ],
         "hovertemplate": "Counterparty: %{customdata[0]}<br>Amount: %{x}<br>Price: %{y}<extra></extra>",
         "marker": {
          "color": "green"
         },
         "name": "BUY 1001",
         "offsetgroup": "bid",
         "orientation": "h",
         "type": "bar",
         "x": [
          4
         ],
         "y": [
          99.96000000000001
         ]
        },
        {
         "customdata": [
          [
           1009
          ]
         ],
         "hovertemplate": "Counterparty: %{customdata[0]}<br>Amount: %{x}<br>Price: %{y}<extra></extra>",
         "marker": {
          "color": "green"
         },
         "name": "BUY 1009",
         "offsetgroup": "bid",
         "orientation": "h",
         "type": "bar",
         "x": [
          1
         ],
         "y": [
          99.96000000000001
         ]
        },
        {
         "customdata": [
          [
           1005
          ]
         ],
         "hovertemplate": "Counterparty: %{customdata[0]}<br>Amount: %{x}<br>Price: %{y}<extra></extra>",
         "marker": {
          "color": "green"
         },
         "name": "BUY 1005",
         "offsetgroup": "bid",
         "orientation": "h",
         "type": "bar",
         "x": [
          2
         ],
         "y": [
          99.96000000000001
         ]
        },
        {
         "customdata": [
          [
           1003
          ]
         ],
         "hovertemplate": "Counterparty: %{customdata[0]}<br>Amount: %{x}<br>Price: %{y}<extra></extra>",
         "marker": {
          "color": "green"
         },
         "name": "BUY 1003",
         "offsetgroup": "bid",
         "orientation": "h",
         "type": "bar",
         "x": [
          1
         ],
         "y": [
          99.96000000000001
         ]
        },
        {
         "customdata": [
          [
           1002
          ]
         ],
         "hovertemplate": "Counterparty: %{customdata[0]}<br>Amount: %{x}<br>Price: %{y}<extra></extra>",
         "marker": {
          "color": "green"
         },
         "name": "BUY 1002",
         "offsetgroup": "bid",
         "orientation": "h",
         "type": "bar",
         "x": [
          1
         ],
         "y": [
          99.96000000000001
         ]
        },
        {
         "customdata": [
          [
           1005
          ]
         ],
         "hovertemplate": "Counterparty: %{customdata[0]}<br>Amount: %{x}<br>Price: %{y}<extra></extra>",
         "marker": {
          "color": "green"
         },
         "name": "BUY 1005",
         "offsetgroup": "bid",
         "orientation": "h",
         "type": "bar",
         "x": [
          4
         ],
         "y": [
          99.96000000000001
         ]
        },
        {
         "customdata": [
          [
           1006
          ]
         ],
         "hovertemplate": "Counterparty: %{customdata[0]}<br>Amount: %{x}<br>Price: %{y}<extra></extra>",
         "marker": {
          "color": "green"
         },
         "name": "BUY 1006",
         "offsetgroup": "bid",
         "orientation": "h",
         "type": "bar",
         "x": [
          1
         ],
         "y": [
          99.96000000000001
         ]
        },
        {
         "customdata": [
          [
           1000
          ]
         ],
         "hovertemplate": "Counterparty: %{customdata[0]}<br>Amount: %{x}<br>Price: %{y}<extra></extra>",
         "marker": {
          "color": "green"
         },
         "name": "BUY 1000",
         "offsetgroup": "bid",
         "orientation": "h",
         "type": "bar",
         "x": [
          1
         ],
         "y": [
          99.96000000000001
         ]
        },
        {
         "customdata": [
          [
           1010
          ]
         ],
         "hovertemplate": "Counterparty: %{customdata[0]}<br>Amount: %{x}<br>Price: %{y}<extra></extra>",
         "marker": {
          "color": "green"
         },
         "name": "BUY 1010",
         "offsetgroup": "bid",
         "orientation": "h",
         "type": "bar",
         "x": [
          1
         ],
         "y": [
          99.96000000000001
         ]
        },
        {
         "customdata": [
          [
           1010
          ]
         ],
         "hovertemplate": "Counterparty: %{customdata[0]}<br>Amount: %{x}<br>Price: %{y}<extra></extra>",
         "marker": {
          "color": "green"
         },
         "name": "BUY 1010",
         "offsetgroup": "bid",
         "orientation": "h",
         "type": "bar",
         "x": [
          13
         ],
         "y": [
          99.95
         ]
        },
        {
         "customdata": [
          [
           1002
          ]
         ],
         "hovertemplate": "Counterparty: %{customdata[0]}<br>Amount: %{x}<br>Price: %{y}<extra></extra>",
         "marker": {
          "color": "green"
         },
         "name": "BUY 1002",
         "offsetgroup": "bid",
         "orientation": "h",
         "type": "bar",
         "x": [
          1
         ],
         "y": [
          99.95
         ]
        },
        {
         "customdata": [
          [
           1003
          ]
         ],
         "hovertemplate": "Counterparty: %{customdata[0]}<br>Amount: %{x}<br>Price: %{y}<extra></extra>",
         "marker": {
          "color": "green"
         },
         "name": "BUY 1003",
         "offsetgroup": "bid",
         "orientation": "h",
         "type": "bar",
         "x": [
          2
         ],
         "y": [
          99.95
         ]
        },
        {
         "customdata": [
          [
           1003
          ]
         ],
         "hovertemplate": "Counterparty: %{customdata[0]}<br>Amount: %{x}<br>Price: %{y}<extra></extra>",
         "marker": {
          "color": "green"
         },
         "name": "BUY 1003",
         "offsetgroup": "bid",
         "orientation": "h",
         "type": "bar",
         "x": [
          2
         ],
         "y": [
          99.95
         ]
        },
        {
         "customdata": [
          [
           1005
          ]
         ],
         "hovertemplate": "Counterparty: %{customdata[0]}<br>Amount: %{x}<br>Price: %{y}<extra></extra>",
         "marker": {
          "color": "green"
         },
         "name": "BUY 1005",
         "offsetgroup": "bid",
         "orientation": "h",
         "type": "bar",
         "x": [
          1
         ],
         "y": [
          99.95
         ]
        },
        {
         "customdata": [
          [
           1006
          ]
         ],
         "hovertemplate": "Counterparty: %{customdata[0]}<br>Amount: %{x}<br>Price: %{y}<extra></extra>",
         "marker": {
          "color": "green"
         },
         "name": "BUY 1006",
         "offsetgroup": "bid",
         "orientation": "h",
         "type": "bar",
         "x": [
          2
         ],
         "y": [
          99.95
         ]
        },
        {
         "customdata": [
          [
           1000
          ]
         ],
         "hovertemplate": "Counterparty: %{customdata[0]}<br>Amount: %{x}<br>Price: %{y}<extra></extra>",
         "marker": {
          "color": "green"
         },
         "name": "BUY 1000",
         "offsetgroup": "bid",
         "orientation": "h",
         "type": "bar",
         "x": [
          3
         ],
         "y": [
          99.95
         ]
        },
        {
         "customdata": [
          [
           1002
          ]
         ],
         "hovertemplate": "Counterparty: %{customdata[0]}<br>Amount: %{x}<br>Price: %{y}<extra></extra>",
         "marker": {
          "color": "green"
         },
         "name": "BUY 1002",
         "offsetgroup": "bid",
         "orientation": "h",
         "type": "bar",
         "x": [
          1
         ],
         "y": [
          99.95
         ]
        },
        {
         "customdata": [
          [
           1009
          ]
         ],
         "hovertemplate": "Counterparty: %{customdata[0]}<br>Amount: %{x}<br>Price: %{y}<extra></extra>",
         "marker": {
          "color": "green"
         },
         "name": "BUY 1009",
         "offsetgroup": "bid",
         "orientation": "h",
         "type": "bar",
         "x": [
          2
         ],
         "y": [
          99.94
         ]
        },
        {
         "customdata": [
          [
           1009
          ]
         ],
         "hovertemplate": "Counterparty: %{customdata[0]}<br>Amount: %{x}<br>Price: %{y}<extra></extra>",
         "marker": {
          "color": "green"
         },
         "name": "BUY 1009",
         "offsetgroup": "bid",
         "orientation": "h",
         "type": "bar",
         "x": [
          1
         ],
         "y": [
          99.94
         ]
        },
        {
         "customdata": [
          [
           1007
          ]
         ],
         "hovertemplate": "Counterparty: %{customdata[0]}<br>Amount: %{x}<br>Price: %{y}<extra></extra>",
         "marker": {
          "color": "green"
         },
         "name": "BUY 1007",
         "offsetgroup": "bid",
         "orientation": "h",
         "type": "bar",
         "x": [
          1
         ],
         "y": [
          99.94
         ]
        },
        {
         "customdata": [
          [
           1008
          ]
         ],
         "hovertemplate": "Counterparty: %{customdata[0]}<br>Amount: %{x}<br>Price: %{y}<extra></extra>",
         "marker": {
          "color": "green"
         },
         "name": "BUY 1008",
         "offsetgroup": "bid",
         "orientation": "h",
         "type": "bar",
         "x": [
          1
         ],
         "y": [
          99.94
         ]
        },
        {
         "customdata": [
          [
           1009
          ]
         ],
         "hovertemplate": "Counterparty: %{customdata[0]}<br>Amount: %{x}<br>Price: %{y}<extra></extra>",
         "marker": {
          "color": "green"
         },
         "name": "BUY 1009",
         "offsetgroup": "bid",
         "orientation": "h",
         "type": "bar",
         "x": [
          2
         ],
         "y": [
          99.94
         ]
        },
        {
         "customdata": [
          [
           1006
          ]
         ],
         "hovertemplate": "Counterparty: %{customdata[0]}<br>Amount: %{x}<br>Price: %{y}<extra></extra>",
         "marker": {
          "color": "green"
         },
         "name": "BUY 1006",
         "offsetgroup": "bid",
         "orientation": "h",
         "type": "bar",
         "x": [
          3
         ],
         "y": [
          99.94
         ]
        },
        {
         "customdata": [
          [
           1003
          ]
         ],
         "hovertemplate": "Counterparty: %{customdata[0]}<br>Amount: %{x}<br>Price: %{y}<extra></extra>",
         "marker": {
          "color": "green"
         },
         "name": "BUY 1003",
         "offsetgroup": "bid",
         "orientation": "h",
         "type": "bar",
         "x": [
          2
         ],
         "y": [
          99.94
         ]
        },
        {
         "customdata": [
          [
           1001
          ]
         ],
         "hovertemplate": "Counterparty: %{customdata[0]}<br>Amount: %{x}<br>Price: %{y}<extra></extra>",
         "marker": {
          "color": "green"
         },
         "name": "BUY 1001",
         "offsetgroup": "bid",
         "orientation": "h",
         "type": "bar",
         "x": [
          1
         ],
         "y": [
          99.94
         ]
        },
        {
         "customdata": [
          [
           1004
          ]
         ],
         "hovertemplate": "Counterparty: %{customdata[0]}<br>Amount: %{x}<br>Price: %{y}<extra></extra>",
         "marker": {
          "color": "green"
         },
         "name": "BUY 1004",
         "offsetgroup": "bid",
         "orientation": "h",
         "type": "bar",
         "x": [
          4
         ],
         "y": [
          99.93
         ]
        },
        {
         "customdata": [
          [
           1006
          ]
         ],
         "hovertemplate": "Counterparty: %{customdata[0]}<br>Amount: %{x}<br>Price: %{y}<extra></extra>",
         "marker": {
          "color": "green"
         },
         "name": "BUY 1006",
         "offsetgroup": "bid",
         "orientation": "h",
         "type": "bar",
         "x": [
          1
         ],
         "y": [
          99.93
         ]
        },
        {
         "customdata": [
          [
           1008
          ]
         ],
         "hovertemplate": "Counterparty: %{customdata[0]}<br>Amount: %{x}<br>Price: %{y}<extra></extra>",
         "marker": {
          "color": "green"
         },
         "name": "BUY 1008",
         "offsetgroup": "bid",
         "orientation": "h",
         "type": "bar",
         "x": [
          6
         ],
         "y": [
          99.93
         ]
        },
        {
         "customdata": [
          [
           1007
          ]
         ],
         "hovertemplate": "Counterparty: %{customdata[0]}<br>Amount: %{x}<br>Price: %{y}<extra></extra>",
         "marker": {
          "color": "green"
         },
         "name": "BUY 1007",
         "offsetgroup": "bid",
         "orientation": "h",
         "type": "bar",
         "x": [
          1
         ],
         "y": [
          99.93
         ]
        },
        {
         "customdata": [
          [
           1009
          ]
         ],
         "hovertemplate": "Counterparty: %{customdata[0]}<br>Amount: %{x}<br>Price: %{y}<extra></extra>",
         "marker": {
          "color": "green"
         },
         "name": "BUY 1009",
         "offsetgroup": "bid",
         "orientation": "h",
         "type": "bar",
         "x": [
          2
         ],
         "y": [
          99.93
         ]
        },
        {
         "customdata": [
          [
           1002
          ]
         ],
         "hovertemplate": "Counterparty: %{customdata[0]}<br>Amount: %{x}<br>Price: %{y}<extra></extra>",
         "marker": {
          "color": "green"
         },
         "name": "BUY 1002",
         "offsetgroup": "bid",
         "orientation": "h",
         "type": "bar",
         "x": [
          2
         ],
         "y": [
          99.92
         ]
        },
        {
         "customdata": [
          [
           1003
          ]
         ],
         "hovertemplate": "Counterparty: %{customdata[0]}<br>Amount: %{x}<br>Price: %{y}<extra></extra>",
         "marker": {
          "color": "green"
         },
         "name": "BUY 1003",
         "offsetgroup": "bid",
         "orientation": "h",
         "type": "bar",
         "x": [
          2
         ],
         "y": [
          99.92
         ]
        },
        {
         "customdata": [
          [
           1009
          ]
         ],
         "hovertemplate": "Counterparty: %{customdata[0]}<br>Amount: %{x}<br>Price: %{y}<extra></extra>",
         "marker": {
          "color": "green"
         },
         "name": "BUY 1009",
         "offsetgroup": "bid",
         "orientation": "h",
         "type": "bar",
         "x": [
          3
         ],
         "y": [
          99.92
         ]
        },
        {
         "customdata": [
          [
           1010
          ]
         ],
         "hovertemplate": "Counterparty: %{customdata[0]}<br>Amount: %{x}<br>Price: %{y}<extra></extra>",
         "marker": {
          "color": "green"
         },
         "name": "BUY 1010",
         "offsetgroup": "bid",
         "orientation": "h",
         "type": "bar",
         "x": [
          2
         ],
         "y": [
          99.91
         ]
        },
        {
         "customdata": [
          [
           1000
          ]
         ],
         "hovertemplate": "Counterparty: %{customdata[0]}<br>Amount: %{x}<br>Price: %{y}<extra></extra>",
         "marker": {
          "color": "green"
         },
         "name": "BUY 1000",
         "offsetgroup": "bid",
         "orientation": "h",
         "type": "bar",
         "x": [
          3
         ],
         "y": [
          99.91
         ]
        },
        {
         "customdata": [
          [
           1004
          ]
         ],
         "hovertemplate": "Counterparty: %{customdata[0]}<br>Amount: %{x}<br>Price: %{y}<extra></extra>",
         "marker": {
          "color": "green"
         },
         "name": "BUY 1004",
         "offsetgroup": "bid",
         "orientation": "h",
         "type": "bar",
         "x": [
          5
         ],
         "y": [
          99.91
         ]
        },
        {
         "customdata": [
          [
           1009
          ]
         ],
         "hovertemplate": "Counterparty: %{customdata[0]}<br>Amount: %{x}<br>Price: %{y}<extra></extra>",
         "marker": {
          "color": "green"
         },
         "name": "BUY 1009",
         "offsetgroup": "bid",
         "orientation": "h",
         "type": "bar",
         "x": [
          2
         ],
         "y": [
          99.9
         ]
        },
        {
         "customdata": [
          [
           1001
          ]
         ],
         "hovertemplate": "Counterparty: %{customdata[0]}<br>Amount: %{x}<br>Price: %{y}<extra></extra>",
         "marker": {
          "color": "green"
         },
         "name": "BUY 1001",
         "offsetgroup": "bid",
         "orientation": "h",
         "type": "bar",
         "x": [
          2
         ],
         "y": [
          99.9
         ]
        },
        {
         "customdata": [
          [
           1005
          ]
         ],
         "hovertemplate": "Counterparty: %{customdata[0]}<br>Amount: %{x}<br>Price: %{y}<extra></extra>",
         "marker": {
          "color": "red"
         },
         "name": "SELL 1005",
         "offsetgroup": "ask",
         "orientation": "h",
         "type": "bar",
         "x": [
          4
         ],
         "y": [
          100
         ]
        },
        {
         "customdata": [
          [
           1000
          ]
         ],
         "hovertemplate": "Counterparty: %{customdata[0]}<br>Amount: %{x}<br>Price: %{y}<extra></extra>",
         "marker": {
          "color": "red"
         },
         "name": "SELL 1000",
         "offsetgroup": "ask",
         "orientation": "h",
         "type": "bar",
         "x": [
          3
         ],
         "y": [
          100
         ]
        },
        {
         "customdata": [
          [
           1005
          ]
         ],
         "hovertemplate": "Counterparty: %{customdata[0]}<br>Amount: %{x}<br>Price: %{y}<extra></extra>",
         "marker": {
          "color": "red"
         },
         "name": "SELL 1005",
         "offsetgroup": "ask",
         "orientation": "h",
         "type": "bar",
         "x": [
          2
         ],
         "y": [
          100.01
         ]
        },
        {
         "customdata": [
          [
           1005
          ]
         ],
         "hovertemplate": "Counterparty: %{customdata[0]}<br>Amount: %{x}<br>Price: %{y}<extra></extra>",
         "marker": {
          "color": "red"
         },
         "name": "SELL 1005",
         "offsetgroup": "ask",
         "orientation": "h",
         "type": "bar",
         "x": [
          4
         ],
         "y": [
          100.01
         ]
        },
        {
         "customdata": [
          [
           1001
          ]
         ],
         "hovertemplate": "Counterparty: %{customdata[0]}<br>Amount: %{x}<br>Price: %{y}<extra></extra>",
         "marker": {
          "color": "red"
         },
         "name": "SELL 1001",
         "offsetgroup": "ask",
         "orientation": "h",
         "type": "bar",
         "x": [
          1
         ],
         "y": [
          100.01
         ]
        },
        {
         "customdata": [
          [
           1003
          ]
         ],
         "hovertemplate": "Counterparty: %{customdata[0]}<br>Amount: %{x}<br>Price: %{y}<extra></extra>",
         "marker": {
          "color": "red"
         },
         "name": "SELL 1003",
         "offsetgroup": "ask",
         "orientation": "h",
         "type": "bar",
         "x": [
          2
         ],
         "y": [
          100.01
         ]
        },
        {
         "customdata": [
          [
           1007
          ]
         ],
         "hovertemplate": "Counterparty: %{customdata[0]}<br>Amount: %{x}<br>Price: %{y}<extra></extra>",
         "marker": {
          "color": "red"
         },
         "name": "SELL 1007",
         "offsetgroup": "ask",
         "orientation": "h",
         "type": "bar",
         "x": [
          1
         ],
         "y": [
          100.01
         ]
        },
        {
         "customdata": [
          [
           1009
          ]
         ],
         "hovertemplate": "Counterparty: %{customdata[0]}<br>Amount: %{x}<br>Price: %{y}<extra></extra>",
         "marker": {
          "color": "red"
         },
         "name": "SELL 1009",
         "offsetgroup": "ask",
         "orientation": "h",
         "type": "bar",
         "x": [
          1
         ],
         "y": [
          100.01
         ]
        },
        {
         "customdata": [
          [
           1009
          ]
         ],
         "hovertemplate": "Counterparty: %{customdata[0]}<br>Amount: %{x}<br>Price: %{y}<extra></extra>",
         "marker": {
          "color": "red"
         },
         "name": "SELL 1009",
         "offsetgroup": "ask",
         "orientation": "h",
         "type": "bar",
         "x": [
          1
         ],
         "y": [
          100.01
         ]
        },
        {
         "customdata": [
          [
           1009
          ]
         ],
         "hovertemplate": "Counterparty: %{customdata[0]}<br>Amount: %{x}<br>Price: %{y}<extra></extra>",
         "marker": {
          "color": "red"
         },
         "name": "SELL 1009",
         "offsetgroup": "ask",
         "orientation": "h",
         "type": "bar",
         "x": [
          1
         ],
         "y": [
          100.01
         ]
        },
        {
         "customdata": [
          [
           1002
          ]
         ],
         "hovertemplate": "Counterparty: %{customdata[0]}<br>Amount: %{x}<br>Price: %{y}<extra></extra>",
         "marker": {
          "color": "red"
         },
         "name": "SELL 1002",
         "offsetgroup": "ask",
         "orientation": "h",
         "type": "bar",
         "x": [
          1
         ],
         "y": [
          100.01
         ]
        },
        {
         "customdata": [
          [
           1010
          ]
         ],
         "hovertemplate": "Counterparty: %{customdata[0]}<br>Amount: %{x}<br>Price: %{y}<extra></extra>",
         "marker": {
          "color": "red"
         },
         "name": "SELL 1010",
         "offsetgroup": "ask",
         "orientation": "h",
         "type": "bar",
         "x": [
          1
         ],
         "y": [
          100.01
         ]
        },
        {
         "customdata": [
          [
           1002
          ]
         ],
         "hovertemplate": "Counterparty: %{customdata[0]}<br>Amount: %{x}<br>Price: %{y}<extra></extra>",
         "marker": {
          "color": "red"
         },
         "name": "SELL 1002",
         "offsetgroup": "ask",
         "orientation": "h",
         "type": "bar",
         "x": [
          1
         ],
         "y": [
          100.02
         ]
        },
        {
         "customdata": [
          [
           1000
          ]
         ],
         "hovertemplate": "Counterparty: %{customdata[0]}<br>Amount: %{x}<br>Price: %{y}<extra></extra>",
         "marker": {
          "color": "red"
         },
         "name": "SELL 1000",
         "offsetgroup": "ask",
         "orientation": "h",
         "type": "bar",
         "x": [
          2
         ],
         "y": [
          100.02
         ]
        },
        {
         "customdata": [
          [
           1002
          ]
         ],
         "hovertemplate": "Counterparty: %{customdata[0]}<br>Amount: %{x}<br>Price: %{y}<extra></extra>",
         "marker": {
          "color": "red"
         },
         "name": "SELL 1002",
         "offsetgroup": "ask",
         "orientation": "h",
         "type": "bar",
         "x": [
          1
         ],
         "y": [
          100.02
         ]
        },
        {
         "customdata": [
          [
           1007
          ]
         ],
         "hovertemplate": "Counterparty: %{customdata[0]}<br>Amount: %{x}<br>Price: %{y}<extra></extra>",
         "marker": {
          "color": "red"
         },
         "name": "SELL 1007",
         "offsetgroup": "ask",
         "orientation": "h",
         "type": "bar",
         "x": [
          1
         ],
         "y": [
          100.02
         ]
        },
        {
         "customdata": [
          [
           1001
          ]
         ],
         "hovertemplate": "Counterparty: %{customdata[0]}<br>Amount: %{x}<br>Price: %{y}<extra></extra>",
         "marker": {
          "color": "red"
         },
         "name": "SELL 1001",
         "offsetgroup": "ask",
         "orientation": "h",
         "type": "bar",
         "x": [
          2
         ],
         "y": [
          100.02
         ]
        },
        {
         "customdata": [
          [
           1002
          ]
         ],
         "hovertemplate": "Counterparty: %{customdata[0]}<br>Amount: %{x}<br>Price: %{y}<extra></extra>",
         "marker": {
          "color": "red"
         },
         "name": "SELL 1002",
         "offsetgroup": "ask",
         "orientation": "h",
         "type": "bar",
         "x": [
          4
         ],
         "y": [
          100.02
         ]
        },
        {
         "customdata": [
          [
           1010
          ]
         ],
         "hovertemplate": "Counterparty: %{customdata[0]}<br>Amount: %{x}<br>Price: %{y}<extra></extra>",
         "marker": {
          "color": "red"
         },
         "name": "SELL 1010",
         "offsetgroup": "ask",
         "orientation": "h",
         "type": "bar",
         "x": [
          1
         ],
         "y": [
          100.02
         ]
        },
        {
         "customdata": [
          [
           1006
          ]
         ],
         "hovertemplate": "Counterparty: %{customdata[0]}<br>Amount: %{x}<br>Price: %{y}<extra></extra>",
         "marker": {
          "color": "red"
         },
         "name": "SELL 1006",
         "offsetgroup": "ask",
         "orientation": "h",
         "type": "bar",
         "x": [
          1
         ],
         "y": [
          100.02
         ]
        },
        {
         "customdata": [
          [
           1005
          ]
         ],
         "hovertemplate": "Counterparty: %{customdata[0]}<br>Amount: %{x}<br>Price: %{y}<extra></extra>",
         "marker": {
          "color": "red"
         },
         "name": "SELL 1005",
         "offsetgroup": "ask",
         "orientation": "h",
         "type": "bar",
         "x": [
          1
         ],
         "y": [
          100.03
         ]
        },
        {
         "customdata": [
          [
           1000
          ]
         ],
         "hovertemplate": "Counterparty: %{customdata[0]}<br>Amount: %{x}<br>Price: %{y}<extra></extra>",
         "marker": {
          "color": "red"
         },
         "name": "SELL 1000",
         "offsetgroup": "ask",
         "orientation": "h",
         "type": "bar",
         "x": [
          1
         ],
         "y": [
          100.03
         ]
        },
        {
         "customdata": [
          [
           1000
          ]
         ],
         "hovertemplate": "Counterparty: %{customdata[0]}<br>Amount: %{x}<br>Price: %{y}<extra></extra>",
         "marker": {
          "color": "red"
         },
         "name": "SELL 1000",
         "offsetgroup": "ask",
         "orientation": "h",
         "type": "bar",
         "x": [
          2
         ],
         "y": [
          100.03
         ]
        },
        {
         "customdata": [
          [
           1008
          ]
         ],
         "hovertemplate": "Counterparty: %{customdata[0]}<br>Amount: %{x}<br>Price: %{y}<extra></extra>",
         "marker": {
          "color": "red"
         },
         "name": "SELL 1008",
         "offsetgroup": "ask",
         "orientation": "h",
         "type": "bar",
         "x": [
          1
         ],
         "y": [
          100.03
         ]
        },
        {
         "customdata": [
          [
           1008
          ]
         ],
         "hovertemplate": "Counterparty: %{customdata[0]}<br>Amount: %{x}<br>Price: %{y}<extra></extra>",
         "marker": {
          "color": "red"
         },
         "name": "SELL 1008",
         "offsetgroup": "ask",
         "orientation": "h",
         "type": "bar",
         "x": [
          1
         ],
         "y": [
          100.03
         ]
        },
        {
         "customdata": [
          [
           1003
          ]
         ],
         "hovertemplate": "Counterparty: %{customdata[0]}<br>Amount: %{x}<br>Price: %{y}<extra></extra>",
         "marker": {
          "color": "red"
         },
         "name": "SELL 1003",
         "offsetgroup": "ask",
         "orientation": "h",
         "type": "bar",
         "x": [
          1
         ],
         "y": [
          100.03
         ]
        },
        {
         "customdata": [
          [
           1004
          ]
         ],
         "hovertemplate": "Counterparty: %{customdata[0]}<br>Amount: %{x}<br>Price: %{y}<extra></extra>",
         "marker": {
          "color": "red"
         },
         "name": "SELL 1004",
         "offsetgroup": "ask",
         "orientation": "h",
         "type": "bar",
         "x": [
          1
         ],
         "y": [
          100.04
         ]
        },
        {
         "customdata": [
          [
           1006
          ]
         ],
         "hovertemplate": "Counterparty: %{customdata[0]}<br>Amount: %{x}<br>Price: %{y}<extra></extra>",
         "marker": {
          "color": "red"
         },
         "name": "SELL 1006",
         "offsetgroup": "ask",
         "orientation": "h",
         "type": "bar",
         "x": [
          2
         ],
         "y": [
          100.04
         ]
        },
        {
         "customdata": [
          [
           1000
          ]
         ],
         "hovertemplate": "Counterparty: %{customdata[0]}<br>Amount: %{x}<br>Price: %{y}<extra></extra>",
         "marker": {
          "color": "red"
         },
         "name": "SELL 1000",
         "offsetgroup": "ask",
         "orientation": "h",
         "type": "bar",
         "x": [
          4
         ],
         "y": [
          100.04
         ]
        },
        {
         "customdata": [
          [
           1007
          ]
         ],
         "hovertemplate": "Counterparty: %{customdata[0]}<br>Amount: %{x}<br>Price: %{y}<extra></extra>",
         "marker": {
          "color": "red"
         },
         "name": "SELL 1007",
         "offsetgroup": "ask",
         "orientation": "h",
         "type": "bar",
         "x": [
          5
         ],
         "y": [
          100.04
         ]
        },
        {
         "customdata": [
          [
           1004
          ]
         ],
         "hovertemplate": "Counterparty: %{customdata[0]}<br>Amount: %{x}<br>Price: %{y}<extra></extra>",
         "marker": {
          "color": "red"
         },
         "name": "SELL 1004",
         "offsetgroup": "ask",
         "orientation": "h",
         "type": "bar",
         "x": [
          1
         ],
         "y": [
          100.04
         ]
        },
        {
         "customdata": [
          [
           1004
          ]
         ],
         "hovertemplate": "Counterparty: %{customdata[0]}<br>Amount: %{x}<br>Price: %{y}<extra></extra>",
         "marker": {
          "color": "red"
         },
         "name": "SELL 1004",
         "offsetgroup": "ask",
         "orientation": "h",
         "type": "bar",
         "x": [
          1
         ],
         "y": [
          100.04
         ]
        },
        {
         "customdata": [
          [
           1002
          ]
         ],
         "hovertemplate": "Counterparty: %{customdata[0]}<br>Amount: %{x}<br>Price: %{y}<extra></extra>",
         "marker": {
          "color": "red"
         },
         "name": "SELL 1002",
         "offsetgroup": "ask",
         "orientation": "h",
         "type": "bar",
         "x": [
          1
         ],
         "y": [
          100.04
         ]
        },
        {
         "customdata": [
          [
           1005
          ]
         ],
         "hovertemplate": "Counterparty: %{customdata[0]}<br>Amount: %{x}<br>Price: %{y}<extra></extra>",
         "marker": {
          "color": "red"
         },
         "name": "SELL 1005",
         "offsetgroup": "ask",
         "orientation": "h",
         "type": "bar",
         "x": [
          3
         ],
         "y": [
          100.04
         ]
        },
        {
         "customdata": [
          [
           1008
          ]
         ],
         "hovertemplate": "Counterparty: %{customdata[0]}<br>Amount: %{x}<br>Price: %{y}<extra></extra>",
         "marker": {
          "color": "red"
         },
         "name": "SELL 1008",
         "offsetgroup": "ask",
         "orientation": "h",
         "type": "bar",
         "x": [
          1
         ],
         "y": [
          100.04
         ]
        },
        {
         "customdata": [
          [
           1005
          ]
         ],
         "hovertemplate": "Counterparty: %{customdata[0]}<br>Amount: %{x}<br>Price: %{y}<extra></extra>",
         "marker": {
          "color": "red"
         },
         "name": "SELL 1005",
         "offsetgroup": "ask",
         "orientation": "h",
         "type": "bar",
         "x": [
          2
         ],
         "y": [
          100.04
         ]
        },
        {
         "customdata": [
          [
           1002
          ]
         ],
         "hovertemplate": "Counterparty: %{customdata[0]}<br>Amount: %{x}<br>Price: %{y}<extra></extra>",
         "marker": {
          "color": "red"
         },
         "name": "SELL 1002",
         "offsetgroup": "ask",
         "orientation": "h",
         "type": "bar",
         "x": [
          4
         ],
         "y": [
          100.05
         ]
        },
        {
         "customdata": [
          [
           1001
          ]
         ],
         "hovertemplate": "Counterparty: %{customdata[0]}<br>Amount: %{x}<br>Price: %{y}<extra></extra>",
         "marker": {
          "color": "red"
         },
         "name": "SELL 1001",
         "offsetgroup": "ask",
         "orientation": "h",
         "type": "bar",
         "x": [
          3
         ],
         "y": [
          100.05
         ]
        },
        {
         "customdata": [
          [
           1001
          ]
         ],
         "hovertemplate": "Counterparty: %{customdata[0]}<br>Amount: %{x}<br>Price: %{y}<extra></extra>",
         "marker": {
          "color": "red"
         },
         "name": "SELL 1001",
         "offsetgroup": "ask",
         "orientation": "h",
         "type": "bar",
         "x": [
          1
         ],
         "y": [
          100.05
         ]
        },
        {
         "customdata": [
          [
           1005
          ]
         ],
         "hovertemplate": "Counterparty: %{customdata[0]}<br>Amount: %{x}<br>Price: %{y}<extra></extra>",
         "marker": {
          "color": "red"
         },
         "name": "SELL 1005",
         "offsetgroup": "ask",
         "orientation": "h",
         "type": "bar",
         "x": [
          1
         ],
         "y": [
          100.05
         ]
        },
        {
         "customdata": [
          [
           1004
          ]
         ],
         "hovertemplate": "Counterparty: %{customdata[0]}<br>Amount: %{x}<br>Price: %{y}<extra></extra>",
         "marker": {
          "color": "red"
         },
         "name": "SELL 1004",
         "offsetgroup": "ask",
         "orientation": "h",
         "type": "bar",
         "x": [
          1
         ],
         "y": [
          100.05
         ]
        },
        {
         "customdata": [
          [
           1008
          ]
         ],
         "hovertemplate": "Counterparty: %{customdata[0]}<br>Amount: %{x}<br>Price: %{y}<extra></extra>",
         "marker": {
          "color": "red"
         },
         "name": "SELL 1008",
         "offsetgroup": "ask",
         "orientation": "h",
         "type": "bar",
         "x": [
          1
         ],
         "y": [
          100.06
         ]
        },
        {
         "customdata": [
          [
           1004
          ]
         ],
         "hovertemplate": "Counterparty: %{customdata[0]}<br>Amount: %{x}<br>Price: %{y}<extra></extra>",
         "marker": {
          "color": "red"
         },
         "name": "SELL 1004",
         "offsetgroup": "ask",
         "orientation": "h",
         "type": "bar",
         "x": [
          1
         ],
         "y": [
          100.06
         ]
        },
        {
         "customdata": [
          [
           1001
          ]
         ],
         "hovertemplate": "Counterparty: %{customdata[0]}<br>Amount: %{x}<br>Price: %{y}<extra></extra>",
         "marker": {
          "color": "red"
         },
         "name": "SELL 1001",
         "offsetgroup": "ask",
         "orientation": "h",
         "type": "bar",
         "x": [
          1
         ],
         "y": [
          100.06
         ]
        },
        {
         "customdata": [
          [
           1001
          ]
         ],
         "hovertemplate": "Counterparty: %{customdata[0]}<br>Amount: %{x}<br>Price: %{y}<extra></extra>",
         "marker": {
          "color": "red"
         },
         "name": "SELL 1001",
         "offsetgroup": "ask",
         "orientation": "h",
         "type": "bar",
         "x": [
          1
         ],
         "y": [
          100.06
         ]
        },
        {
         "customdata": [
          [
           1003
          ]
         ],
         "hovertemplate": "Counterparty: %{customdata[0]}<br>Amount: %{x}<br>Price: %{y}<extra></extra>",
         "marker": {
          "color": "red"
         },
         "name": "SELL 1003",
         "offsetgroup": "ask",
         "orientation": "h",
         "type": "bar",
         "x": [
          2
         ],
         "y": [
          100.06
         ]
        },
        {
         "customdata": [
          [
           1008
          ]
         ],
         "hovertemplate": "Counterparty: %{customdata[0]}<br>Amount: %{x}<br>Price: %{y}<extra></extra>",
         "marker": {
          "color": "red"
         },
         "name": "SELL 1008",
         "offsetgroup": "ask",
         "orientation": "h",
         "type": "bar",
         "x": [
          1
         ],
         "y": [
          100.06
         ]
        },
        {
         "customdata": [
          [
           1000
          ]
         ],
         "hovertemplate": "Counterparty: %{customdata[0]}<br>Amount: %{x}<br>Price: %{y}<extra></extra>",
         "marker": {
          "color": "red"
         },
         "name": "SELL 1000",
         "offsetgroup": "ask",
         "orientation": "h",
         "type": "bar",
         "x": [
          1
         ],
         "y": [
          100.06
         ]
        },
        {
         "customdata": [
          [
           1008
          ]
         ],
         "hovertemplate": "Counterparty: %{customdata[0]}<br>Amount: %{x}<br>Price: %{y}<extra></extra>",
         "marker": {
          "color": "red"
         },
         "name": "SELL 1008",
         "offsetgroup": "ask",
         "orientation": "h",
         "type": "bar",
         "x": [
          4
         ],
         "y": [
          100.06
         ]
        },
        {
         "customdata": [
          [
           1002
          ]
         ],
         "hovertemplate": "Counterparty: %{customdata[0]}<br>Amount: %{x}<br>Price: %{y}<extra></extra>",
         "marker": {
          "color": "red"
         },
         "name": "SELL 1002",
         "offsetgroup": "ask",
         "orientation": "h",
         "type": "bar",
         "x": [
          1
         ],
         "y": [
          100.06
         ]
        },
        {
         "customdata": [
          [
           1002
          ]
         ],
         "hovertemplate": "Counterparty: %{customdata[0]}<br>Amount: %{x}<br>Price: %{y}<extra></extra>",
         "marker": {
          "color": "red"
         },
         "name": "SELL 1002",
         "offsetgroup": "ask",
         "orientation": "h",
         "type": "bar",
         "x": [
          4
         ],
         "y": [
          100.06
         ]
        },
        {
         "customdata": [
          [
           1010
          ]
         ],
         "hovertemplate": "Counterparty: %{customdata[0]}<br>Amount: %{x}<br>Price: %{y}<extra></extra>",
         "marker": {
          "color": "red"
         },
         "name": "SELL 1010",
         "offsetgroup": "ask",
         "orientation": "h",
         "type": "bar",
         "x": [
          1
         ],
         "y": [
          100.06
         ]
        },
        {
         "customdata": [
          [
           1009
          ]
         ],
         "hovertemplate": "Counterparty: %{customdata[0]}<br>Amount: %{x}<br>Price: %{y}<extra></extra>",
         "marker": {
          "color": "red"
         },
         "name": "SELL 1009",
         "offsetgroup": "ask",
         "orientation": "h",
         "type": "bar",
         "x": [
          1
         ],
         "y": [
          100.06
         ]
        },
        {
         "customdata": [
          [
           1006
          ]
         ],
         "hovertemplate": "Counterparty: %{customdata[0]}<br>Amount: %{x}<br>Price: %{y}<extra></extra>",
         "marker": {
          "color": "red"
         },
         "name": "SELL 1006",
         "offsetgroup": "ask",
         "orientation": "h",
         "type": "bar",
         "x": [
          1
         ],
         "y": [
          100.07000000000001
         ]
        },
        {
         "customdata": [
          [
           1002
          ]
         ],
         "hovertemplate": "Counterparty: %{customdata[0]}<br>Amount: %{x}<br>Price: %{y}<extra></extra>",
         "marker": {
          "color": "red"
         },
         "name": "SELL 1002",
         "offsetgroup": "ask",
         "orientation": "h",
         "type": "bar",
         "x": [
          2
         ],
         "y": [
          100.07000000000001
         ]
        },
        {
         "customdata": [
          [
           1000
          ]
         ],
         "hovertemplate": "Counterparty: %{customdata[0]}<br>Amount: %{x}<br>Price: %{y}<extra></extra>",
         "marker": {
          "color": "red"
         },
         "name": "SELL 1000",
         "offsetgroup": "ask",
         "orientation": "h",
         "type": "bar",
         "x": [
          2
         ],
         "y": [
          100.07000000000001
         ]
        },
        {
         "customdata": [
          [
           1006
          ]
         ],
         "hovertemplate": "Counterparty: %{customdata[0]}<br>Amount: %{x}<br>Price: %{y}<extra></extra>",
         "marker": {
          "color": "red"
         },
         "name": "SELL 1006",
         "offsetgroup": "ask",
         "orientation": "h",
         "type": "bar",
         "x": [
          7
         ],
         "y": [
          100.07000000000001
         ]
        },
        {
         "customdata": [
          [
           1000
          ]
         ],
         "hovertemplate": "Counterparty: %{customdata[0]}<br>Amount: %{x}<br>Price: %{y}<extra></extra>",
         "marker": {
          "color": "red"
         },
         "name": "SELL 1000",
         "offsetgroup": "ask",
         "orientation": "h",
         "type": "bar",
         "x": [
          7
         ],
         "y": [
          100.08
         ]
        },
        {
         "customdata": [
          [
           1003
          ]
         ],
         "hovertemplate": "Counterparty: %{customdata[0]}<br>Amount: %{x}<br>Price: %{y}<extra></extra>",
         "marker": {
          "color": "red"
         },
         "name": "SELL 1003",
         "offsetgroup": "ask",
         "orientation": "h",
         "type": "bar",
         "x": [
          2
         ],
         "y": [
          100.08
         ]
        },
        {
         "customdata": [
          [
           1005
          ]
         ],
         "hovertemplate": "Counterparty: %{customdata[0]}<br>Amount: %{x}<br>Price: %{y}<extra></extra>",
         "marker": {
          "color": "red"
         },
         "name": "SELL 1005",
         "offsetgroup": "ask",
         "orientation": "h",
         "type": "bar",
         "x": [
          5
         ],
         "y": [
          100.09
         ]
        },
        {
         "customdata": [
          [
           1002
          ]
         ],
         "hovertemplate": "Counterparty: %{customdata[0]}<br>Amount: %{x}<br>Price: %{y}<extra></extra>",
         "marker": {
          "color": "red"
         },
         "name": "SELL 1002",
         "offsetgroup": "ask",
         "orientation": "h",
         "type": "bar",
         "x": [
          2
         ],
         "y": [
          100.09
         ]
        }
       ],
       "layout": {
        "barmode": "stack",
        "hovermode": "closest",
        "template": {
         "data": {
          "bar": [
           {
            "error_x": {
             "color": "#2a3f5f"
            },
            "error_y": {
             "color": "#2a3f5f"
            },
            "marker": {
             "line": {
              "color": "#E5ECF6",
              "width": 0.5
             },
             "pattern": {
              "fillmode": "overlay",
              "size": 10,
              "solidity": 0.2
             }
            },
            "type": "bar"
           }
          ],
          "barpolar": [
           {
            "marker": {
             "line": {
              "color": "#E5ECF6",
              "width": 0.5
             },
             "pattern": {
              "fillmode": "overlay",
              "size": 10,
              "solidity": 0.2
             }
            },
            "type": "barpolar"
           }
          ],
          "carpet": [
           {
            "aaxis": {
             "endlinecolor": "#2a3f5f",
             "gridcolor": "white",
             "linecolor": "white",
             "minorgridcolor": "white",
             "startlinecolor": "#2a3f5f"
            },
            "baxis": {
             "endlinecolor": "#2a3f5f",
             "gridcolor": "white",
             "linecolor": "white",
             "minorgridcolor": "white",
             "startlinecolor": "#2a3f5f"
            },
            "type": "carpet"
           }
          ],
          "choropleth": [
           {
            "colorbar": {
             "outlinewidth": 0,
             "ticks": ""
            },
            "type": "choropleth"
           }
          ],
          "contour": [
           {
            "colorbar": {
             "outlinewidth": 0,
             "ticks": ""
            },
            "colorscale": [
             [
              0,
              "#0d0887"
             ],
             [
              0.1111111111111111,
              "#46039f"
             ],
             [
              0.2222222222222222,
              "#7201a8"
             ],
             [
              0.3333333333333333,
              "#9c179e"
             ],
             [
              0.4444444444444444,
              "#bd3786"
             ],
             [
              0.5555555555555556,
              "#d8576b"
             ],
             [
              0.6666666666666666,
              "#ed7953"
             ],
             [
              0.7777777777777778,
              "#fb9f3a"
             ],
             [
              0.8888888888888888,
              "#fdca26"
             ],
             [
              1,
              "#f0f921"
             ]
            ],
            "type": "contour"
           }
          ],
          "contourcarpet": [
           {
            "colorbar": {
             "outlinewidth": 0,
             "ticks": ""
            },
            "type": "contourcarpet"
           }
          ],
          "heatmap": [
           {
            "colorbar": {
             "outlinewidth": 0,
             "ticks": ""
            },
            "colorscale": [
             [
              0,
              "#0d0887"
             ],
             [
              0.1111111111111111,
              "#46039f"
             ],
             [
              0.2222222222222222,
              "#7201a8"
             ],
             [
              0.3333333333333333,
              "#9c179e"
             ],
             [
              0.4444444444444444,
              "#bd3786"
             ],
             [
              0.5555555555555556,
              "#d8576b"
             ],
             [
              0.6666666666666666,
              "#ed7953"
             ],
             [
              0.7777777777777778,
              "#fb9f3a"
             ],
             [
              0.8888888888888888,
              "#fdca26"
             ],
             [
              1,
              "#f0f921"
             ]
            ],
            "type": "heatmap"
           }
          ],
          "histogram": [
           {
            "marker": {
             "pattern": {
              "fillmode": "overlay",
              "size": 10,
              "solidity": 0.2
             }
            },
            "type": "histogram"
           }
          ],
          "histogram2d": [
           {
            "colorbar": {
             "outlinewidth": 0,
             "ticks": ""
            },
            "colorscale": [
             [
              0,
              "#0d0887"
             ],
             [
              0.1111111111111111,
              "#46039f"
             ],
             [
              0.2222222222222222,
              "#7201a8"
             ],
             [
              0.3333333333333333,
              "#9c179e"
             ],
             [
              0.4444444444444444,
              "#bd3786"
             ],
             [
              0.5555555555555556,
              "#d8576b"
             ],
             [
              0.6666666666666666,
              "#ed7953"
             ],
             [
              0.7777777777777778,
              "#fb9f3a"
             ],
             [
              0.8888888888888888,
              "#fdca26"
             ],
             [
              1,
              "#f0f921"
             ]
            ],
            "type": "histogram2d"
           }
          ],
          "histogram2dcontour": [
           {
            "colorbar": {
             "outlinewidth": 0,
             "ticks": ""
            },
            "colorscale": [
             [
              0,
              "#0d0887"
             ],
             [
              0.1111111111111111,
              "#46039f"
             ],
             [
              0.2222222222222222,
              "#7201a8"
             ],
             [
              0.3333333333333333,
              "#9c179e"
             ],
             [
              0.4444444444444444,
              "#bd3786"
             ],
             [
              0.5555555555555556,
              "#d8576b"
             ],
             [
              0.6666666666666666,
              "#ed7953"
             ],
             [
              0.7777777777777778,
              "#fb9f3a"
             ],
             [
              0.8888888888888888,
              "#fdca26"
             ],
             [
              1,
              "#f0f921"
             ]
            ],
            "type": "histogram2dcontour"
           }
          ],
          "mesh3d": [
           {
            "colorbar": {
             "outlinewidth": 0,
             "ticks": ""
            },
            "type": "mesh3d"
           }
          ],
          "parcoords": [
           {
            "line": {
             "colorbar": {
              "outlinewidth": 0,
              "ticks": ""
             }
            },
            "type": "parcoords"
           }
          ],
          "pie": [
           {
            "automargin": true,
            "type": "pie"
           }
          ],
          "scatter": [
           {
            "fillpattern": {
             "fillmode": "overlay",
             "size": 10,
             "solidity": 0.2
            },
            "type": "scatter"
           }
          ],
          "scatter3d": [
           {
            "line": {
             "colorbar": {
              "outlinewidth": 0,
              "ticks": ""
             }
            },
            "marker": {
             "colorbar": {
              "outlinewidth": 0,
              "ticks": ""
             }
            },
            "type": "scatter3d"
           }
          ],
          "scattercarpet": [
           {
            "marker": {
             "colorbar": {
              "outlinewidth": 0,
              "ticks": ""
             }
            },
            "type": "scattercarpet"
           }
          ],
          "scattergeo": [
           {
            "marker": {
             "colorbar": {
              "outlinewidth": 0,
              "ticks": ""
             }
            },
            "type": "scattergeo"
           }
          ],
          "scattergl": [
           {
            "marker": {
             "colorbar": {
              "outlinewidth": 0,
              "ticks": ""
             }
            },
            "type": "scattergl"
           }
          ],
          "scattermap": [
           {
            "marker": {
             "colorbar": {
              "outlinewidth": 0,
              "ticks": ""
             }
            },
            "type": "scattermap"
           }
          ],
          "scattermapbox": [
           {
            "marker": {
             "colorbar": {
              "outlinewidth": 0,
              "ticks": ""
             }
            },
            "type": "scattermapbox"
           }
          ],
          "scatterpolar": [
           {
            "marker": {
             "colorbar": {
              "outlinewidth": 0,
              "ticks": ""
             }
            },
            "type": "scatterpolar"
           }
          ],
          "scatterpolargl": [
           {
            "marker": {
             "colorbar": {
              "outlinewidth": 0,
              "ticks": ""
             }
            },
            "type": "scatterpolargl"
           }
          ],
          "scatterternary": [
           {
            "marker": {
             "colorbar": {
              "outlinewidth": 0,
              "ticks": ""
             }
            },
            "type": "scatterternary"
           }
          ],
          "surface": [
           {
            "colorbar": {
             "outlinewidth": 0,
             "ticks": ""
            },
            "colorscale": [
             [
              0,
              "#0d0887"
             ],
             [
              0.1111111111111111,
              "#46039f"
             ],
             [
              0.2222222222222222,
              "#7201a8"
             ],
             [
              0.3333333333333333,
              "#9c179e"
             ],
             [
              0.4444444444444444,
              "#bd3786"
             ],
             [
              0.5555555555555556,
              "#d8576b"
             ],
             [
              0.6666666666666666,
              "#ed7953"
             ],
             [
              0.7777777777777778,
              "#fb9f3a"
             ],
             [
              0.8888888888888888,
              "#fdca26"
             ],
             [
              1,
              "#f0f921"
             ]
            ],
            "type": "surface"
           }
          ],
          "table": [
           {
            "cells": {
             "fill": {
              "color": "#EBF0F8"
             },
             "line": {
              "color": "white"
             }
            },
            "header": {
             "fill": {
              "color": "#C8D4E3"
             },
             "line": {
              "color": "white"
             }
            },
            "type": "table"
           }
          ]
         },
         "layout": {
          "annotationdefaults": {
           "arrowcolor": "#2a3f5f",
           "arrowhead": 0,
           "arrowwidth": 1
          },
          "autotypenumbers": "strict",
          "coloraxis": {
           "colorbar": {
            "outlinewidth": 0,
            "ticks": ""
           }
          },
          "colorscale": {
           "diverging": [
            [
             0,
             "#8e0152"
            ],
            [
             0.1,
             "#c51b7d"
            ],
            [
             0.2,
             "#de77ae"
            ],
            [
             0.3,
             "#f1b6da"
            ],
            [
             0.4,
             "#fde0ef"
            ],
            [
             0.5,
             "#f7f7f7"
            ],
            [
             0.6,
             "#e6f5d0"
            ],
            [
             0.7,
             "#b8e186"
            ],
            [
             0.8,
             "#7fbc41"
            ],
            [
             0.9,
             "#4d9221"
            ],
            [
             1,
             "#276419"
            ]
           ],
           "sequential": [
            [
             0,
             "#0d0887"
            ],
            [
             0.1111111111111111,
             "#46039f"
            ],
            [
             0.2222222222222222,
             "#7201a8"
            ],
            [
             0.3333333333333333,
             "#9c179e"
            ],
            [
             0.4444444444444444,
             "#bd3786"
            ],
            [
             0.5555555555555556,
             "#d8576b"
            ],
            [
             0.6666666666666666,
             "#ed7953"
            ],
            [
             0.7777777777777778,
             "#fb9f3a"
            ],
            [
             0.8888888888888888,
             "#fdca26"
            ],
            [
             1,
             "#f0f921"
            ]
           ],
           "sequentialminus": [
            [
             0,
             "#0d0887"
            ],
            [
             0.1111111111111111,
             "#46039f"
            ],
            [
             0.2222222222222222,
             "#7201a8"
            ],
            [
             0.3333333333333333,
             "#9c179e"
            ],
            [
             0.4444444444444444,
             "#bd3786"
            ],
            [
             0.5555555555555556,
             "#d8576b"
            ],
            [
             0.6666666666666666,
             "#ed7953"
            ],
            [
             0.7777777777777778,
             "#fb9f3a"
            ],
            [
             0.8888888888888888,
             "#fdca26"
            ],
            [
             1,
             "#f0f921"
            ]
           ]
          },
          "colorway": [
           "#636efa",
           "#EF553B",
           "#00cc96",
           "#ab63fa",
           "#FFA15A",
           "#19d3f3",
           "#FF6692",
           "#B6E880",
           "#FF97FF",
           "#FECB52"
          ],
          "font": {
           "color": "#2a3f5f"
          },
          "geo": {
           "bgcolor": "white",
           "lakecolor": "white",
           "landcolor": "#E5ECF6",
           "showlakes": true,
           "showland": true,
           "subunitcolor": "white"
          },
          "hoverlabel": {
           "align": "left"
          },
          "hovermode": "closest",
          "mapbox": {
           "style": "light"
          },
          "paper_bgcolor": "white",
          "plot_bgcolor": "#E5ECF6",
          "polar": {
           "angularaxis": {
            "gridcolor": "white",
            "linecolor": "white",
            "ticks": ""
           },
           "bgcolor": "#E5ECF6",
           "radialaxis": {
            "gridcolor": "white",
            "linecolor": "white",
            "ticks": ""
           }
          },
          "scene": {
           "xaxis": {
            "backgroundcolor": "#E5ECF6",
            "gridcolor": "white",
            "gridwidth": 2,
            "linecolor": "white",
            "showbackground": true,
            "ticks": "",
            "zerolinecolor": "white"
           },
           "yaxis": {
            "backgroundcolor": "#E5ECF6",
            "gridcolor": "white",
            "gridwidth": 2,
            "linecolor": "white",
            "showbackground": true,
            "ticks": "",
            "zerolinecolor": "white"
           },
           "zaxis": {
            "backgroundcolor": "#E5ECF6",
            "gridcolor": "white",
            "gridwidth": 2,
            "linecolor": "white",
            "showbackground": true,
            "ticks": "",
            "zerolinecolor": "white"
           }
          },
          "shapedefaults": {
           "line": {
            "color": "#2a3f5f"
           }
          },
          "ternary": {
           "aaxis": {
            "gridcolor": "white",
            "linecolor": "white",
            "ticks": ""
           },
           "baxis": {
            "gridcolor": "white",
            "linecolor": "white",
            "ticks": ""
           },
           "bgcolor": "#E5ECF6",
           "caxis": {
            "gridcolor": "white",
            "linecolor": "white",
            "ticks": ""
           }
          },
          "title": {
           "x": 0.05
          },
          "xaxis": {
           "automargin": true,
           "gridcolor": "white",
           "linecolor": "white",
           "ticks": "",
           "title": {
            "standoff": 15
           },
           "zerolinecolor": "white",
           "zerolinewidth": 2
          },
          "yaxis": {
           "automargin": true,
           "gridcolor": "white",
           "linecolor": "white",
           "ticks": "",
           "title": {
            "standoff": 15
           },
           "zerolinecolor": "white",
           "zerolinewidth": 2
          }
         }
        },
        "title": {
         "text": "Order Book (Depth = 10) for MVDA"
        },
        "xaxis": {
         "title": {
          "text": "Volume (Amount)"
         }
        },
        "yaxis": {
         "dtick": 0.01,
         "range": [
          99.89,
          100.10000000000001
         ],
         "showgrid": true,
         "tick0": 99.9,
         "tickformat": ".2f",
         "title": {
          "text": "Price"
         },
         "zeroline": false
        }
       }
      }
     },
     "metadata": {},
     "output_type": "display_data"
    }
   ],
   "source": [
    "# The state of the orderbook after simulating 500 limit orders\n",
    "plot_orderbook(mvda_orderbook, depth=10)"
   ]
  },
  {
   "cell_type": "markdown",
   "metadata": {},
   "source": [
    "### Creating *mVidia* order factory \n",
    "\n",
    "Setting the following paramaters of the `OrderFactory` class:\n",
    "\n",
    "- Arrival rate $\\gamma = 2.05$, meaning that there will be on average 2.05 orders per second generated\n",
    "- Hazard rate $\\mu = 0.01$, meaning that the limit order lifetime on average will be around ~ 100 seconds  \n",
    "- Buy ratio $\\beta = 0.5$, we should expect an equal amount of buy and sell orders\n",
    "- Limit ratio $\\rho = \\frac{2.0}{2.05} \\approx 0.9755$, in conjunction with the value of $\\gamma$, I should expect 2 limit orders per second and 1 market order every 20 seconds\n",
    "- Lambda of limit order amounts $\\lambda_L = \\frac{1}{3}$, on average the size of the limit order will be $3.0$\n",
    "- Lambda of market order amounts $\\lambda_M = \\frac{1}{30}$, on average the size of the limit order will be $30.0$\n",
    "- Maximum halfspread $\\sigma = 0.50$, the limit orders will be placed *at maximum* $0.50 away from the prevailing midpoint."
   ]
  },
  {
   "cell_type": "code",
   "execution_count": 8,
   "metadata": {},
   "outputs": [],
   "source": [
    "mvda_order_factory = OrderFactory(\n",
    "    instrument=mvda,\n",
    "    orderbook=mvda_orderbook,\n",
    "    arrivals_rate=2.0 + 0.05,\n",
    "    hazard_rate=0.01,\n",
    "    buy_ratio=0.5,\n",
    "    limit_order_ratio=2 / 2.05,\n",
    "    min_consideration=1,\n",
    "    limit_amount_lambda=1/3,\n",
    "    market_amount_lambda=1/30,\n",
    "    max_halfspread=1.0,\n",
    "    static_midprice=None\n",
    ")"
   ]
  },
  {
   "cell_type": "markdown",
   "metadata": {},
   "source": [
    "### What are we expecting to see?\n",
    "\n",
    "- Given the limit orders arrive at a rate of 2 orders / s and their average lifetime is 100, we should expect *on average* around 100 bid and 100 ask orders in orderbook at any given time\n",
    "- Because of the $\\lambda_L$ parameter within the exponential distribution and `np.ceil` rounding function, we expect an average LO amount of 3.5 - so the bids and asks should have on average $\\approx 350$ volume of liquidity \n",
    "- Market orders arrive at the rate of 1 order / 20 seconds, hence about 5 times during average LO lifetime. Given the MO amount averages 30.5, they should consume about $30.5 \\times 5 \\times \\frac{1}{2} = 76.25$ worth of volume from both the bid and ask side\n",
    "\n",
    "The market order sizes should be significant enough to eat through the orderbook rungs, effectively moving the midprice, without consuming all available liquidity in the orderbook\n"
   ]
  },
  {
   "cell_type": "code",
   "execution_count": 9,
   "metadata": {},
   "outputs": [],
   "source": [
    "from copy import deepcopy\n",
    "\n",
    "orders_history = []\n",
    "all_trades = []\n",
    "\n",
    "# Starting trading from the last limit order timestamp of the previous simulation\n",
    "current_time = limit_orders[-1].timestamp\n",
    "\n",
    "\n",
    "# Generating 177,000 orders ~ 1 day of trading\n",
    "for _ in range(177_000):\n",
    "    new_order = mvda_order_factory.generate_order(previous_order_ts=current_time)\n",
    "    orders_history.append(deepcopy(new_order))\n",
    "    current_time = new_order.timestamp\n",
    "\n",
    "    new_trades = mvda_orderbook.add_order(new_order)\n",
    "    all_trades.extend(new_trades)\n",
    "    # all_mids.append(aapl_orderbook.get_midprice())\n",
    "\n",
    "    mvda_orderbook.perform_order_cancellations(current_time)"
   ]
  },
  {
   "cell_type": "code",
   "execution_count": 10,
   "metadata": {},
   "outputs": [
    {
     "data": {
      "application/vnd.plotly.v1+json": {
       "config": {
        "plotlyServerURL": "https://plot.ly"
       },
       "data": [
        {
         "customdata": [
          [
           1003
          ]
         ],
         "hovertemplate": "Counterparty: %{customdata[0]}<br>Amount: %{x}<br>Price: %{y}<extra></extra>",
         "marker": {
          "color": "green"
         },
         "name": "BUY 1003",
         "offsetgroup": "bid",
         "orientation": "h",
         "type": "bar",
         "x": [
          3
         ],
         "y": [
          99.59
         ]
        },
        {
         "customdata": [
          [
           1007
          ]
         ],
         "hovertemplate": "Counterparty: %{customdata[0]}<br>Amount: %{x}<br>Price: %{y}<extra></extra>",
         "marker": {
          "color": "green"
         },
         "name": "BUY 1007",
         "offsetgroup": "bid",
         "orientation": "h",
         "type": "bar",
         "x": [
          2
         ],
         "y": [
          99.56
         ]
        },
        {
         "customdata": [
          [
           1008
          ]
         ],
         "hovertemplate": "Counterparty: %{customdata[0]}<br>Amount: %{x}<br>Price: %{y}<extra></extra>",
         "marker": {
          "color": "green"
         },
         "name": "BUY 1008",
         "offsetgroup": "bid",
         "orientation": "h",
         "type": "bar",
         "x": [
          1
         ],
         "y": [
          99.55
         ]
        },
        {
         "customdata": [
          [
           1003
          ]
         ],
         "hovertemplate": "Counterparty: %{customdata[0]}<br>Amount: %{x}<br>Price: %{y}<extra></extra>",
         "marker": {
          "color": "green"
         },
         "name": "BUY 1003",
         "offsetgroup": "bid",
         "orientation": "h",
         "type": "bar",
         "x": [
          4
         ],
         "y": [
          99.55
         ]
        },
        {
         "customdata": [
          [
           1005
          ]
         ],
         "hovertemplate": "Counterparty: %{customdata[0]}<br>Amount: %{x}<br>Price: %{y}<extra></extra>",
         "marker": {
          "color": "green"
         },
         "name": "BUY 1005",
         "offsetgroup": "bid",
         "orientation": "h",
         "type": "bar",
         "x": [
          1
         ],
         "y": [
          99.55
         ]
        },
        {
         "customdata": [
          [
           1003
          ]
         ],
         "hovertemplate": "Counterparty: %{customdata[0]}<br>Amount: %{x}<br>Price: %{y}<extra></extra>",
         "marker": {
          "color": "green"
         },
         "name": "BUY 1003",
         "offsetgroup": "bid",
         "orientation": "h",
         "type": "bar",
         "x": [
          2
         ],
         "y": [
          99.55
         ]
        },
        {
         "customdata": [
          [
           1003
          ]
         ],
         "hovertemplate": "Counterparty: %{customdata[0]}<br>Amount: %{x}<br>Price: %{y}<extra></extra>",
         "marker": {
          "color": "green"
         },
         "name": "BUY 1003",
         "offsetgroup": "bid",
         "orientation": "h",
         "type": "bar",
         "x": [
          1
         ],
         "y": [
          99.55
         ]
        },
        {
         "customdata": [
          [
           1002
          ]
         ],
         "hovertemplate": "Counterparty: %{customdata[0]}<br>Amount: %{x}<br>Price: %{y}<extra></extra>",
         "marker": {
          "color": "green"
         },
         "name": "BUY 1002",
         "offsetgroup": "bid",
         "orientation": "h",
         "type": "bar",
         "x": [
          2
         ],
         "y": [
          99.55
         ]
        },
        {
         "customdata": [
          [
           1003
          ]
         ],
         "hovertemplate": "Counterparty: %{customdata[0]}<br>Amount: %{x}<br>Price: %{y}<extra></extra>",
         "marker": {
          "color": "green"
         },
         "name": "BUY 1003",
         "offsetgroup": "bid",
         "orientation": "h",
         "type": "bar",
         "x": [
          3
         ],
         "y": [
          99.55
         ]
        },
        {
         "customdata": [
          [
           1001
          ]
         ],
         "hovertemplate": "Counterparty: %{customdata[0]}<br>Amount: %{x}<br>Price: %{y}<extra></extra>",
         "marker": {
          "color": "green"
         },
         "name": "BUY 1001",
         "offsetgroup": "bid",
         "orientation": "h",
         "type": "bar",
         "x": [
          2
         ],
         "y": [
          99.54
         ]
        },
        {
         "customdata": [
          [
           1009
          ]
         ],
         "hovertemplate": "Counterparty: %{customdata[0]}<br>Amount: %{x}<br>Price: %{y}<extra></extra>",
         "marker": {
          "color": "green"
         },
         "name": "BUY 1009",
         "offsetgroup": "bid",
         "orientation": "h",
         "type": "bar",
         "x": [
          2
         ],
         "y": [
          99.54
         ]
        },
        {
         "customdata": [
          [
           1001
          ]
         ],
         "hovertemplate": "Counterparty: %{customdata[0]}<br>Amount: %{x}<br>Price: %{y}<extra></extra>",
         "marker": {
          "color": "green"
         },
         "name": "BUY 1001",
         "offsetgroup": "bid",
         "orientation": "h",
         "type": "bar",
         "x": [
          4
         ],
         "y": [
          99.54
         ]
        },
        {
         "customdata": [
          [
           1003
          ]
         ],
         "hovertemplate": "Counterparty: %{customdata[0]}<br>Amount: %{x}<br>Price: %{y}<extra></extra>",
         "marker": {
          "color": "green"
         },
         "name": "BUY 1003",
         "offsetgroup": "bid",
         "orientation": "h",
         "type": "bar",
         "x": [
          1
         ],
         "y": [
          99.53
         ]
        },
        {
         "customdata": [
          [
           1001
          ]
         ],
         "hovertemplate": "Counterparty: %{customdata[0]}<br>Amount: %{x}<br>Price: %{y}<extra></extra>",
         "marker": {
          "color": "green"
         },
         "name": "BUY 1001",
         "offsetgroup": "bid",
         "orientation": "h",
         "type": "bar",
         "x": [
          1
         ],
         "y": [
          99.53
         ]
        },
        {
         "customdata": [
          [
           1004
          ]
         ],
         "hovertemplate": "Counterparty: %{customdata[0]}<br>Amount: %{x}<br>Price: %{y}<extra></extra>",
         "marker": {
          "color": "green"
         },
         "name": "BUY 1004",
         "offsetgroup": "bid",
         "orientation": "h",
         "type": "bar",
         "x": [
          1
         ],
         "y": [
          99.53
         ]
        },
        {
         "customdata": [
          [
           1010
          ]
         ],
         "hovertemplate": "Counterparty: %{customdata[0]}<br>Amount: %{x}<br>Price: %{y}<extra></extra>",
         "marker": {
          "color": "green"
         },
         "name": "BUY 1010",
         "offsetgroup": "bid",
         "orientation": "h",
         "type": "bar",
         "x": [
          2
         ],
         "y": [
          99.53
         ]
        },
        {
         "customdata": [
          [
           1001
          ]
         ],
         "hovertemplate": "Counterparty: %{customdata[0]}<br>Amount: %{x}<br>Price: %{y}<extra></extra>",
         "marker": {
          "color": "green"
         },
         "name": "BUY 1001",
         "offsetgroup": "bid",
         "orientation": "h",
         "type": "bar",
         "x": [
          2
         ],
         "y": [
          99.53
         ]
        },
        {
         "customdata": [
          [
           1010
          ]
         ],
         "hovertemplate": "Counterparty: %{customdata[0]}<br>Amount: %{x}<br>Price: %{y}<extra></extra>",
         "marker": {
          "color": "green"
         },
         "name": "BUY 1010",
         "offsetgroup": "bid",
         "orientation": "h",
         "type": "bar",
         "x": [
          1
         ],
         "y": [
          99.52
         ]
        },
        {
         "customdata": [
          [
           1003
          ]
         ],
         "hovertemplate": "Counterparty: %{customdata[0]}<br>Amount: %{x}<br>Price: %{y}<extra></extra>",
         "marker": {
          "color": "green"
         },
         "name": "BUY 1003",
         "offsetgroup": "bid",
         "orientation": "h",
         "type": "bar",
         "x": [
          1
         ],
         "y": [
          99.52
         ]
        },
        {
         "customdata": [
          [
           1006
          ]
         ],
         "hovertemplate": "Counterparty: %{customdata[0]}<br>Amount: %{x}<br>Price: %{y}<extra></extra>",
         "marker": {
          "color": "green"
         },
         "name": "BUY 1006",
         "offsetgroup": "bid",
         "orientation": "h",
         "type": "bar",
         "x": [
          1
         ],
         "y": [
          99.52
         ]
        },
        {
         "customdata": [
          [
           1001
          ]
         ],
         "hovertemplate": "Counterparty: %{customdata[0]}<br>Amount: %{x}<br>Price: %{y}<extra></extra>",
         "marker": {
          "color": "green"
         },
         "name": "BUY 1001",
         "offsetgroup": "bid",
         "orientation": "h",
         "type": "bar",
         "x": [
          3
         ],
         "y": [
          99.51
         ]
        },
        {
         "customdata": [
          [
           1007
          ]
         ],
         "hovertemplate": "Counterparty: %{customdata[0]}<br>Amount: %{x}<br>Price: %{y}<extra></extra>",
         "marker": {
          "color": "green"
         },
         "name": "BUY 1007",
         "offsetgroup": "bid",
         "orientation": "h",
         "type": "bar",
         "x": [
          1
         ],
         "y": [
          99.51
         ]
        },
        {
         "customdata": [
          [
           1009
          ]
         ],
         "hovertemplate": "Counterparty: %{customdata[0]}<br>Amount: %{x}<br>Price: %{y}<extra></extra>",
         "marker": {
          "color": "green"
         },
         "name": "BUY 1009",
         "offsetgroup": "bid",
         "orientation": "h",
         "type": "bar",
         "x": [
          1
         ],
         "y": [
          99.5
         ]
        },
        {
         "customdata": [
          [
           1008
          ]
         ],
         "hovertemplate": "Counterparty: %{customdata[0]}<br>Amount: %{x}<br>Price: %{y}<extra></extra>",
         "marker": {
          "color": "green"
         },
         "name": "BUY 1008",
         "offsetgroup": "bid",
         "orientation": "h",
         "type": "bar",
         "x": [
          2
         ],
         "y": [
          99.5
         ]
        },
        {
         "customdata": [
          [
           1003
          ]
         ],
         "hovertemplate": "Counterparty: %{customdata[0]}<br>Amount: %{x}<br>Price: %{y}<extra></extra>",
         "marker": {
          "color": "green"
         },
         "name": "BUY 1003",
         "offsetgroup": "bid",
         "orientation": "h",
         "type": "bar",
         "x": [
          3
         ],
         "y": [
          99.5
         ]
        },
        {
         "customdata": [
          [
           1003
          ]
         ],
         "hovertemplate": "Counterparty: %{customdata[0]}<br>Amount: %{x}<br>Price: %{y}<extra></extra>",
         "marker": {
          "color": "green"
         },
         "name": "BUY 1003",
         "offsetgroup": "bid",
         "orientation": "h",
         "type": "bar",
         "x": [
          1
         ],
         "y": [
          99.49000000000001
         ]
        },
        {
         "customdata": [
          [
           1003
          ]
         ],
         "hovertemplate": "Counterparty: %{customdata[0]}<br>Amount: %{x}<br>Price: %{y}<extra></extra>",
         "marker": {
          "color": "green"
         },
         "name": "BUY 1003",
         "offsetgroup": "bid",
         "orientation": "h",
         "type": "bar",
         "x": [
          1
         ],
         "y": [
          99.48
         ]
        },
        {
         "customdata": [
          [
           1009
          ]
         ],
         "hovertemplate": "Counterparty: %{customdata[0]}<br>Amount: %{x}<br>Price: %{y}<extra></extra>",
         "marker": {
          "color": "green"
         },
         "name": "BUY 1009",
         "offsetgroup": "bid",
         "orientation": "h",
         "type": "bar",
         "x": [
          1
         ],
         "y": [
          99.48
         ]
        },
        {
         "customdata": [
          [
           1010
          ]
         ],
         "hovertemplate": "Counterparty: %{customdata[0]}<br>Amount: %{x}<br>Price: %{y}<extra></extra>",
         "marker": {
          "color": "green"
         },
         "name": "BUY 1010",
         "offsetgroup": "bid",
         "orientation": "h",
         "type": "bar",
         "x": [
          1
         ],
         "y": [
          99.48
         ]
        },
        {
         "customdata": [
          [
           1004
          ]
         ],
         "hovertemplate": "Counterparty: %{customdata[0]}<br>Amount: %{x}<br>Price: %{y}<extra></extra>",
         "marker": {
          "color": "red"
         },
         "name": "SELL 1004",
         "offsetgroup": "ask",
         "orientation": "h",
         "type": "bar",
         "x": [
          1
         ],
         "y": [
          99.63
         ]
        },
        {
         "customdata": [
          [
           1002
          ]
         ],
         "hovertemplate": "Counterparty: %{customdata[0]}<br>Amount: %{x}<br>Price: %{y}<extra></extra>",
         "marker": {
          "color": "red"
         },
         "name": "SELL 1002",
         "offsetgroup": "ask",
         "orientation": "h",
         "type": "bar",
         "x": [
          1
         ],
         "y": [
          99.65
         ]
        },
        {
         "customdata": [
          [
           1003
          ]
         ],
         "hovertemplate": "Counterparty: %{customdata[0]}<br>Amount: %{x}<br>Price: %{y}<extra></extra>",
         "marker": {
          "color": "red"
         },
         "name": "SELL 1003",
         "offsetgroup": "ask",
         "orientation": "h",
         "type": "bar",
         "x": [
          3
         ],
         "y": [
          99.66
         ]
        },
        {
         "customdata": [
          [
           1002
          ]
         ],
         "hovertemplate": "Counterparty: %{customdata[0]}<br>Amount: %{x}<br>Price: %{y}<extra></extra>",
         "marker": {
          "color": "red"
         },
         "name": "SELL 1002",
         "offsetgroup": "ask",
         "orientation": "h",
         "type": "bar",
         "x": [
          4
         ],
         "y": [
          99.66
         ]
        },
        {
         "customdata": [
          [
           1004
          ]
         ],
         "hovertemplate": "Counterparty: %{customdata[0]}<br>Amount: %{x}<br>Price: %{y}<extra></extra>",
         "marker": {
          "color": "red"
         },
         "name": "SELL 1004",
         "offsetgroup": "ask",
         "orientation": "h",
         "type": "bar",
         "x": [
          2
         ],
         "y": [
          99.66
         ]
        },
        {
         "customdata": [
          [
           1002
          ]
         ],
         "hovertemplate": "Counterparty: %{customdata[0]}<br>Amount: %{x}<br>Price: %{y}<extra></extra>",
         "marker": {
          "color": "red"
         },
         "name": "SELL 1002",
         "offsetgroup": "ask",
         "orientation": "h",
         "type": "bar",
         "x": [
          4
         ],
         "y": [
          99.66
         ]
        },
        {
         "customdata": [
          [
           1008
          ]
         ],
         "hovertemplate": "Counterparty: %{customdata[0]}<br>Amount: %{x}<br>Price: %{y}<extra></extra>",
         "marker": {
          "color": "red"
         },
         "name": "SELL 1008",
         "offsetgroup": "ask",
         "orientation": "h",
         "type": "bar",
         "x": [
          2
         ],
         "y": [
          99.67
         ]
        },
        {
         "customdata": [
          [
           1001
          ]
         ],
         "hovertemplate": "Counterparty: %{customdata[0]}<br>Amount: %{x}<br>Price: %{y}<extra></extra>",
         "marker": {
          "color": "red"
         },
         "name": "SELL 1001",
         "offsetgroup": "ask",
         "orientation": "h",
         "type": "bar",
         "x": [
          6
         ],
         "y": [
          99.67
         ]
        },
        {
         "customdata": [
          [
           1000
          ]
         ],
         "hovertemplate": "Counterparty: %{customdata[0]}<br>Amount: %{x}<br>Price: %{y}<extra></extra>",
         "marker": {
          "color": "red"
         },
         "name": "SELL 1000",
         "offsetgroup": "ask",
         "orientation": "h",
         "type": "bar",
         "x": [
          1
         ],
         "y": [
          99.68
         ]
        },
        {
         "customdata": [
          [
           1001
          ]
         ],
         "hovertemplate": "Counterparty: %{customdata[0]}<br>Amount: %{x}<br>Price: %{y}<extra></extra>",
         "marker": {
          "color": "red"
         },
         "name": "SELL 1001",
         "offsetgroup": "ask",
         "orientation": "h",
         "type": "bar",
         "x": [
          2
         ],
         "y": [
          99.68
         ]
        },
        {
         "customdata": [
          [
           1008
          ]
         ],
         "hovertemplate": "Counterparty: %{customdata[0]}<br>Amount: %{x}<br>Price: %{y}<extra></extra>",
         "marker": {
          "color": "red"
         },
         "name": "SELL 1008",
         "offsetgroup": "ask",
         "orientation": "h",
         "type": "bar",
         "x": [
          1
         ],
         "y": [
          99.68
         ]
        },
        {
         "customdata": [
          [
           1006
          ]
         ],
         "hovertemplate": "Counterparty: %{customdata[0]}<br>Amount: %{x}<br>Price: %{y}<extra></extra>",
         "marker": {
          "color": "red"
         },
         "name": "SELL 1006",
         "offsetgroup": "ask",
         "orientation": "h",
         "type": "bar",
         "x": [
          1
         ],
         "y": [
          99.69
         ]
        },
        {
         "customdata": [
          [
           1004
          ]
         ],
         "hovertemplate": "Counterparty: %{customdata[0]}<br>Amount: %{x}<br>Price: %{y}<extra></extra>",
         "marker": {
          "color": "red"
         },
         "name": "SELL 1004",
         "offsetgroup": "ask",
         "orientation": "h",
         "type": "bar",
         "x": [
          1
         ],
         "y": [
          99.69
         ]
        },
        {
         "customdata": [
          [
           1005
          ]
         ],
         "hovertemplate": "Counterparty: %{customdata[0]}<br>Amount: %{x}<br>Price: %{y}<extra></extra>",
         "marker": {
          "color": "red"
         },
         "name": "SELL 1005",
         "offsetgroup": "ask",
         "orientation": "h",
         "type": "bar",
         "x": [
          5
         ],
         "y": [
          99.69
         ]
        },
        {
         "customdata": [
          [
           1004
          ]
         ],
         "hovertemplate": "Counterparty: %{customdata[0]}<br>Amount: %{x}<br>Price: %{y}<extra></extra>",
         "marker": {
          "color": "red"
         },
         "name": "SELL 1004",
         "offsetgroup": "ask",
         "orientation": "h",
         "type": "bar",
         "x": [
          3
         ],
         "y": [
          99.7
         ]
        },
        {
         "customdata": [
          [
           1001
          ]
         ],
         "hovertemplate": "Counterparty: %{customdata[0]}<br>Amount: %{x}<br>Price: %{y}<extra></extra>",
         "marker": {
          "color": "red"
         },
         "name": "SELL 1001",
         "offsetgroup": "ask",
         "orientation": "h",
         "type": "bar",
         "x": [
          1
         ],
         "y": [
          99.7
         ]
        },
        {
         "customdata": [
          [
           1006
          ]
         ],
         "hovertemplate": "Counterparty: %{customdata[0]}<br>Amount: %{x}<br>Price: %{y}<extra></extra>",
         "marker": {
          "color": "red"
         },
         "name": "SELL 1006",
         "offsetgroup": "ask",
         "orientation": "h",
         "type": "bar",
         "x": [
          1
         ],
         "y": [
          99.7
         ]
        },
        {
         "customdata": [
          [
           1008
          ]
         ],
         "hovertemplate": "Counterparty: %{customdata[0]}<br>Amount: %{x}<br>Price: %{y}<extra></extra>",
         "marker": {
          "color": "red"
         },
         "name": "SELL 1008",
         "offsetgroup": "ask",
         "orientation": "h",
         "type": "bar",
         "x": [
          2
         ],
         "y": [
          99.7
         ]
        },
        {
         "customdata": [
          [
           1003
          ]
         ],
         "hovertemplate": "Counterparty: %{customdata[0]}<br>Amount: %{x}<br>Price: %{y}<extra></extra>",
         "marker": {
          "color": "red"
         },
         "name": "SELL 1003",
         "offsetgroup": "ask",
         "orientation": "h",
         "type": "bar",
         "x": [
          3
         ],
         "y": [
          99.7
         ]
        },
        {
         "customdata": [
          [
           1004
          ]
         ],
         "hovertemplate": "Counterparty: %{customdata[0]}<br>Amount: %{x}<br>Price: %{y}<extra></extra>",
         "marker": {
          "color": "red"
         },
         "name": "SELL 1004",
         "offsetgroup": "ask",
         "orientation": "h",
         "type": "bar",
         "x": [
          2
         ],
         "y": [
          99.71000000000001
         ]
        },
        {
         "customdata": [
          [
           1002
          ]
         ],
         "hovertemplate": "Counterparty: %{customdata[0]}<br>Amount: %{x}<br>Price: %{y}<extra></extra>",
         "marker": {
          "color": "red"
         },
         "name": "SELL 1002",
         "offsetgroup": "ask",
         "orientation": "h",
         "type": "bar",
         "x": [
          3
         ],
         "y": [
          99.71000000000001
         ]
        },
        {
         "customdata": [
          [
           1007
          ]
         ],
         "hovertemplate": "Counterparty: %{customdata[0]}<br>Amount: %{x}<br>Price: %{y}<extra></extra>",
         "marker": {
          "color": "red"
         },
         "name": "SELL 1007",
         "offsetgroup": "ask",
         "orientation": "h",
         "type": "bar",
         "x": [
          2
         ],
         "y": [
          99.72
         ]
        },
        {
         "customdata": [
          [
           1001
          ]
         ],
         "hovertemplate": "Counterparty: %{customdata[0]}<br>Amount: %{x}<br>Price: %{y}<extra></extra>",
         "marker": {
          "color": "red"
         },
         "name": "SELL 1001",
         "offsetgroup": "ask",
         "orientation": "h",
         "type": "bar",
         "x": [
          3
         ],
         "y": [
          99.73
         ]
        },
        {
         "customdata": [
          [
           1006
          ]
         ],
         "hovertemplate": "Counterparty: %{customdata[0]}<br>Amount: %{x}<br>Price: %{y}<extra></extra>",
         "marker": {
          "color": "red"
         },
         "name": "SELL 1006",
         "offsetgroup": "ask",
         "orientation": "h",
         "type": "bar",
         "x": [
          3
         ],
         "y": [
          99.73
         ]
        }
       ],
       "layout": {
        "barmode": "stack",
        "hovermode": "closest",
        "template": {
         "data": {
          "bar": [
           {
            "error_x": {
             "color": "#2a3f5f"
            },
            "error_y": {
             "color": "#2a3f5f"
            },
            "marker": {
             "line": {
              "color": "#E5ECF6",
              "width": 0.5
             },
             "pattern": {
              "fillmode": "overlay",
              "size": 10,
              "solidity": 0.2
             }
            },
            "type": "bar"
           }
          ],
          "barpolar": [
           {
            "marker": {
             "line": {
              "color": "#E5ECF6",
              "width": 0.5
             },
             "pattern": {
              "fillmode": "overlay",
              "size": 10,
              "solidity": 0.2
             }
            },
            "type": "barpolar"
           }
          ],
          "carpet": [
           {
            "aaxis": {
             "endlinecolor": "#2a3f5f",
             "gridcolor": "white",
             "linecolor": "white",
             "minorgridcolor": "white",
             "startlinecolor": "#2a3f5f"
            },
            "baxis": {
             "endlinecolor": "#2a3f5f",
             "gridcolor": "white",
             "linecolor": "white",
             "minorgridcolor": "white",
             "startlinecolor": "#2a3f5f"
            },
            "type": "carpet"
           }
          ],
          "choropleth": [
           {
            "colorbar": {
             "outlinewidth": 0,
             "ticks": ""
            },
            "type": "choropleth"
           }
          ],
          "contour": [
           {
            "colorbar": {
             "outlinewidth": 0,
             "ticks": ""
            },
            "colorscale": [
             [
              0,
              "#0d0887"
             ],
             [
              0.1111111111111111,
              "#46039f"
             ],
             [
              0.2222222222222222,
              "#7201a8"
             ],
             [
              0.3333333333333333,
              "#9c179e"
             ],
             [
              0.4444444444444444,
              "#bd3786"
             ],
             [
              0.5555555555555556,
              "#d8576b"
             ],
             [
              0.6666666666666666,
              "#ed7953"
             ],
             [
              0.7777777777777778,
              "#fb9f3a"
             ],
             [
              0.8888888888888888,
              "#fdca26"
             ],
             [
              1,
              "#f0f921"
             ]
            ],
            "type": "contour"
           }
          ],
          "contourcarpet": [
           {
            "colorbar": {
             "outlinewidth": 0,
             "ticks": ""
            },
            "type": "contourcarpet"
           }
          ],
          "heatmap": [
           {
            "colorbar": {
             "outlinewidth": 0,
             "ticks": ""
            },
            "colorscale": [
             [
              0,
              "#0d0887"
             ],
             [
              0.1111111111111111,
              "#46039f"
             ],
             [
              0.2222222222222222,
              "#7201a8"
             ],
             [
              0.3333333333333333,
              "#9c179e"
             ],
             [
              0.4444444444444444,
              "#bd3786"
             ],
             [
              0.5555555555555556,
              "#d8576b"
             ],
             [
              0.6666666666666666,
              "#ed7953"
             ],
             [
              0.7777777777777778,
              "#fb9f3a"
             ],
             [
              0.8888888888888888,
              "#fdca26"
             ],
             [
              1,
              "#f0f921"
             ]
            ],
            "type": "heatmap"
           }
          ],
          "histogram": [
           {
            "marker": {
             "pattern": {
              "fillmode": "overlay",
              "size": 10,
              "solidity": 0.2
             }
            },
            "type": "histogram"
           }
          ],
          "histogram2d": [
           {
            "colorbar": {
             "outlinewidth": 0,
             "ticks": ""
            },
            "colorscale": [
             [
              0,
              "#0d0887"
             ],
             [
              0.1111111111111111,
              "#46039f"
             ],
             [
              0.2222222222222222,
              "#7201a8"
             ],
             [
              0.3333333333333333,
              "#9c179e"
             ],
             [
              0.4444444444444444,
              "#bd3786"
             ],
             [
              0.5555555555555556,
              "#d8576b"
             ],
             [
              0.6666666666666666,
              "#ed7953"
             ],
             [
              0.7777777777777778,
              "#fb9f3a"
             ],
             [
              0.8888888888888888,
              "#fdca26"
             ],
             [
              1,
              "#f0f921"
             ]
            ],
            "type": "histogram2d"
           }
          ],
          "histogram2dcontour": [
           {
            "colorbar": {
             "outlinewidth": 0,
             "ticks": ""
            },
            "colorscale": [
             [
              0,
              "#0d0887"
             ],
             [
              0.1111111111111111,
              "#46039f"
             ],
             [
              0.2222222222222222,
              "#7201a8"
             ],
             [
              0.3333333333333333,
              "#9c179e"
             ],
             [
              0.4444444444444444,
              "#bd3786"
             ],
             [
              0.5555555555555556,
              "#d8576b"
             ],
             [
              0.6666666666666666,
              "#ed7953"
             ],
             [
              0.7777777777777778,
              "#fb9f3a"
             ],
             [
              0.8888888888888888,
              "#fdca26"
             ],
             [
              1,
              "#f0f921"
             ]
            ],
            "type": "histogram2dcontour"
           }
          ],
          "mesh3d": [
           {
            "colorbar": {
             "outlinewidth": 0,
             "ticks": ""
            },
            "type": "mesh3d"
           }
          ],
          "parcoords": [
           {
            "line": {
             "colorbar": {
              "outlinewidth": 0,
              "ticks": ""
             }
            },
            "type": "parcoords"
           }
          ],
          "pie": [
           {
            "automargin": true,
            "type": "pie"
           }
          ],
          "scatter": [
           {
            "fillpattern": {
             "fillmode": "overlay",
             "size": 10,
             "solidity": 0.2
            },
            "type": "scatter"
           }
          ],
          "scatter3d": [
           {
            "line": {
             "colorbar": {
              "outlinewidth": 0,
              "ticks": ""
             }
            },
            "marker": {
             "colorbar": {
              "outlinewidth": 0,
              "ticks": ""
             }
            },
            "type": "scatter3d"
           }
          ],
          "scattercarpet": [
           {
            "marker": {
             "colorbar": {
              "outlinewidth": 0,
              "ticks": ""
             }
            },
            "type": "scattercarpet"
           }
          ],
          "scattergeo": [
           {
            "marker": {
             "colorbar": {
              "outlinewidth": 0,
              "ticks": ""
             }
            },
            "type": "scattergeo"
           }
          ],
          "scattergl": [
           {
            "marker": {
             "colorbar": {
              "outlinewidth": 0,
              "ticks": ""
             }
            },
            "type": "scattergl"
           }
          ],
          "scattermap": [
           {
            "marker": {
             "colorbar": {
              "outlinewidth": 0,
              "ticks": ""
             }
            },
            "type": "scattermap"
           }
          ],
          "scattermapbox": [
           {
            "marker": {
             "colorbar": {
              "outlinewidth": 0,
              "ticks": ""
             }
            },
            "type": "scattermapbox"
           }
          ],
          "scatterpolar": [
           {
            "marker": {
             "colorbar": {
              "outlinewidth": 0,
              "ticks": ""
             }
            },
            "type": "scatterpolar"
           }
          ],
          "scatterpolargl": [
           {
            "marker": {
             "colorbar": {
              "outlinewidth": 0,
              "ticks": ""
             }
            },
            "type": "scatterpolargl"
           }
          ],
          "scatterternary": [
           {
            "marker": {
             "colorbar": {
              "outlinewidth": 0,
              "ticks": ""
             }
            },
            "type": "scatterternary"
           }
          ],
          "surface": [
           {
            "colorbar": {
             "outlinewidth": 0,
             "ticks": ""
            },
            "colorscale": [
             [
              0,
              "#0d0887"
             ],
             [
              0.1111111111111111,
              "#46039f"
             ],
             [
              0.2222222222222222,
              "#7201a8"
             ],
             [
              0.3333333333333333,
              "#9c179e"
             ],
             [
              0.4444444444444444,
              "#bd3786"
             ],
             [
              0.5555555555555556,
              "#d8576b"
             ],
             [
              0.6666666666666666,
              "#ed7953"
             ],
             [
              0.7777777777777778,
              "#fb9f3a"
             ],
             [
              0.8888888888888888,
              "#fdca26"
             ],
             [
              1,
              "#f0f921"
             ]
            ],
            "type": "surface"
           }
          ],
          "table": [
           {
            "cells": {
             "fill": {
              "color": "#EBF0F8"
             },
             "line": {
              "color": "white"
             }
            },
            "header": {
             "fill": {
              "color": "#C8D4E3"
             },
             "line": {
              "color": "white"
             }
            },
            "type": "table"
           }
          ]
         },
         "layout": {
          "annotationdefaults": {
           "arrowcolor": "#2a3f5f",
           "arrowhead": 0,
           "arrowwidth": 1
          },
          "autotypenumbers": "strict",
          "coloraxis": {
           "colorbar": {
            "outlinewidth": 0,
            "ticks": ""
           }
          },
          "colorscale": {
           "diverging": [
            [
             0,
             "#8e0152"
            ],
            [
             0.1,
             "#c51b7d"
            ],
            [
             0.2,
             "#de77ae"
            ],
            [
             0.3,
             "#f1b6da"
            ],
            [
             0.4,
             "#fde0ef"
            ],
            [
             0.5,
             "#f7f7f7"
            ],
            [
             0.6,
             "#e6f5d0"
            ],
            [
             0.7,
             "#b8e186"
            ],
            [
             0.8,
             "#7fbc41"
            ],
            [
             0.9,
             "#4d9221"
            ],
            [
             1,
             "#276419"
            ]
           ],
           "sequential": [
            [
             0,
             "#0d0887"
            ],
            [
             0.1111111111111111,
             "#46039f"
            ],
            [
             0.2222222222222222,
             "#7201a8"
            ],
            [
             0.3333333333333333,
             "#9c179e"
            ],
            [
             0.4444444444444444,
             "#bd3786"
            ],
            [
             0.5555555555555556,
             "#d8576b"
            ],
            [
             0.6666666666666666,
             "#ed7953"
            ],
            [
             0.7777777777777778,
             "#fb9f3a"
            ],
            [
             0.8888888888888888,
             "#fdca26"
            ],
            [
             1,
             "#f0f921"
            ]
           ],
           "sequentialminus": [
            [
             0,
             "#0d0887"
            ],
            [
             0.1111111111111111,
             "#46039f"
            ],
            [
             0.2222222222222222,
             "#7201a8"
            ],
            [
             0.3333333333333333,
             "#9c179e"
            ],
            [
             0.4444444444444444,
             "#bd3786"
            ],
            [
             0.5555555555555556,
             "#d8576b"
            ],
            [
             0.6666666666666666,
             "#ed7953"
            ],
            [
             0.7777777777777778,
             "#fb9f3a"
            ],
            [
             0.8888888888888888,
             "#fdca26"
            ],
            [
             1,
             "#f0f921"
            ]
           ]
          },
          "colorway": [
           "#636efa",
           "#EF553B",
           "#00cc96",
           "#ab63fa",
           "#FFA15A",
           "#19d3f3",
           "#FF6692",
           "#B6E880",
           "#FF97FF",
           "#FECB52"
          ],
          "font": {
           "color": "#2a3f5f"
          },
          "geo": {
           "bgcolor": "white",
           "lakecolor": "white",
           "landcolor": "#E5ECF6",
           "showlakes": true,
           "showland": true,
           "subunitcolor": "white"
          },
          "hoverlabel": {
           "align": "left"
          },
          "hovermode": "closest",
          "mapbox": {
           "style": "light"
          },
          "paper_bgcolor": "white",
          "plot_bgcolor": "#E5ECF6",
          "polar": {
           "angularaxis": {
            "gridcolor": "white",
            "linecolor": "white",
            "ticks": ""
           },
           "bgcolor": "#E5ECF6",
           "radialaxis": {
            "gridcolor": "white",
            "linecolor": "white",
            "ticks": ""
           }
          },
          "scene": {
           "xaxis": {
            "backgroundcolor": "#E5ECF6",
            "gridcolor": "white",
            "gridwidth": 2,
            "linecolor": "white",
            "showbackground": true,
            "ticks": "",
            "zerolinecolor": "white"
           },
           "yaxis": {
            "backgroundcolor": "#E5ECF6",
            "gridcolor": "white",
            "gridwidth": 2,
            "linecolor": "white",
            "showbackground": true,
            "ticks": "",
            "zerolinecolor": "white"
           },
           "zaxis": {
            "backgroundcolor": "#E5ECF6",
            "gridcolor": "white",
            "gridwidth": 2,
            "linecolor": "white",
            "showbackground": true,
            "ticks": "",
            "zerolinecolor": "white"
           }
          },
          "shapedefaults": {
           "line": {
            "color": "#2a3f5f"
           }
          },
          "ternary": {
           "aaxis": {
            "gridcolor": "white",
            "linecolor": "white",
            "ticks": ""
           },
           "baxis": {
            "gridcolor": "white",
            "linecolor": "white",
            "ticks": ""
           },
           "bgcolor": "#E5ECF6",
           "caxis": {
            "gridcolor": "white",
            "linecolor": "white",
            "ticks": ""
           }
          },
          "title": {
           "x": 0.05
          },
          "xaxis": {
           "automargin": true,
           "gridcolor": "white",
           "linecolor": "white",
           "ticks": "",
           "title": {
            "standoff": 15
           },
           "zerolinecolor": "white",
           "zerolinewidth": 2
          },
          "yaxis": {
           "automargin": true,
           "gridcolor": "white",
           "linecolor": "white",
           "ticks": "",
           "title": {
            "standoff": 15
           },
           "zerolinecolor": "white",
           "zerolinewidth": 2
          }
         }
        },
        "title": {
         "text": "Order Book (Depth = 10) for MVDA"
        },
        "xaxis": {
         "title": {
          "text": "Volume (Amount)"
         }
        },
        "yaxis": {
         "dtick": 0.01,
         "range": [
          99.47,
          99.74000000000001
         ],
         "showgrid": true,
         "tick0": 99.48,
         "tickformat": ".2f",
         "title": {
          "text": "Price"
         },
         "zeroline": false
        }
       }
      }
     },
     "metadata": {},
     "output_type": "display_data"
    }
   ],
   "source": [
    "# The state of the orderbook after ~ 1 day of trading\n",
    "plot_orderbook(mvda_orderbook, depth=10)"
   ]
  },
  {
   "cell_type": "code",
   "execution_count": 11,
   "metadata": {},
   "outputs": [
    {
     "data": {
      "application/vnd.plotly.v1+json": {
       "config": {
        "plotlyServerURL": "https://plot.ly"
       },
       "data": [
        {
         "close": {
          "bdata": "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",
          "dtype": "f8"
         },
         "high": {
          "bdata": "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",
          "dtype": "f8"
         },
         "low": {
          "bdata": "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",
          "dtype": "f8"
         },
         "open": {
          "bdata": "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",
          "dtype": "f8"
         },
         "type": "candlestick",
         "x": [
          "2024-01-01T00:04:00.000000000",
          "2024-01-01T00:04:30.000000000",
          "2024-01-01T00:05:00.000000000",
          "2024-01-01T00:05:30.000000000",
          "2024-01-01T00:06:00.000000000",
          "2024-01-01T00:06:30.000000000",
          "2024-01-01T00:07:00.000000000",
          "2024-01-01T00:07:30.000000000",
          "2024-01-01T00:08:00.000000000",
          "2024-01-01T00:08:30.000000000",
          "2024-01-01T00:09:00.000000000",
          "2024-01-01T00:09:30.000000000",
          "2024-01-01T00:10:00.000000000",
          "2024-01-01T00:10:30.000000000",
          "2024-01-01T00:11:00.000000000",
          "2024-01-01T00:11:30.000000000",
          "2024-01-01T00:12:00.000000000",
          "2024-01-01T00:12:30.000000000",
          "2024-01-01T00:13:00.000000000",
          "2024-01-01T00:13:30.000000000",
          "2024-01-01T00:14:00.000000000",
          "2024-01-01T00:14:30.000000000",
          "2024-01-01T00:15:00.000000000",
          "2024-01-01T00:15:30.000000000",
          "2024-01-01T00:16:00.000000000",
          "2024-01-01T00:16:30.000000000",
          "2024-01-01T00:17:00.000000000",
          "2024-01-01T00:17:30.000000000",
          "2024-01-01T00:18:00.000000000",
          "2024-01-01T00:18:30.000000000",
          "2024-01-01T00:19:00.000000000",
          "2024-01-01T00:19:30.000000000",
          "2024-01-01T00:20:00.000000000",
          "2024-01-01T00:20:30.000000000",
          "2024-01-01T00:21:00.000000000",
          "2024-01-01T00:21:30.000000000",
          "2024-01-01T00:22:00.000000000",
          "2024-01-01T00:22:30.000000000",
          "2024-01-01T00:23:00.000000000",
          "2024-01-01T00:23:30.000000000",
          "2024-01-01T00:24:00.000000000",
          "2024-01-01T00:24:30.000000000",
          "2024-01-01T00:25:00.000000000",
          "2024-01-01T00:25:30.000000000",
          "2024-01-01T00:26:00.000000000",
          "2024-01-01T00:26:30.000000000",
          "2024-01-01T00:27:00.000000000",
          "2024-01-01T00:27:30.000000000",
          "2024-01-01T00:28:00.000000000",
          "2024-01-01T00:28:30.000000000",
          "2024-01-01T00:29:00.000000000",
          "2024-01-01T00:29:30.000000000",
          "2024-01-01T00:30:00.000000000",
          "2024-01-01T00:30:30.000000000",
          "2024-01-01T00:31:00.000000000",
          "2024-01-01T00:31:30.000000000",
          "2024-01-01T00:32:00.000000000",
          "2024-01-01T00:32:30.000000000",
          "2024-01-01T00:33:00.000000000",
          "2024-01-01T00:33:30.000000000",
          "2024-01-01T00:34:00.000000000",
          "2024-01-01T00:34:30.000000000",
          "2024-01-01T00:35:00.000000000",
          "2024-01-01T00:35:30.000000000",
          "2024-01-01T00:36:00.000000000",
          "2024-01-01T00:36:30.000000000",
          "2024-01-01T00:37:00.000000000",
          "2024-01-01T00:37:30.000000000",
          "2024-01-01T00:38:00.000000000",
          "2024-01-01T00:38:30.000000000",
          "2024-01-01T00:39:00.000000000",
          "2024-01-01T00:39:30.000000000",
          "2024-01-01T00:40:00.000000000",
          "2024-01-01T00:40:30.000000000",
          "2024-01-01T00:41:00.000000000",
          "2024-01-01T00:41:30.000000000",
          "2024-01-01T00:42:00.000000000",
          "2024-01-01T00:42:30.000000000",
          "2024-01-01T00:43:00.000000000",
          "2024-01-01T00:43:30.000000000",
          "2024-01-01T00:44:00.000000000",
          "2024-01-01T00:44:30.000000000",
          "2024-01-01T00:45:00.000000000",
          "2024-01-01T00:45:30.000000000",
          "2024-01-01T00:46:00.000000000",
          "2024-01-01T00:46:30.000000000",
          "2024-01-01T00:47:00.000000000",
          "2024-01-01T00:47:30.000000000",
          "2024-01-01T00:48:00.000000000",
          "2024-01-01T00:48:30.000000000",
          "2024-01-01T00:49:00.000000000",
          "2024-01-01T00:49:30.000000000",
          "2024-01-01T00:50:00.000000000",
          "2024-01-01T00:50:30.000000000",
          "2024-01-01T00:51:00.000000000",
          "2024-01-01T00:51:30.000000000",
          "2024-01-01T00:52:00.000000000",
          "2024-01-01T00:52:30.000000000",
          "2024-01-01T00:53:00.000000000",
          "2024-01-01T00:53:30.000000000",
          "2024-01-01T00:54:00.000000000",
          "2024-01-01T00:54:30.000000000",
          "2024-01-01T00:55:00.000000000",
          "2024-01-01T00:55:30.000000000",
          "2024-01-01T00:56:00.000000000",
          "2024-01-01T00:56:30.000000000",
          "2024-01-01T00:57:00.000000000",
          "2024-01-01T00:57:30.000000000",
          "2024-01-01T00:58:00.000000000",
          "2024-01-01T00:58:30.000000000",
          "2024-01-01T00:59:00.000000000",
          "2024-01-01T00:59:30.000000000",
          "2024-01-01T01:00:00.000000000",
          "2024-01-01T01:00:30.000000000",
          "2024-01-01T01:01:00.000000000",
          "2024-01-01T01:01:30.000000000",
          "2024-01-01T01:02:00.000000000",
          "2024-01-01T01:02:30.000000000",
          "2024-01-01T01:03:00.000000000",
          "2024-01-01T01:03:30.000000000",
          "2024-01-01T01:04:00.000000000",
          "2024-01-01T01:04:30.000000000",
          "2024-01-01T01:05:00.000000000",
          "2024-01-01T01:05:30.000000000",
          "2024-01-01T01:06:00.000000000",
          "2024-01-01T01:06:30.000000000",
          "2024-01-01T01:07:00.000000000",
          "2024-01-01T01:07:30.000000000",
          "2024-01-01T01:08:00.000000000",
          "2024-01-01T01:08:30.000000000",
          "2024-01-01T01:09:00.000000000",
          "2024-01-01T01:09:30.000000000",
          "2024-01-01T01:10:00.000000000",
          "2024-01-01T01:10:30.000000000",
          "2024-01-01T01:11:00.000000000",
          "2024-01-01T01:11:30.000000000",
          "2024-01-01T01:12:00.000000000",
          "2024-01-01T01:12:30.000000000",
          "2024-01-01T01:13:00.000000000",
          "2024-01-01T01:13:30.000000000",
          "2024-01-01T01:14:00.000000000",
          "2024-01-01T01:14:30.000000000",
          "2024-01-01T01:15:00.000000000",
          "2024-01-01T01:15:30.000000000",
          "2024-01-01T01:16:00.000000000",
          "2024-01-01T01:16:30.000000000",
          "2024-01-01T01:17:00.000000000",
          "2024-01-01T01:17:30.000000000",
          "2024-01-01T01:18:00.000000000",
          "2024-01-01T01:18:30.000000000",
          "2024-01-01T01:19:00.000000000",
          "2024-01-01T01:19:30.000000000",
          "2024-01-01T01:20:00.000000000",
          "2024-01-01T01:20:30.000000000",
          "2024-01-01T01:21:00.000000000",
          "2024-01-01T01:21:30.000000000",
          "2024-01-01T01:22:00.000000000",
          "2024-01-01T01:22:30.000000000",
          "2024-01-01T01:23:00.000000000",
          "2024-01-01T01:23:30.000000000",
          "2024-01-01T01:24:00.000000000",
          "2024-01-01T01:24:30.000000000",
          "2024-01-01T01:25:00.000000000",
          "2024-01-01T01:25:30.000000000",
          "2024-01-01T01:26:00.000000000",
          "2024-01-01T01:26:30.000000000",
          "2024-01-01T01:27:00.000000000",
          "2024-01-01T01:27:30.000000000",
          "2024-01-01T01:28:00.000000000",
          "2024-01-01T01:28:30.000000000",
          "2024-01-01T01:29:00.000000000",
          "2024-01-01T01:29:30.000000000",
          "2024-01-01T01:30:00.000000000",
          "2024-01-01T01:30:30.000000000",
          "2024-01-01T01:31:00.000000000",
          "2024-01-01T01:31:30.000000000",
          "2024-01-01T01:32:00.000000000",
          "2024-01-01T01:32:30.000000000",
          "2024-01-01T01:33:00.000000000",
          "2024-01-01T01:33:30.000000000",
          "2024-01-01T01:34:00.000000000",
          "2024-01-01T01:34:30.000000000",
          "2024-01-01T01:35:00.000000000",
          "2024-01-01T01:35:30.000000000",
          "2024-01-01T01:36:00.000000000",
          "2024-01-01T01:36:30.000000000",
          "2024-01-01T01:37:00.000000000",
          "2024-01-01T01:37:30.000000000",
          "2024-01-01T01:38:00.000000000",
          "2024-01-01T01:38:30.000000000",
          "2024-01-01T01:39:00.000000000",
          "2024-01-01T01:39:30.000000000",
          "2024-01-01T01:40:00.000000000",
          "2024-01-01T01:40:30.000000000",
          "2024-01-01T01:41:00.000000000",
          "2024-01-01T01:41:30.000000000",
          "2024-01-01T01:42:00.000000000",
          "2024-01-01T01:42:30.000000000",
          "2024-01-01T01:43:00.000000000",
          "2024-01-01T01:43:30.000000000",
          "2024-01-01T01:44:00.000000000",
          "2024-01-01T01:44:30.000000000",
          "2024-01-01T01:45:00.000000000",
          "2024-01-01T01:45:30.000000000",
          "2024-01-01T01:46:00.000000000",
          "2024-01-01T01:46:30.000000000",
          "2024-01-01T01:47:00.000000000",
          "2024-01-01T01:47:30.000000000",
          "2024-01-01T01:48:00.000000000",
          "2024-01-01T01:48:30.000000000",
          "2024-01-01T01:49:00.000000000",
          "2024-01-01T01:49:30.000000000",
          "2024-01-01T01:50:00.000000000",
          "2024-01-01T01:50:30.000000000",
          "2024-01-01T01:51:00.000000000",
          "2024-01-01T01:51:30.000000000",
          "2024-01-01T01:52:00.000000000",
          "2024-01-01T01:52:30.000000000",
          "2024-01-01T01:53:00.000000000",
          "2024-01-01T01:53:30.000000000",
          "2024-01-01T01:54:00.000000000",
          "2024-01-01T01:54:30.000000000",
          "2024-01-01T01:55:00.000000000",
          "2024-01-01T01:55:30.000000000",
          "2024-01-01T01:56:00.000000000",
          "2024-01-01T01:56:30.000000000",
          "2024-01-01T01:57:00.000000000",
          "2024-01-01T01:57:30.000000000",
          "2024-01-01T01:58:00.000000000",
          "2024-01-01T01:58:30.000000000",
          "2024-01-01T01:59:00.000000000",
          "2024-01-01T01:59:30.000000000",
          "2024-01-01T02:00:00.000000000",
          "2024-01-01T02:00:30.000000000",
          "2024-01-01T02:01:00.000000000",
          "2024-01-01T02:01:30.000000000",
          "2024-01-01T02:02:00.000000000",
          "2024-01-01T02:02:30.000000000",
          "2024-01-01T02:03:00.000000000",
          "2024-01-01T02:03:30.000000000",
          "2024-01-01T02:04:00.000000000",
          "2024-01-01T02:04:30.000000000",
          "2024-01-01T02:05:00.000000000",
          "2024-01-01T02:05:30.000000000",
          "2024-01-01T02:06:00.000000000",
          "2024-01-01T02:06:30.000000000",
          "2024-01-01T02:07:00.000000000",
          "2024-01-01T02:07:30.000000000",
          "2024-01-01T02:08:00.000000000",
          "2024-01-01T02:08:30.000000000",
          "2024-01-01T02:09:00.000000000",
          "2024-01-01T02:09:30.000000000",
          "2024-01-01T02:10:00.000000000",
          "2024-01-01T02:10:30.000000000",
          "2024-01-01T02:11:00.000000000",
          "2024-01-01T02:11:30.000000000",
          "2024-01-01T02:12:00.000000000",
          "2024-01-01T02:12:30.000000000",
          "2024-01-01T02:13:00.000000000",
          "2024-01-01T02:13:30.000000000",
          "2024-01-01T02:14:00.000000000",
          "2024-01-01T02:14:30.000000000",
          "2024-01-01T02:15:00.000000000",
          "2024-01-01T02:15:30.000000000",
          "2024-01-01T02:16:00.000000000",
          "2024-01-01T02:16:30.000000000",
          "2024-01-01T02:17:00.000000000",
          "2024-01-01T02:17:30.000000000",
          "2024-01-01T02:18:00.000000000",
          "2024-01-01T02:18:30.000000000",
          "2024-01-01T02:19:00.000000000",
          "2024-01-01T02:19:30.000000000",
          "2024-01-01T02:20:00.000000000",
          "2024-01-01T02:20:30.000000000",
          "2024-01-01T02:21:00.000000000",
          "2024-01-01T02:21:30.000000000",
          "2024-01-01T02:22:00.000000000",
          "2024-01-01T02:22:30.000000000",
          "2024-01-01T02:23:00.000000000",
          "2024-01-01T02:23:30.000000000",
          "2024-01-01T02:24:00.000000000",
          "2024-01-01T02:24:30.000000000",
          "2024-01-01T02:25:00.000000000",
          "2024-01-01T02:25:30.000000000",
          "2024-01-01T02:26:00.000000000",
          "2024-01-01T02:26:30.000000000",
          "2024-01-01T02:27:00.000000000",
          "2024-01-01T02:27:30.000000000",
          "2024-01-01T02:28:00.000000000",
          "2024-01-01T02:28:30.000000000",
          "2024-01-01T02:29:00.000000000",
          "2024-01-01T02:29:30.000000000",
          "2024-01-01T02:30:00.000000000",
          "2024-01-01T02:30:30.000000000",
          "2024-01-01T02:31:00.000000000",
          "2024-01-01T02:31:30.000000000",
          "2024-01-01T02:32:00.000000000",
          "2024-01-01T02:32:30.000000000",
          "2024-01-01T02:33:00.000000000",
          "2024-01-01T02:33:30.000000000",
          "2024-01-01T02:34:00.000000000",
          "2024-01-01T02:34:30.000000000",
          "2024-01-01T02:35:00.000000000",
          "2024-01-01T02:35:30.000000000",
          "2024-01-01T02:36:00.000000000",
          "2024-01-01T02:36:30.000000000",
          "2024-01-01T02:37:00.000000000",
          "2024-01-01T02:37:30.000000000",
          "2024-01-01T02:38:00.000000000",
          "2024-01-01T02:38:30.000000000",
          "2024-01-01T02:39:00.000000000",
          "2024-01-01T02:39:30.000000000",
          "2024-01-01T02:40:00.000000000",
          "2024-01-01T02:40:30.000000000",
          "2024-01-01T02:41:00.000000000",
          "2024-01-01T02:41:30.000000000",
          "2024-01-01T02:42:00.000000000",
          "2024-01-01T02:42:30.000000000",
          "2024-01-01T02:43:00.000000000",
          "2024-01-01T02:43:30.000000000",
          "2024-01-01T02:44:00.000000000",
          "2024-01-01T02:44:30.000000000",
          "2024-01-01T02:45:00.000000000",
          "2024-01-01T02:45:30.000000000",
          "2024-01-01T02:46:00.000000000",
          "2024-01-01T02:46:30.000000000",
          "2024-01-01T02:47:00.000000000",
          "2024-01-01T02:47:30.000000000",
          "2024-01-01T02:48:00.000000000",
          "2024-01-01T02:48:30.000000000",
          "2024-01-01T02:49:00.000000000",
          "2024-01-01T02:49:30.000000000",
          "2024-01-01T02:50:00.000000000",
          "2024-01-01T02:50:30.000000000",
          "2024-01-01T02:51:00.000000000",
          "2024-01-01T02:51:30.000000000",
          "2024-01-01T02:52:00.000000000",
          "2024-01-01T02:52:30.000000000",
          "2024-01-01T02:53:00.000000000",
          "2024-01-01T02:53:30.000000000",
          "2024-01-01T02:54:00.000000000",
          "2024-01-01T02:54:30.000000000",
          "2024-01-01T02:55:00.000000000",
          "2024-01-01T02:55:30.000000000",
          "2024-01-01T02:56:00.000000000",
          "2024-01-01T02:56:30.000000000",
          "2024-01-01T02:57:00.000000000",
          "2024-01-01T02:57:30.000000000",
          "2024-01-01T02:58:00.000000000",
          "2024-01-01T02:58:30.000000000",
          "2024-01-01T02:59:00.000000000",
          "2024-01-01T02:59:30.000000000",
          "2024-01-01T03:00:00.000000000",
          "2024-01-01T03:00:30.000000000",
          "2024-01-01T03:01:00.000000000",
          "2024-01-01T03:01:30.000000000",
          "2024-01-01T03:02:00.000000000",
          "2024-01-01T03:02:30.000000000",
          "2024-01-01T03:03:00.000000000",
          "2024-01-01T03:03:30.000000000",
          "2024-01-01T03:04:00.000000000",
          "2024-01-01T03:04:30.000000000",
          "2024-01-01T03:05:00.000000000",
          "2024-01-01T03:05:30.000000000",
          "2024-01-01T03:06:00.000000000",
          "2024-01-01T03:06:30.000000000",
          "2024-01-01T03:07:00.000000000",
          "2024-01-01T03:07:30.000000000",
          "2024-01-01T03:08:00.000000000",
          "2024-01-01T03:08:30.000000000",
          "2024-01-01T03:09:00.000000000",
          "2024-01-01T03:09:30.000000000",
          "2024-01-01T03:10:00.000000000",
          "2024-01-01T03:10:30.000000000",
          "2024-01-01T03:11:00.000000000",
          "2024-01-01T03:11:30.000000000",
          "2024-01-01T03:12:00.000000000",
          "2024-01-01T03:12:30.000000000",
          "2024-01-01T03:13:00.000000000",
          "2024-01-01T03:13:30.000000000",
          "2024-01-01T03:14:00.000000000",
          "2024-01-01T03:14:30.000000000",
          "2024-01-01T03:15:00.000000000",
          "2024-01-01T03:15:30.000000000",
          "2024-01-01T03:16:00.000000000",
          "2024-01-01T03:16:30.000000000",
          "2024-01-01T03:17:00.000000000",
          "2024-01-01T03:17:30.000000000",
          "2024-01-01T03:18:00.000000000",
          "2024-01-01T03:18:30.000000000",
          "2024-01-01T03:19:00.000000000",
          "2024-01-01T03:19:30.000000000",
          "2024-01-01T03:20:00.000000000",
          "2024-01-01T03:20:30.000000000",
          "2024-01-01T03:21:00.000000000",
          "2024-01-01T03:21:30.000000000",
          "2024-01-01T03:22:00.000000000",
          "2024-01-01T03:22:30.000000000",
          "2024-01-01T03:23:00.000000000",
          "2024-01-01T03:23:30.000000000",
          "2024-01-01T03:24:00.000000000",
          "2024-01-01T03:24:30.000000000",
          "2024-01-01T03:25:00.000000000",
          "2024-01-01T03:25:30.000000000",
          "2024-01-01T03:26:00.000000000",
          "2024-01-01T03:26:30.000000000",
          "2024-01-01T03:27:00.000000000",
          "2024-01-01T03:27:30.000000000",
          "2024-01-01T03:28:00.000000000",
          "2024-01-01T03:28:30.000000000",
          "2024-01-01T03:29:00.000000000",
          "2024-01-01T03:29:30.000000000",
          "2024-01-01T03:30:00.000000000",
          "2024-01-01T03:30:30.000000000",
          "2024-01-01T03:31:00.000000000",
          "2024-01-01T03:31:30.000000000",
          "2024-01-01T03:32:00.000000000",
          "2024-01-01T03:32:30.000000000",
          "2024-01-01T03:33:00.000000000",
          "2024-01-01T03:33:30.000000000",
          "2024-01-01T03:34:00.000000000",
          "2024-01-01T03:34:30.000000000",
          "2024-01-01T03:35:00.000000000",
          "2024-01-01T03:35:30.000000000",
          "2024-01-01T03:36:00.000000000",
          "2024-01-01T03:36:30.000000000",
          "2024-01-01T03:37:00.000000000",
          "2024-01-01T03:37:30.000000000",
          "2024-01-01T03:38:00.000000000",
          "2024-01-01T03:38:30.000000000",
          "2024-01-01T03:39:00.000000000",
          "2024-01-01T03:39:30.000000000",
          "2024-01-01T03:40:00.000000000",
          "2024-01-01T03:40:30.000000000",
          "2024-01-01T03:41:00.000000000",
          "2024-01-01T03:41:30.000000000",
          "2024-01-01T03:42:00.000000000",
          "2024-01-01T03:42:30.000000000",
          "2024-01-01T03:43:00.000000000",
          "2024-01-01T03:43:30.000000000",
          "2024-01-01T03:44:00.000000000",
          "2024-01-01T03:44:30.000000000",
          "2024-01-01T03:45:00.000000000",
          "2024-01-01T03:45:30.000000000",
          "2024-01-01T03:46:00.000000000",
          "2024-01-01T03:46:30.000000000",
          "2024-01-01T03:47:00.000000000",
          "2024-01-01T03:47:30.000000000",
          "2024-01-01T03:48:00.000000000",
          "2024-01-01T03:48:30.000000000",
          "2024-01-01T03:49:00.000000000",
          "2024-01-01T03:49:30.000000000",
          "2024-01-01T03:50:00.000000000",
          "2024-01-01T03:50:30.000000000",
          "2024-01-01T03:51:00.000000000",
          "2024-01-01T03:51:30.000000000",
          "2024-01-01T03:52:00.000000000",
          "2024-01-01T03:52:30.000000000",
          "2024-01-01T03:53:00.000000000",
          "2024-01-01T03:53:30.000000000",
          "2024-01-01T03:54:00.000000000",
          "2024-01-01T03:54:30.000000000",
          "2024-01-01T03:55:00.000000000",
          "2024-01-01T03:55:30.000000000",
          "2024-01-01T03:56:00.000000000",
          "2024-01-01T03:56:30.000000000",
          "2024-01-01T03:57:00.000000000",
          "2024-01-01T03:57:30.000000000",
          "2024-01-01T03:58:00.000000000",
          "2024-01-01T03:58:30.000000000",
          "2024-01-01T03:59:00.000000000",
          "2024-01-01T03:59:30.000000000",
          "2024-01-01T04:00:00.000000000",
          "2024-01-01T04:00:30.000000000",
          "2024-01-01T04:01:00.000000000",
          "2024-01-01T04:01:30.000000000",
          "2024-01-01T04:02:00.000000000",
          "2024-01-01T04:02:30.000000000",
          "2024-01-01T04:03:00.000000000",
          "2024-01-01T04:03:30.000000000",
          "2024-01-01T04:04:00.000000000",
          "2024-01-01T04:04:30.000000000",
          "2024-01-01T04:05:00.000000000",
          "2024-01-01T04:05:30.000000000",
          "2024-01-01T04:06:00.000000000",
          "2024-01-01T04:06:30.000000000",
          "2024-01-01T04:07:00.000000000",
          "2024-01-01T04:07:30.000000000",
          "2024-01-01T04:08:00.000000000",
          "2024-01-01T04:08:30.000000000",
          "2024-01-01T04:09:00.000000000",
          "2024-01-01T04:09:30.000000000",
          "2024-01-01T04:10:00.000000000",
          "2024-01-01T04:10:30.000000000",
          "2024-01-01T04:11:00.000000000",
          "2024-01-01T04:11:30.000000000",
          "2024-01-01T04:12:00.000000000",
          "2024-01-01T04:12:30.000000000",
          "2024-01-01T04:13:00.000000000",
          "2024-01-01T04:13:30.000000000",
          "2024-01-01T04:14:00.000000000",
          "2024-01-01T04:14:30.000000000",
          "2024-01-01T04:15:00.000000000",
          "2024-01-01T04:15:30.000000000",
          "2024-01-01T04:16:00.000000000",
          "2024-01-01T04:16:30.000000000",
          "2024-01-01T04:17:00.000000000",
          "2024-01-01T04:17:30.000000000",
          "2024-01-01T04:18:00.000000000",
          "2024-01-01T04:18:30.000000000",
          "2024-01-01T04:19:00.000000000",
          "2024-01-01T04:19:30.000000000",
          "2024-01-01T04:20:00.000000000",
          "2024-01-01T04:20:30.000000000",
          "2024-01-01T04:21:00.000000000",
          "2024-01-01T04:21:30.000000000",
          "2024-01-01T04:22:00.000000000",
          "2024-01-01T04:22:30.000000000",
          "2024-01-01T04:23:00.000000000",
          "2024-01-01T04:23:30.000000000",
          "2024-01-01T04:24:00.000000000",
          "2024-01-01T04:24:30.000000000",
          "2024-01-01T04:25:00.000000000",
          "2024-01-01T04:25:30.000000000",
          "2024-01-01T04:26:00.000000000",
          "2024-01-01T04:26:30.000000000",
          "2024-01-01T04:27:00.000000000",
          "2024-01-01T04:27:30.000000000",
          "2024-01-01T04:28:00.000000000",
          "2024-01-01T04:28:30.000000000",
          "2024-01-01T04:29:00.000000000",
          "2024-01-01T04:29:30.000000000",
          "2024-01-01T04:30:00.000000000",
          "2024-01-01T04:30:30.000000000",
          "2024-01-01T04:31:00.000000000",
          "2024-01-01T04:31:30.000000000",
          "2024-01-01T04:32:00.000000000",
          "2024-01-01T04:32:30.000000000",
          "2024-01-01T04:33:00.000000000",
          "2024-01-01T04:33:30.000000000",
          "2024-01-01T04:34:00.000000000",
          "2024-01-01T04:34:30.000000000",
          "2024-01-01T04:35:00.000000000",
          "2024-01-01T04:35:30.000000000",
          "2024-01-01T04:36:00.000000000",
          "2024-01-01T04:36:30.000000000",
          "2024-01-01T04:37:00.000000000",
          "2024-01-01T04:37:30.000000000",
          "2024-01-01T04:38:00.000000000",
          "2024-01-01T04:38:30.000000000",
          "2024-01-01T04:39:00.000000000",
          "2024-01-01T04:39:30.000000000",
          "2024-01-01T04:40:00.000000000",
          "2024-01-01T04:40:30.000000000",
          "2024-01-01T04:41:00.000000000",
          "2024-01-01T04:41:30.000000000",
          "2024-01-01T04:42:00.000000000",
          "2024-01-01T04:42:30.000000000",
          "2024-01-01T04:43:00.000000000",
          "2024-01-01T04:43:30.000000000",
          "2024-01-01T04:44:00.000000000",
          "2024-01-01T04:44:30.000000000",
          "2024-01-01T04:45:00.000000000",
          "2024-01-01T04:45:30.000000000",
          "2024-01-01T04:46:00.000000000",
          "2024-01-01T04:46:30.000000000",
          "2024-01-01T04:47:00.000000000",
          "2024-01-01T04:47:30.000000000",
          "2024-01-01T04:48:00.000000000",
          "2024-01-01T04:48:30.000000000",
          "2024-01-01T04:49:00.000000000",
          "2024-01-01T04:49:30.000000000",
          "2024-01-01T04:50:00.000000000",
          "2024-01-01T04:50:30.000000000",
          "2024-01-01T04:51:00.000000000",
          "2024-01-01T04:51:30.000000000",
          "2024-01-01T04:52:00.000000000",
          "2024-01-01T04:52:30.000000000",
          "2024-01-01T04:53:00.000000000",
          "2024-01-01T04:53:30.000000000",
          "2024-01-01T04:54:00.000000000",
          "2024-01-01T04:54:30.000000000",
          "2024-01-01T04:55:00.000000000",
          "2024-01-01T04:55:30.000000000",
          "2024-01-01T04:56:00.000000000",
          "2024-01-01T04:56:30.000000000",
          "2024-01-01T04:57:00.000000000",
          "2024-01-01T04:57:30.000000000",
          "2024-01-01T04:58:00.000000000",
          "2024-01-01T04:58:30.000000000",
          "2024-01-01T04:59:00.000000000",
          "2024-01-01T04:59:30.000000000",
          "2024-01-01T05:00:00.000000000",
          "2024-01-01T05:00:30.000000000",
          "2024-01-01T05:01:00.000000000",
          "2024-01-01T05:01:30.000000000",
          "2024-01-01T05:02:00.000000000",
          "2024-01-01T05:02:30.000000000",
          "2024-01-01T05:03:00.000000000",
          "2024-01-01T05:03:30.000000000",
          "2024-01-01T05:04:00.000000000",
          "2024-01-01T05:04:30.000000000",
          "2024-01-01T05:05:00.000000000",
          "2024-01-01T05:05:30.000000000",
          "2024-01-01T05:06:00.000000000",
          "2024-01-01T05:06:30.000000000",
          "2024-01-01T05:07:00.000000000",
          "2024-01-01T05:07:30.000000000",
          "2024-01-01T05:08:00.000000000",
          "2024-01-01T05:08:30.000000000",
          "2024-01-01T05:09:00.000000000",
          "2024-01-01T05:09:30.000000000",
          "2024-01-01T05:10:00.000000000",
          "2024-01-01T05:10:30.000000000",
          "2024-01-01T05:11:00.000000000",
          "2024-01-01T05:11:30.000000000",
          "2024-01-01T05:12:00.000000000",
          "2024-01-01T05:12:30.000000000",
          "2024-01-01T05:13:00.000000000",
          "2024-01-01T05:13:30.000000000",
          "2024-01-01T05:14:00.000000000",
          "2024-01-01T05:14:30.000000000",
          "2024-01-01T05:15:00.000000000",
          "2024-01-01T05:15:30.000000000",
          "2024-01-01T05:16:00.000000000",
          "2024-01-01T05:16:30.000000000",
          "2024-01-01T05:17:00.000000000",
          "2024-01-01T05:17:30.000000000",
          "2024-01-01T05:18:00.000000000",
          "2024-01-01T05:18:30.000000000",
          "2024-01-01T05:19:00.000000000",
          "2024-01-01T05:19:30.000000000",
          "2024-01-01T05:20:00.000000000",
          "2024-01-01T05:20:30.000000000",
          "2024-01-01T05:21:00.000000000",
          "2024-01-01T05:21:30.000000000",
          "2024-01-01T05:22:00.000000000",
          "2024-01-01T05:22:30.000000000",
          "2024-01-01T05:23:00.000000000",
          "2024-01-01T05:23:30.000000000",
          "2024-01-01T05:24:00.000000000",
          "2024-01-01T05:24:30.000000000",
          "2024-01-01T05:25:00.000000000",
          "2024-01-01T05:25:30.000000000",
          "2024-01-01T05:26:00.000000000",
          "2024-01-01T05:26:30.000000000",
          "2024-01-01T05:27:00.000000000",
          "2024-01-01T05:27:30.000000000",
          "2024-01-01T05:28:00.000000000",
          "2024-01-01T05:28:30.000000000",
          "2024-01-01T05:29:00.000000000",
          "2024-01-01T05:29:30.000000000",
          "2024-01-01T05:30:00.000000000",
          "2024-01-01T05:30:30.000000000",
          "2024-01-01T05:31:00.000000000",
          "2024-01-01T05:31:30.000000000",
          "2024-01-01T05:32:00.000000000",
          "2024-01-01T05:32:30.000000000",
          "2024-01-01T05:33:00.000000000",
          "2024-01-01T05:33:30.000000000",
          "2024-01-01T05:34:00.000000000",
          "2024-01-01T05:34:30.000000000",
          "2024-01-01T05:35:00.000000000",
          "2024-01-01T05:35:30.000000000",
          "2024-01-01T05:36:00.000000000",
          "2024-01-01T05:36:30.000000000",
          "2024-01-01T05:37:00.000000000",
          "2024-01-01T05:37:30.000000000",
          "2024-01-01T05:38:00.000000000",
          "2024-01-01T05:38:30.000000000",
          "2024-01-01T05:39:00.000000000",
          "2024-01-01T05:39:30.000000000",
          "2024-01-01T05:40:00.000000000",
          "2024-01-01T05:40:30.000000000",
          "2024-01-01T05:41:00.000000000",
          "2024-01-01T05:41:30.000000000",
          "2024-01-01T05:42:00.000000000",
          "2024-01-01T05:42:30.000000000",
          "2024-01-01T05:43:00.000000000",
          "2024-01-01T05:43:30.000000000",
          "2024-01-01T05:44:00.000000000",
          "2024-01-01T05:44:30.000000000",
          "2024-01-01T05:45:00.000000000",
          "2024-01-01T05:45:30.000000000",
          "2024-01-01T05:46:00.000000000",
          "2024-01-01T05:46:30.000000000",
          "2024-01-01T05:47:00.000000000",
          "2024-01-01T05:47:30.000000000",
          "2024-01-01T05:48:00.000000000",
          "2024-01-01T05:48:30.000000000",
          "2024-01-01T05:49:00.000000000",
          "2024-01-01T05:49:30.000000000",
          "2024-01-01T05:50:00.000000000",
          "2024-01-01T05:50:30.000000000",
          "2024-01-01T05:51:00.000000000",
          "2024-01-01T05:51:30.000000000",
          "2024-01-01T05:52:00.000000000",
          "2024-01-01T05:52:30.000000000",
          "2024-01-01T05:53:00.000000000",
          "2024-01-01T05:53:30.000000000",
          "2024-01-01T05:54:00.000000000",
          "2024-01-01T05:54:30.000000000",
          "2024-01-01T05:55:00.000000000",
          "2024-01-01T05:55:30.000000000",
          "2024-01-01T05:56:00.000000000",
          "2024-01-01T05:56:30.000000000",
          "2024-01-01T05:57:00.000000000",
          "2024-01-01T05:57:30.000000000",
          "2024-01-01T05:58:00.000000000",
          "2024-01-01T05:58:30.000000000",
          "2024-01-01T05:59:00.000000000",
          "2024-01-01T05:59:30.000000000",
          "2024-01-01T06:00:00.000000000",
          "2024-01-01T06:00:30.000000000",
          "2024-01-01T06:01:00.000000000",
          "2024-01-01T06:01:30.000000000",
          "2024-01-01T06:02:00.000000000",
          "2024-01-01T06:02:30.000000000",
          "2024-01-01T06:03:00.000000000",
          "2024-01-01T06:03:30.000000000",
          "2024-01-01T06:04:00.000000000",
          "2024-01-01T06:04:30.000000000",
          "2024-01-01T06:05:00.000000000",
          "2024-01-01T06:05:30.000000000",
          "2024-01-01T06:06:00.000000000",
          "2024-01-01T06:06:30.000000000",
          "2024-01-01T06:07:00.000000000",
          "2024-01-01T06:07:30.000000000",
          "2024-01-01T06:08:00.000000000",
          "2024-01-01T06:08:30.000000000",
          "2024-01-01T06:09:00.000000000",
          "2024-01-01T06:09:30.000000000",
          "2024-01-01T06:10:00.000000000",
          "2024-01-01T06:10:30.000000000",
          "2024-01-01T06:11:00.000000000",
          "2024-01-01T06:11:30.000000000",
          "2024-01-01T06:12:00.000000000",
          "2024-01-01T06:12:30.000000000",
          "2024-01-01T06:13:00.000000000",
          "2024-01-01T06:13:30.000000000",
          "2024-01-01T06:14:00.000000000",
          "2024-01-01T06:14:30.000000000",
          "2024-01-01T06:15:00.000000000",
          "2024-01-01T06:15:30.000000000",
          "2024-01-01T06:16:00.000000000",
          "2024-01-01T06:16:30.000000000",
          "2024-01-01T06:17:00.000000000",
          "2024-01-01T06:17:30.000000000",
          "2024-01-01T06:18:00.000000000",
          "2024-01-01T06:18:30.000000000",
          "2024-01-01T06:19:00.000000000",
          "2024-01-01T06:19:30.000000000",
          "2024-01-01T06:20:00.000000000",
          "2024-01-01T06:20:30.000000000",
          "2024-01-01T06:21:00.000000000",
          "2024-01-01T06:21:30.000000000",
          "2024-01-01T06:22:00.000000000",
          "2024-01-01T06:22:30.000000000",
          "2024-01-01T06:23:00.000000000",
          "2024-01-01T06:23:30.000000000",
          "2024-01-01T06:24:00.000000000",
          "2024-01-01T06:24:30.000000000",
          "2024-01-01T06:25:00.000000000",
          "2024-01-01T06:25:30.000000000",
          "2024-01-01T06:26:00.000000000",
          "2024-01-01T06:26:30.000000000",
          "2024-01-01T06:27:00.000000000",
          "2024-01-01T06:27:30.000000000",
          "2024-01-01T06:28:00.000000000",
          "2024-01-01T06:28:30.000000000",
          "2024-01-01T06:29:00.000000000",
          "2024-01-01T06:29:30.000000000",
          "2024-01-01T06:30:00.000000000",
          "2024-01-01T06:30:30.000000000",
          "2024-01-01T06:31:00.000000000",
          "2024-01-01T06:31:30.000000000",
          "2024-01-01T06:32:00.000000000",
          "2024-01-01T06:32:30.000000000",
          "2024-01-01T06:33:00.000000000",
          "2024-01-01T06:33:30.000000000",
          "2024-01-01T06:34:00.000000000",
          "2024-01-01T06:34:30.000000000",
          "2024-01-01T06:35:00.000000000",
          "2024-01-01T06:35:30.000000000",
          "2024-01-01T06:36:00.000000000",
          "2024-01-01T06:36:30.000000000",
          "2024-01-01T06:37:00.000000000",
          "2024-01-01T06:37:30.000000000",
          "2024-01-01T06:38:00.000000000",
          "2024-01-01T06:38:30.000000000",
          "2024-01-01T06:39:00.000000000",
          "2024-01-01T06:39:30.000000000",
          "2024-01-01T06:40:00.000000000",
          "2024-01-01T06:40:30.000000000",
          "2024-01-01T06:41:00.000000000",
          "2024-01-01T06:41:30.000000000",
          "2024-01-01T06:42:00.000000000",
          "2024-01-01T06:42:30.000000000",
          "2024-01-01T06:43:00.000000000",
          "2024-01-01T06:43:30.000000000",
          "2024-01-01T06:44:00.000000000",
          "2024-01-01T06:44:30.000000000",
          "2024-01-01T06:45:00.000000000",
          "2024-01-01T06:45:30.000000000",
          "2024-01-01T06:46:00.000000000",
          "2024-01-01T06:46:30.000000000",
          "2024-01-01T06:47:00.000000000",
          "2024-01-01T06:47:30.000000000",
          "2024-01-01T06:48:00.000000000",
          "2024-01-01T06:48:30.000000000",
          "2024-01-01T06:49:00.000000000",
          "2024-01-01T06:49:30.000000000",
          "2024-01-01T06:50:00.000000000",
          "2024-01-01T06:50:30.000000000",
          "2024-01-01T06:51:00.000000000",
          "2024-01-01T06:51:30.000000000",
          "2024-01-01T06:52:00.000000000",
          "2024-01-01T06:52:30.000000000",
          "2024-01-01T06:53:00.000000000",
          "2024-01-01T06:53:30.000000000",
          "2024-01-01T06:54:00.000000000",
          "2024-01-01T06:54:30.000000000",
          "2024-01-01T06:55:00.000000000",
          "2024-01-01T06:55:30.000000000",
          "2024-01-01T06:56:00.000000000",
          "2024-01-01T06:56:30.000000000",
          "2024-01-01T06:57:00.000000000",
          "2024-01-01T06:57:30.000000000",
          "2024-01-01T06:58:00.000000000",
          "2024-01-01T06:58:30.000000000",
          "2024-01-01T06:59:00.000000000",
          "2024-01-01T06:59:30.000000000",
          "2024-01-01T07:00:00.000000000",
          "2024-01-01T07:00:30.000000000",
          "2024-01-01T07:01:00.000000000",
          "2024-01-01T07:01:30.000000000",
          "2024-01-01T07:02:00.000000000",
          "2024-01-01T07:02:30.000000000",
          "2024-01-01T07:03:00.000000000",
          "2024-01-01T07:03:30.000000000",
          "2024-01-01T07:04:00.000000000",
          "2024-01-01T07:04:30.000000000",
          "2024-01-01T07:05:00.000000000",
          "2024-01-01T07:05:30.000000000",
          "2024-01-01T07:06:00.000000000",
          "2024-01-01T07:06:30.000000000",
          "2024-01-01T07:07:00.000000000",
          "2024-01-01T07:07:30.000000000",
          "2024-01-01T07:08:00.000000000",
          "2024-01-01T07:08:30.000000000",
          "2024-01-01T07:09:00.000000000",
          "2024-01-01T07:09:30.000000000",
          "2024-01-01T07:10:00.000000000",
          "2024-01-01T07:10:30.000000000",
          "2024-01-01T07:11:00.000000000",
          "2024-01-01T07:11:30.000000000",
          "2024-01-01T07:12:00.000000000",
          "2024-01-01T07:12:30.000000000",
          "2024-01-01T07:13:00.000000000",
          "2024-01-01T07:13:30.000000000",
          "2024-01-01T07:14:00.000000000",
          "2024-01-01T07:14:30.000000000",
          "2024-01-01T07:15:00.000000000",
          "2024-01-01T07:15:30.000000000",
          "2024-01-01T07:16:00.000000000",
          "2024-01-01T07:16:30.000000000",
          "2024-01-01T07:17:00.000000000",
          "2024-01-01T07:17:30.000000000",
          "2024-01-01T07:18:00.000000000",
          "2024-01-01T07:18:30.000000000",
          "2024-01-01T07:19:00.000000000",
          "2024-01-01T07:19:30.000000000",
          "2024-01-01T07:20:00.000000000",
          "2024-01-01T07:20:30.000000000",
          "2024-01-01T07:21:00.000000000",
          "2024-01-01T07:21:30.000000000",
          "2024-01-01T07:22:00.000000000",
          "2024-01-01T07:22:30.000000000",
          "2024-01-01T07:23:00.000000000",
          "2024-01-01T07:23:30.000000000",
          "2024-01-01T07:24:00.000000000",
          "2024-01-01T07:24:30.000000000",
          "2024-01-01T07:25:00.000000000",
          "2024-01-01T07:25:30.000000000",
          "2024-01-01T07:26:00.000000000",
          "2024-01-01T07:26:30.000000000",
          "2024-01-01T07:27:00.000000000",
          "2024-01-01T07:27:30.000000000",
          "2024-01-01T07:28:00.000000000",
          "2024-01-01T07:28:30.000000000",
          "2024-01-01T07:29:00.000000000",
          "2024-01-01T07:29:30.000000000",
          "2024-01-01T07:30:00.000000000",
          "2024-01-01T07:30:30.000000000",
          "2024-01-01T07:31:00.000000000",
          "2024-01-01T07:31:30.000000000",
          "2024-01-01T07:32:00.000000000",
          "2024-01-01T07:32:30.000000000",
          "2024-01-01T07:33:00.000000000",
          "2024-01-01T07:33:30.000000000",
          "2024-01-01T07:34:00.000000000",
          "2024-01-01T07:34:30.000000000",
          "2024-01-01T07:35:00.000000000",
          "2024-01-01T07:35:30.000000000",
          "2024-01-01T07:36:00.000000000",
          "2024-01-01T07:36:30.000000000",
          "2024-01-01T07:37:00.000000000",
          "2024-01-01T07:37:30.000000000",
          "2024-01-01T07:38:00.000000000",
          "2024-01-01T07:38:30.000000000",
          "2024-01-01T07:39:00.000000000",
          "2024-01-01T07:39:30.000000000",
          "2024-01-01T07:40:00.000000000",
          "2024-01-01T07:40:30.000000000",
          "2024-01-01T07:41:00.000000000",
          "2024-01-01T07:41:30.000000000",
          "2024-01-01T07:42:00.000000000",
          "2024-01-01T07:42:30.000000000",
          "2024-01-01T07:43:00.000000000",
          "2024-01-01T07:43:30.000000000",
          "2024-01-01T07:44:00.000000000",
          "2024-01-01T07:44:30.000000000",
          "2024-01-01T07:45:00.000000000",
          "2024-01-01T07:45:30.000000000",
          "2024-01-01T07:46:00.000000000",
          "2024-01-01T07:46:30.000000000",
          "2024-01-01T07:47:00.000000000",
          "2024-01-01T07:47:30.000000000",
          "2024-01-01T07:48:00.000000000",
          "2024-01-01T07:48:30.000000000",
          "2024-01-01T07:49:00.000000000",
          "2024-01-01T07:49:30.000000000",
          "2024-01-01T07:50:00.000000000",
          "2024-01-01T07:50:30.000000000",
          "2024-01-01T07:51:00.000000000",
          "2024-01-01T07:51:30.000000000",
          "2024-01-01T07:52:00.000000000",
          "2024-01-01T07:52:30.000000000",
          "2024-01-01T07:53:00.000000000",
          "2024-01-01T07:53:30.000000000",
          "2024-01-01T07:54:00.000000000",
          "2024-01-01T07:54:30.000000000",
          "2024-01-01T07:55:00.000000000",
          "2024-01-01T07:55:30.000000000",
          "2024-01-01T07:56:00.000000000",
          "2024-01-01T07:56:30.000000000",
          "2024-01-01T07:57:00.000000000",
          "2024-01-01T07:57:30.000000000",
          "2024-01-01T07:58:00.000000000",
          "2024-01-01T07:58:30.000000000",
          "2024-01-01T07:59:00.000000000",
          "2024-01-01T07:59:30.000000000",
          "2024-01-01T08:00:00.000000000",
          "2024-01-01T08:00:30.000000000",
          "2024-01-01T08:01:00.000000000",
          "2024-01-01T08:01:30.000000000",
          "2024-01-01T08:02:00.000000000",
          "2024-01-01T08:02:30.000000000",
          "2024-01-01T08:03:00.000000000",
          "2024-01-01T08:03:30.000000000",
          "2024-01-01T08:04:00.000000000",
          "2024-01-01T08:04:30.000000000",
          "2024-01-01T08:05:00.000000000",
          "2024-01-01T08:05:30.000000000",
          "2024-01-01T08:06:00.000000000",
          "2024-01-01T08:06:30.000000000",
          "2024-01-01T08:07:00.000000000",
          "2024-01-01T08:07:30.000000000",
          "2024-01-01T08:08:00.000000000",
          "2024-01-01T08:08:30.000000000",
          "2024-01-01T08:09:00.000000000",
          "2024-01-01T08:09:30.000000000",
          "2024-01-01T08:10:00.000000000",
          "2024-01-01T08:10:30.000000000",
          "2024-01-01T08:11:00.000000000",
          "2024-01-01T08:11:30.000000000",
          "2024-01-01T08:12:00.000000000",
          "2024-01-01T08:12:30.000000000",
          "2024-01-01T08:13:00.000000000",
          "2024-01-01T08:13:30.000000000",
          "2024-01-01T08:14:00.000000000",
          "2024-01-01T08:14:30.000000000",
          "2024-01-01T08:15:00.000000000",
          "2024-01-01T08:15:30.000000000",
          "2024-01-01T08:16:00.000000000",
          "2024-01-01T08:16:30.000000000",
          "2024-01-01T08:17:00.000000000",
          "2024-01-01T08:17:30.000000000",
          "2024-01-01T08:18:00.000000000",
          "2024-01-01T08:18:30.000000000",
          "2024-01-01T08:19:00.000000000",
          "2024-01-01T08:19:30.000000000",
          "2024-01-01T08:20:00.000000000",
          "2024-01-01T08:20:30.000000000",
          "2024-01-01T08:21:00.000000000",
          "2024-01-01T08:21:30.000000000",
          "2024-01-01T08:22:00.000000000",
          "2024-01-01T08:22:30.000000000",
          "2024-01-01T08:23:00.000000000",
          "2024-01-01T08:23:30.000000000",
          "2024-01-01T08:24:00.000000000",
          "2024-01-01T08:24:30.000000000",
          "2024-01-01T08:25:00.000000000",
          "2024-01-01T08:25:30.000000000",
          "2024-01-01T08:26:00.000000000",
          "2024-01-01T08:26:30.000000000",
          "2024-01-01T08:27:00.000000000",
          "2024-01-01T08:27:30.000000000",
          "2024-01-01T08:28:00.000000000",
          "2024-01-01T08:28:30.000000000",
          "2024-01-01T08:29:00.000000000",
          "2024-01-01T08:29:30.000000000",
          "2024-01-01T08:30:00.000000000",
          "2024-01-01T08:30:30.000000000",
          "2024-01-01T08:31:00.000000000",
          "2024-01-01T08:31:30.000000000",
          "2024-01-01T08:32:00.000000000",
          "2024-01-01T08:32:30.000000000",
          "2024-01-01T08:33:00.000000000",
          "2024-01-01T08:33:30.000000000",
          "2024-01-01T08:34:00.000000000",
          "2024-01-01T08:34:30.000000000",
          "2024-01-01T08:35:00.000000000",
          "2024-01-01T08:35:30.000000000",
          "2024-01-01T08:36:00.000000000",
          "2024-01-01T08:36:30.000000000",
          "2024-01-01T08:37:00.000000000",
          "2024-01-01T08:37:30.000000000",
          "2024-01-01T08:38:00.000000000",
          "2024-01-01T08:38:30.000000000",
          "2024-01-01T08:39:00.000000000",
          "2024-01-01T08:39:30.000000000",
          "2024-01-01T08:40:00.000000000",
          "2024-01-01T08:40:30.000000000",
          "2024-01-01T08:41:00.000000000",
          "2024-01-01T08:41:30.000000000",
          "2024-01-01T08:42:00.000000000",
          "2024-01-01T08:42:30.000000000",
          "2024-01-01T08:43:00.000000000",
          "2024-01-01T08:43:30.000000000",
          "2024-01-01T08:44:00.000000000",
          "2024-01-01T08:44:30.000000000",
          "2024-01-01T08:45:00.000000000",
          "2024-01-01T08:45:30.000000000",
          "2024-01-01T08:46:00.000000000",
          "2024-01-01T08:46:30.000000000",
          "2024-01-01T08:47:00.000000000",
          "2024-01-01T08:47:30.000000000",
          "2024-01-01T08:48:00.000000000",
          "2024-01-01T08:48:30.000000000",
          "2024-01-01T08:49:00.000000000",
          "2024-01-01T08:49:30.000000000",
          "2024-01-01T08:50:00.000000000",
          "2024-01-01T08:50:30.000000000",
          "2024-01-01T08:51:00.000000000",
          "2024-01-01T08:51:30.000000000",
          "2024-01-01T08:52:00.000000000",
          "2024-01-01T08:52:30.000000000",
          "2024-01-01T08:53:00.000000000",
          "2024-01-01T08:53:30.000000000",
          "2024-01-01T08:54:00.000000000",
          "2024-01-01T08:54:30.000000000",
          "2024-01-01T08:55:00.000000000",
          "2024-01-01T08:55:30.000000000",
          "2024-01-01T08:56:00.000000000",
          "2024-01-01T08:56:30.000000000",
          "2024-01-01T08:57:00.000000000",
          "2024-01-01T08:57:30.000000000",
          "2024-01-01T08:58:00.000000000",
          "2024-01-01T08:58:30.000000000",
          "2024-01-01T08:59:00.000000000",
          "2024-01-01T08:59:30.000000000",
          "2024-01-01T09:00:00.000000000",
          "2024-01-01T09:00:30.000000000",
          "2024-01-01T09:01:00.000000000",
          "2024-01-01T09:01:30.000000000",
          "2024-01-01T09:02:00.000000000",
          "2024-01-01T09:02:30.000000000",
          "2024-01-01T09:03:00.000000000",
          "2024-01-01T09:03:30.000000000",
          "2024-01-01T09:04:00.000000000",
          "2024-01-01T09:04:30.000000000",
          "2024-01-01T09:05:00.000000000",
          "2024-01-01T09:05:30.000000000",
          "2024-01-01T09:06:00.000000000",
          "2024-01-01T09:06:30.000000000",
          "2024-01-01T09:07:00.000000000",
          "2024-01-01T09:07:30.000000000",
          "2024-01-01T09:08:00.000000000",
          "2024-01-01T09:08:30.000000000",
          "2024-01-01T09:09:00.000000000",
          "2024-01-01T09:09:30.000000000",
          "2024-01-01T09:10:00.000000000",
          "2024-01-01T09:10:30.000000000",
          "2024-01-01T09:11:00.000000000",
          "2024-01-01T09:11:30.000000000",
          "2024-01-01T09:12:00.000000000",
          "2024-01-01T09:12:30.000000000",
          "2024-01-01T09:13:00.000000000",
          "2024-01-01T09:13:30.000000000",
          "2024-01-01T09:14:00.000000000",
          "2024-01-01T09:14:30.000000000",
          "2024-01-01T09:15:00.000000000",
          "2024-01-01T09:15:30.000000000",
          "2024-01-01T09:16:00.000000000",
          "2024-01-01T09:16:30.000000000",
          "2024-01-01T09:17:00.000000000",
          "2024-01-01T09:17:30.000000000",
          "2024-01-01T09:18:00.000000000",
          "2024-01-01T09:18:30.000000000",
          "2024-01-01T09:19:00.000000000",
          "2024-01-01T09:19:30.000000000",
          "2024-01-01T09:20:00.000000000",
          "2024-01-01T09:20:30.000000000",
          "2024-01-01T09:21:00.000000000",
          "2024-01-01T09:21:30.000000000",
          "2024-01-01T09:22:00.000000000",
          "2024-01-01T09:22:30.000000000",
          "2024-01-01T09:23:00.000000000",
          "2024-01-01T09:23:30.000000000",
          "2024-01-01T09:24:00.000000000",
          "2024-01-01T09:24:30.000000000",
          "2024-01-01T09:25:00.000000000",
          "2024-01-01T09:25:30.000000000",
          "2024-01-01T09:26:00.000000000",
          "2024-01-01T09:26:30.000000000",
          "2024-01-01T09:27:00.000000000",
          "2024-01-01T09:27:30.000000000",
          "2024-01-01T09:28:00.000000000",
          "2024-01-01T09:28:30.000000000",
          "2024-01-01T09:29:00.000000000",
          "2024-01-01T09:29:30.000000000",
          "2024-01-01T09:30:00.000000000",
          "2024-01-01T09:30:30.000000000",
          "2024-01-01T09:31:00.000000000",
          "2024-01-01T09:31:30.000000000",
          "2024-01-01T09:32:00.000000000",
          "2024-01-01T09:32:30.000000000",
          "2024-01-01T09:33:00.000000000",
          "2024-01-01T09:33:30.000000000",
          "2024-01-01T09:34:00.000000000",
          "2024-01-01T09:34:30.000000000",
          "2024-01-01T09:35:00.000000000",
          "2024-01-01T09:35:30.000000000",
          "2024-01-01T09:36:00.000000000",
          "2024-01-01T09:36:30.000000000",
          "2024-01-01T09:37:00.000000000",
          "2024-01-01T09:37:30.000000000",
          "2024-01-01T09:38:00.000000000",
          "2024-01-01T09:38:30.000000000",
          "2024-01-01T09:39:00.000000000",
          "2024-01-01T09:39:30.000000000",
          "2024-01-01T09:40:00.000000000",
          "2024-01-01T09:40:30.000000000",
          "2024-01-01T09:41:00.000000000",
          "2024-01-01T09:41:30.000000000",
          "2024-01-01T09:42:00.000000000",
          "2024-01-01T09:42:30.000000000",
          "2024-01-01T09:43:00.000000000",
          "2024-01-01T09:43:30.000000000",
          "2024-01-01T09:44:00.000000000",
          "2024-01-01T09:44:30.000000000",
          "2024-01-01T09:45:00.000000000",
          "2024-01-01T09:45:30.000000000",
          "2024-01-01T09:46:00.000000000",
          "2024-01-01T09:46:30.000000000",
          "2024-01-01T09:47:00.000000000",
          "2024-01-01T09:47:30.000000000",
          "2024-01-01T09:48:00.000000000",
          "2024-01-01T09:48:30.000000000",
          "2024-01-01T09:49:00.000000000",
          "2024-01-01T09:49:30.000000000",
          "2024-01-01T09:50:00.000000000",
          "2024-01-01T09:50:30.000000000",
          "2024-01-01T09:51:00.000000000",
          "2024-01-01T09:51:30.000000000",
          "2024-01-01T09:52:00.000000000",
          "2024-01-01T09:52:30.000000000",
          "2024-01-01T09:53:00.000000000",
          "2024-01-01T09:53:30.000000000",
          "2024-01-01T09:54:00.000000000",
          "2024-01-01T09:54:30.000000000",
          "2024-01-01T09:55:00.000000000",
          "2024-01-01T09:55:30.000000000",
          "2024-01-01T09:56:00.000000000",
          "2024-01-01T09:56:30.000000000",
          "2024-01-01T09:57:00.000000000",
          "2024-01-01T09:57:30.000000000",
          "2024-01-01T09:58:00.000000000",
          "2024-01-01T09:58:30.000000000",
          "2024-01-01T09:59:00.000000000",
          "2024-01-01T09:59:30.000000000",
          "2024-01-01T10:00:00.000000000",
          "2024-01-01T10:00:30.000000000",
          "2024-01-01T10:01:00.000000000",
          "2024-01-01T10:01:30.000000000",
          "2024-01-01T10:02:00.000000000",
          "2024-01-01T10:02:30.000000000",
          "2024-01-01T10:03:00.000000000",
          "2024-01-01T10:03:30.000000000",
          "2024-01-01T10:04:00.000000000",
          "2024-01-01T10:04:30.000000000",
          "2024-01-01T10:05:00.000000000",
          "2024-01-01T10:05:30.000000000",
          "2024-01-01T10:06:00.000000000",
          "2024-01-01T10:06:30.000000000",
          "2024-01-01T10:07:00.000000000",
          "2024-01-01T10:07:30.000000000",
          "2024-01-01T10:08:00.000000000",
          "2024-01-01T10:08:30.000000000",
          "2024-01-01T10:09:00.000000000",
          "2024-01-01T10:09:30.000000000",
          "2024-01-01T10:10:00.000000000",
          "2024-01-01T10:10:30.000000000",
          "2024-01-01T10:11:00.000000000",
          "2024-01-01T10:11:30.000000000",
          "2024-01-01T10:12:00.000000000",
          "2024-01-01T10:12:30.000000000",
          "2024-01-01T10:13:00.000000000",
          "2024-01-01T10:13:30.000000000",
          "2024-01-01T10:14:00.000000000",
          "2024-01-01T10:14:30.000000000",
          "2024-01-01T10:15:00.000000000",
          "2024-01-01T10:15:30.000000000",
          "2024-01-01T10:16:00.000000000",
          "2024-01-01T10:16:30.000000000",
          "2024-01-01T10:17:00.000000000",
          "2024-01-01T10:17:30.000000000",
          "2024-01-01T10:18:00.000000000",
          "2024-01-01T10:18:30.000000000",
          "2024-01-01T10:19:00.000000000",
          "2024-01-01T10:19:30.000000000",
          "2024-01-01T10:20:00.000000000",
          "2024-01-01T10:20:30.000000000",
          "2024-01-01T10:21:00.000000000",
          "2024-01-01T10:21:30.000000000",
          "2024-01-01T10:22:00.000000000",
          "2024-01-01T10:22:30.000000000",
          "2024-01-01T10:23:00.000000000",
          "2024-01-01T10:23:30.000000000",
          "2024-01-01T10:24:00.000000000",
          "2024-01-01T10:24:30.000000000",
          "2024-01-01T10:25:00.000000000",
          "2024-01-01T10:25:30.000000000",
          "2024-01-01T10:26:00.000000000",
          "2024-01-01T10:26:30.000000000",
          "2024-01-01T10:27:00.000000000",
          "2024-01-01T10:27:30.000000000",
          "2024-01-01T10:28:00.000000000",
          "2024-01-01T10:28:30.000000000",
          "2024-01-01T10:29:00.000000000",
          "2024-01-01T10:29:30.000000000",
          "2024-01-01T10:30:00.000000000",
          "2024-01-01T10:30:30.000000000",
          "2024-01-01T10:31:00.000000000",
          "2024-01-01T10:31:30.000000000",
          "2024-01-01T10:32:00.000000000",
          "2024-01-01T10:32:30.000000000",
          "2024-01-01T10:33:00.000000000",
          "2024-01-01T10:33:30.000000000",
          "2024-01-01T10:34:00.000000000",
          "2024-01-01T10:34:30.000000000",
          "2024-01-01T10:35:00.000000000",
          "2024-01-01T10:35:30.000000000",
          "2024-01-01T10:36:00.000000000",
          "2024-01-01T10:36:30.000000000",
          "2024-01-01T10:37:00.000000000",
          "2024-01-01T10:37:30.000000000",
          "2024-01-01T10:38:00.000000000",
          "2024-01-01T10:38:30.000000000",
          "2024-01-01T10:39:00.000000000",
          "2024-01-01T10:39:30.000000000",
          "2024-01-01T10:40:00.000000000",
          "2024-01-01T10:40:30.000000000",
          "2024-01-01T10:41:00.000000000",
          "2024-01-01T10:41:30.000000000",
          "2024-01-01T10:42:00.000000000",
          "2024-01-01T10:42:30.000000000",
          "2024-01-01T10:43:00.000000000",
          "2024-01-01T10:43:30.000000000",
          "2024-01-01T10:44:00.000000000",
          "2024-01-01T10:44:30.000000000",
          "2024-01-01T10:45:00.000000000",
          "2024-01-01T10:45:30.000000000",
          "2024-01-01T10:46:00.000000000",
          "2024-01-01T10:46:30.000000000",
          "2024-01-01T10:47:00.000000000",
          "2024-01-01T10:47:30.000000000",
          "2024-01-01T10:48:00.000000000",
          "2024-01-01T10:48:30.000000000",
          "2024-01-01T10:49:00.000000000",
          "2024-01-01T10:49:30.000000000",
          "2024-01-01T10:50:00.000000000",
          "2024-01-01T10:50:30.000000000",
          "2024-01-01T10:51:00.000000000",
          "2024-01-01T10:51:30.000000000",
          "2024-01-01T10:52:00.000000000",
          "2024-01-01T10:52:30.000000000",
          "2024-01-01T10:53:00.000000000",
          "2024-01-01T10:53:30.000000000",
          "2024-01-01T10:54:00.000000000",
          "2024-01-01T10:54:30.000000000",
          "2024-01-01T10:55:00.000000000",
          "2024-01-01T10:55:30.000000000",
          "2024-01-01T10:56:00.000000000",
          "2024-01-01T10:56:30.000000000",
          "2024-01-01T10:57:00.000000000",
          "2024-01-01T10:57:30.000000000",
          "2024-01-01T10:58:00.000000000",
          "2024-01-01T10:58:30.000000000",
          "2024-01-01T10:59:00.000000000",
          "2024-01-01T10:59:30.000000000",
          "2024-01-01T11:00:00.000000000",
          "2024-01-01T11:00:30.000000000",
          "2024-01-01T11:01:00.000000000",
          "2024-01-01T11:01:30.000000000",
          "2024-01-01T11:02:00.000000000",
          "2024-01-01T11:02:30.000000000",
          "2024-01-01T11:03:00.000000000",
          "2024-01-01T11:03:30.000000000",
          "2024-01-01T11:04:00.000000000",
          "2024-01-01T11:04:30.000000000",
          "2024-01-01T11:05:00.000000000",
          "2024-01-01T11:05:30.000000000",
          "2024-01-01T11:06:00.000000000",
          "2024-01-01T11:06:30.000000000",
          "2024-01-01T11:07:00.000000000",
          "2024-01-01T11:07:30.000000000",
          "2024-01-01T11:08:00.000000000",
          "2024-01-01T11:08:30.000000000",
          "2024-01-01T11:09:00.000000000",
          "2024-01-01T11:09:30.000000000",
          "2024-01-01T11:10:00.000000000",
          "2024-01-01T11:10:30.000000000",
          "2024-01-01T11:11:00.000000000",
          "2024-01-01T11:11:30.000000000",
          "2024-01-01T11:12:00.000000000",
          "2024-01-01T11:12:30.000000000",
          "2024-01-01T11:13:00.000000000",
          "2024-01-01T11:13:30.000000000",
          "2024-01-01T11:14:00.000000000",
          "2024-01-01T11:14:30.000000000",
          "2024-01-01T11:15:00.000000000",
          "2024-01-01T11:15:30.000000000",
          "2024-01-01T11:16:00.000000000",
          "2024-01-01T11:16:30.000000000",
          "2024-01-01T11:17:00.000000000",
          "2024-01-01T11:17:30.000000000",
          "2024-01-01T11:18:00.000000000",
          "2024-01-01T11:18:30.000000000",
          "2024-01-01T11:19:00.000000000",
          "2024-01-01T11:19:30.000000000",
          "2024-01-01T11:20:00.000000000",
          "2024-01-01T11:20:30.000000000",
          "2024-01-01T11:21:00.000000000",
          "2024-01-01T11:21:30.000000000",
          "2024-01-01T11:22:00.000000000",
          "2024-01-01T11:22:30.000000000",
          "2024-01-01T11:23:00.000000000",
          "2024-01-01T11:23:30.000000000",
          "2024-01-01T11:24:00.000000000",
          "2024-01-01T11:24:30.000000000",
          "2024-01-01T11:25:00.000000000",
          "2024-01-01T11:25:30.000000000",
          "2024-01-01T11:26:00.000000000",
          "2024-01-01T11:26:30.000000000",
          "2024-01-01T11:27:00.000000000",
          "2024-01-01T11:27:30.000000000",
          "2024-01-01T11:28:00.000000000",
          "2024-01-01T11:28:30.000000000",
          "2024-01-01T11:29:00.000000000",
          "2024-01-01T11:29:30.000000000",
          "2024-01-01T11:30:00.000000000",
          "2024-01-01T11:30:30.000000000",
          "2024-01-01T11:31:00.000000000",
          "2024-01-01T11:31:30.000000000",
          "2024-01-01T11:32:00.000000000",
          "2024-01-01T11:32:30.000000000",
          "2024-01-01T11:33:00.000000000",
          "2024-01-01T11:33:30.000000000",
          "2024-01-01T11:34:00.000000000",
          "2024-01-01T11:34:30.000000000",
          "2024-01-01T11:35:00.000000000",
          "2024-01-01T11:35:30.000000000",
          "2024-01-01T11:36:00.000000000",
          "2024-01-01T11:36:30.000000000",
          "2024-01-01T11:37:00.000000000",
          "2024-01-01T11:37:30.000000000",
          "2024-01-01T11:38:00.000000000",
          "2024-01-01T11:38:30.000000000",
          "2024-01-01T11:39:00.000000000",
          "2024-01-01T11:39:30.000000000",
          "2024-01-01T11:40:00.000000000",
          "2024-01-01T11:40:30.000000000",
          "2024-01-01T11:41:00.000000000",
          "2024-01-01T11:41:30.000000000",
          "2024-01-01T11:42:00.000000000",
          "2024-01-01T11:42:30.000000000",
          "2024-01-01T11:43:00.000000000",
          "2024-01-01T11:43:30.000000000",
          "2024-01-01T11:44:00.000000000",
          "2024-01-01T11:44:30.000000000",
          "2024-01-01T11:45:00.000000000",
          "2024-01-01T11:45:30.000000000",
          "2024-01-01T11:46:00.000000000",
          "2024-01-01T11:46:30.000000000",
          "2024-01-01T11:47:00.000000000",
          "2024-01-01T11:47:30.000000000",
          "2024-01-01T11:48:00.000000000",
          "2024-01-01T11:48:30.000000000",
          "2024-01-01T11:49:00.000000000",
          "2024-01-01T11:49:30.000000000",
          "2024-01-01T11:50:00.000000000",
          "2024-01-01T11:50:30.000000000",
          "2024-01-01T11:51:00.000000000",
          "2024-01-01T11:51:30.000000000",
          "2024-01-01T11:52:00.000000000",
          "2024-01-01T11:52:30.000000000",
          "2024-01-01T11:53:00.000000000",
          "2024-01-01T11:53:30.000000000",
          "2024-01-01T11:54:00.000000000",
          "2024-01-01T11:54:30.000000000",
          "2024-01-01T11:55:00.000000000",
          "2024-01-01T11:55:30.000000000",
          "2024-01-01T11:56:00.000000000",
          "2024-01-01T11:56:30.000000000",
          "2024-01-01T11:57:00.000000000",
          "2024-01-01T11:57:30.000000000",
          "2024-01-01T11:58:00.000000000",
          "2024-01-01T11:58:30.000000000",
          "2024-01-01T11:59:00.000000000",
          "2024-01-01T11:59:30.000000000",
          "2024-01-01T12:00:00.000000000",
          "2024-01-01T12:00:30.000000000",
          "2024-01-01T12:01:00.000000000",
          "2024-01-01T12:01:30.000000000",
          "2024-01-01T12:02:00.000000000",
          "2024-01-01T12:02:30.000000000",
          "2024-01-01T12:03:00.000000000",
          "2024-01-01T12:03:30.000000000",
          "2024-01-01T12:04:00.000000000",
          "2024-01-01T12:04:30.000000000",
          "2024-01-01T12:05:00.000000000",
          "2024-01-01T12:05:30.000000000",
          "2024-01-01T12:06:00.000000000",
          "2024-01-01T12:06:30.000000000",
          "2024-01-01T12:07:00.000000000",
          "2024-01-01T12:07:30.000000000",
          "2024-01-01T12:08:00.000000000",
          "2024-01-01T12:08:30.000000000",
          "2024-01-01T12:09:00.000000000",
          "2024-01-01T12:09:30.000000000",
          "2024-01-01T12:10:00.000000000",
          "2024-01-01T12:10:30.000000000",
          "2024-01-01T12:11:00.000000000",
          "2024-01-01T12:11:30.000000000",
          "2024-01-01T12:12:00.000000000",
          "2024-01-01T12:12:30.000000000",
          "2024-01-01T12:13:00.000000000",
          "2024-01-01T12:13:30.000000000",
          "2024-01-01T12:14:00.000000000",
          "2024-01-01T12:14:30.000000000",
          "2024-01-01T12:15:00.000000000",
          "2024-01-01T12:15:30.000000000",
          "2024-01-01T12:16:00.000000000",
          "2024-01-01T12:16:30.000000000",
          "2024-01-01T12:17:00.000000000",
          "2024-01-01T12:17:30.000000000",
          "2024-01-01T12:18:00.000000000",
          "2024-01-01T12:18:30.000000000",
          "2024-01-01T12:19:00.000000000",
          "2024-01-01T12:19:30.000000000",
          "2024-01-01T12:20:00.000000000",
          "2024-01-01T12:20:30.000000000",
          "2024-01-01T12:21:00.000000000",
          "2024-01-01T12:21:30.000000000",
          "2024-01-01T12:22:00.000000000",
          "2024-01-01T12:22:30.000000000",
          "2024-01-01T12:23:00.000000000",
          "2024-01-01T12:23:30.000000000",
          "2024-01-01T12:24:00.000000000",
          "2024-01-01T12:24:30.000000000",
          "2024-01-01T12:25:00.000000000",
          "2024-01-01T12:25:30.000000000",
          "2024-01-01T12:26:00.000000000",
          "2024-01-01T12:26:30.000000000",
          "2024-01-01T12:27:00.000000000",
          "2024-01-01T12:27:30.000000000",
          "2024-01-01T12:28:00.000000000",
          "2024-01-01T12:28:30.000000000",
          "2024-01-01T12:29:00.000000000",
          "2024-01-01T12:29:30.000000000",
          "2024-01-01T12:30:00.000000000",
          "2024-01-01T12:30:30.000000000",
          "2024-01-01T12:31:00.000000000",
          "2024-01-01T12:31:30.000000000",
          "2024-01-01T12:32:00.000000000",
          "2024-01-01T12:32:30.000000000",
          "2024-01-01T12:33:00.000000000",
          "2024-01-01T12:33:30.000000000",
          "2024-01-01T12:34:00.000000000",
          "2024-01-01T12:34:30.000000000",
          "2024-01-01T12:35:00.000000000",
          "2024-01-01T12:35:30.000000000",
          "2024-01-01T12:36:00.000000000",
          "2024-01-01T12:36:30.000000000",
          "2024-01-01T12:37:00.000000000",
          "2024-01-01T12:37:30.000000000",
          "2024-01-01T12:38:00.000000000",
          "2024-01-01T12:38:30.000000000",
          "2024-01-01T12:39:00.000000000",
          "2024-01-01T12:39:30.000000000",
          "2024-01-01T12:40:00.000000000",
          "2024-01-01T12:40:30.000000000",
          "2024-01-01T12:41:00.000000000",
          "2024-01-01T12:41:30.000000000",
          "2024-01-01T12:42:00.000000000",
          "2024-01-01T12:42:30.000000000",
          "2024-01-01T12:43:00.000000000",
          "2024-01-01T12:43:30.000000000",
          "2024-01-01T12:44:00.000000000",
          "2024-01-01T12:44:30.000000000",
          "2024-01-01T12:45:00.000000000",
          "2024-01-01T12:45:30.000000000",
          "2024-01-01T12:46:00.000000000",
          "2024-01-01T12:46:30.000000000",
          "2024-01-01T12:47:00.000000000",
          "2024-01-01T12:47:30.000000000",
          "2024-01-01T12:48:00.000000000",
          "2024-01-01T12:48:30.000000000",
          "2024-01-01T12:49:00.000000000",
          "2024-01-01T12:49:30.000000000",
          "2024-01-01T12:50:00.000000000",
          "2024-01-01T12:50:30.000000000",
          "2024-01-01T12:51:00.000000000",
          "2024-01-01T12:51:30.000000000",
          "2024-01-01T12:52:00.000000000",
          "2024-01-01T12:52:30.000000000",
          "2024-01-01T12:53:00.000000000",
          "2024-01-01T12:53:30.000000000",
          "2024-01-01T12:54:00.000000000",
          "2024-01-01T12:54:30.000000000",
          "2024-01-01T12:55:00.000000000",
          "2024-01-01T12:55:30.000000000",
          "2024-01-01T12:56:00.000000000",
          "2024-01-01T12:56:30.000000000",
          "2024-01-01T12:57:00.000000000",
          "2024-01-01T12:57:30.000000000",
          "2024-01-01T12:58:00.000000000",
          "2024-01-01T12:58:30.000000000",
          "2024-01-01T12:59:00.000000000",
          "2024-01-01T12:59:30.000000000",
          "2024-01-01T13:00:00.000000000",
          "2024-01-01T13:00:30.000000000",
          "2024-01-01T13:01:00.000000000",
          "2024-01-01T13:01:30.000000000",
          "2024-01-01T13:02:00.000000000",
          "2024-01-01T13:02:30.000000000",
          "2024-01-01T13:03:00.000000000",
          "2024-01-01T13:03:30.000000000",
          "2024-01-01T13:04:00.000000000",
          "2024-01-01T13:04:30.000000000",
          "2024-01-01T13:05:00.000000000",
          "2024-01-01T13:05:30.000000000",
          "2024-01-01T13:06:00.000000000",
          "2024-01-01T13:06:30.000000000",
          "2024-01-01T13:07:00.000000000",
          "2024-01-01T13:07:30.000000000",
          "2024-01-01T13:08:00.000000000",
          "2024-01-01T13:08:30.000000000",
          "2024-01-01T13:09:00.000000000",
          "2024-01-01T13:09:30.000000000",
          "2024-01-01T13:10:00.000000000",
          "2024-01-01T13:10:30.000000000",
          "2024-01-01T13:11:00.000000000",
          "2024-01-01T13:11:30.000000000",
          "2024-01-01T13:12:00.000000000",
          "2024-01-01T13:12:30.000000000",
          "2024-01-01T13:13:00.000000000",
          "2024-01-01T13:13:30.000000000",
          "2024-01-01T13:14:00.000000000",
          "2024-01-01T13:14:30.000000000",
          "2024-01-01T13:15:00.000000000",
          "2024-01-01T13:15:30.000000000",
          "2024-01-01T13:16:00.000000000",
          "2024-01-01T13:16:30.000000000",
          "2024-01-01T13:17:00.000000000",
          "2024-01-01T13:17:30.000000000",
          "2024-01-01T13:18:00.000000000",
          "2024-01-01T13:18:30.000000000",
          "2024-01-01T13:19:00.000000000",
          "2024-01-01T13:19:30.000000000",
          "2024-01-01T13:20:00.000000000",
          "2024-01-01T13:20:30.000000000",
          "2024-01-01T13:21:00.000000000",
          "2024-01-01T13:21:30.000000000",
          "2024-01-01T13:22:00.000000000",
          "2024-01-01T13:22:30.000000000",
          "2024-01-01T13:23:00.000000000",
          "2024-01-01T13:23:30.000000000",
          "2024-01-01T13:24:00.000000000",
          "2024-01-01T13:24:30.000000000",
          "2024-01-01T13:25:00.000000000",
          "2024-01-01T13:25:30.000000000",
          "2024-01-01T13:26:00.000000000",
          "2024-01-01T13:26:30.000000000",
          "2024-01-01T13:27:00.000000000",
          "2024-01-01T13:27:30.000000000",
          "2024-01-01T13:28:00.000000000",
          "2024-01-01T13:28:30.000000000",
          "2024-01-01T13:29:00.000000000",
          "2024-01-01T13:29:30.000000000",
          "2024-01-01T13:30:00.000000000",
          "2024-01-01T13:30:30.000000000",
          "2024-01-01T13:31:00.000000000",
          "2024-01-01T13:31:30.000000000",
          "2024-01-01T13:32:00.000000000",
          "2024-01-01T13:32:30.000000000",
          "2024-01-01T13:33:00.000000000",
          "2024-01-01T13:33:30.000000000",
          "2024-01-01T13:34:00.000000000",
          "2024-01-01T13:34:30.000000000",
          "2024-01-01T13:35:00.000000000",
          "2024-01-01T13:35:30.000000000",
          "2024-01-01T13:36:00.000000000",
          "2024-01-01T13:36:30.000000000",
          "2024-01-01T13:37:00.000000000",
          "2024-01-01T13:37:30.000000000",
          "2024-01-01T13:38:00.000000000",
          "2024-01-01T13:38:30.000000000",
          "2024-01-01T13:39:00.000000000",
          "2024-01-01T13:39:30.000000000",
          "2024-01-01T13:40:00.000000000",
          "2024-01-01T13:40:30.000000000",
          "2024-01-01T13:41:00.000000000",
          "2024-01-01T13:41:30.000000000",
          "2024-01-01T13:42:00.000000000",
          "2024-01-01T13:42:30.000000000",
          "2024-01-01T13:43:00.000000000",
          "2024-01-01T13:43:30.000000000",
          "2024-01-01T13:44:00.000000000",
          "2024-01-01T13:44:30.000000000",
          "2024-01-01T13:45:00.000000000",
          "2024-01-01T13:45:30.000000000",
          "2024-01-01T13:46:00.000000000",
          "2024-01-01T13:46:30.000000000",
          "2024-01-01T13:47:00.000000000",
          "2024-01-01T13:47:30.000000000",
          "2024-01-01T13:48:00.000000000",
          "2024-01-01T13:48:30.000000000",
          "2024-01-01T13:49:00.000000000",
          "2024-01-01T13:49:30.000000000",
          "2024-01-01T13:50:00.000000000",
          "2024-01-01T13:50:30.000000000",
          "2024-01-01T13:51:00.000000000",
          "2024-01-01T13:51:30.000000000",
          "2024-01-01T13:52:00.000000000",
          "2024-01-01T13:52:30.000000000",
          "2024-01-01T13:53:00.000000000",
          "2024-01-01T13:53:30.000000000",
          "2024-01-01T13:54:00.000000000",
          "2024-01-01T13:54:30.000000000",
          "2024-01-01T13:55:00.000000000",
          "2024-01-01T13:55:30.000000000",
          "2024-01-01T13:56:00.000000000",
          "2024-01-01T13:56:30.000000000",
          "2024-01-01T13:57:00.000000000",
          "2024-01-01T13:57:30.000000000",
          "2024-01-01T13:58:00.000000000",
          "2024-01-01T13:58:30.000000000",
          "2024-01-01T13:59:00.000000000",
          "2024-01-01T13:59:30.000000000",
          "2024-01-01T14:00:00.000000000",
          "2024-01-01T14:00:30.000000000",
          "2024-01-01T14:01:00.000000000",
          "2024-01-01T14:01:30.000000000",
          "2024-01-01T14:02:00.000000000",
          "2024-01-01T14:02:30.000000000",
          "2024-01-01T14:03:00.000000000",
          "2024-01-01T14:03:30.000000000",
          "2024-01-01T14:04:00.000000000",
          "2024-01-01T14:04:30.000000000",
          "2024-01-01T14:05:00.000000000",
          "2024-01-01T14:05:30.000000000",
          "2024-01-01T14:06:00.000000000",
          "2024-01-01T14:06:30.000000000",
          "2024-01-01T14:07:00.000000000",
          "2024-01-01T14:07:30.000000000",
          "2024-01-01T14:08:00.000000000",
          "2024-01-01T14:08:30.000000000",
          "2024-01-01T14:09:00.000000000",
          "2024-01-01T14:09:30.000000000",
          "2024-01-01T14:10:00.000000000",
          "2024-01-01T14:10:30.000000000",
          "2024-01-01T14:11:00.000000000",
          "2024-01-01T14:11:30.000000000",
          "2024-01-01T14:12:00.000000000",
          "2024-01-01T14:12:30.000000000",
          "2024-01-01T14:13:00.000000000",
          "2024-01-01T14:13:30.000000000",
          "2024-01-01T14:14:00.000000000",
          "2024-01-01T14:14:30.000000000",
          "2024-01-01T14:15:00.000000000",
          "2024-01-01T14:15:30.000000000",
          "2024-01-01T14:16:00.000000000",
          "2024-01-01T14:16:30.000000000",
          "2024-01-01T14:17:00.000000000",
          "2024-01-01T14:17:30.000000000",
          "2024-01-01T14:18:00.000000000",
          "2024-01-01T14:18:30.000000000",
          "2024-01-01T14:19:00.000000000",
          "2024-01-01T14:19:30.000000000",
          "2024-01-01T14:20:00.000000000",
          "2024-01-01T14:20:30.000000000",
          "2024-01-01T14:21:00.000000000",
          "2024-01-01T14:21:30.000000000",
          "2024-01-01T14:22:00.000000000",
          "2024-01-01T14:22:30.000000000",
          "2024-01-01T14:23:00.000000000",
          "2024-01-01T14:23:30.000000000",
          "2024-01-01T14:24:00.000000000",
          "2024-01-01T14:24:30.000000000",
          "2024-01-01T14:25:00.000000000",
          "2024-01-01T14:25:30.000000000",
          "2024-01-01T14:26:00.000000000",
          "2024-01-01T14:26:30.000000000",
          "2024-01-01T14:27:00.000000000",
          "2024-01-01T14:27:30.000000000",
          "2024-01-01T14:28:00.000000000",
          "2024-01-01T14:28:30.000000000",
          "2024-01-01T14:29:00.000000000",
          "2024-01-01T14:29:30.000000000",
          "2024-01-01T14:30:00.000000000",
          "2024-01-01T14:30:30.000000000",
          "2024-01-01T14:31:00.000000000",
          "2024-01-01T14:31:30.000000000",
          "2024-01-01T14:32:00.000000000",
          "2024-01-01T14:32:30.000000000",
          "2024-01-01T14:33:00.000000000",
          "2024-01-01T14:33:30.000000000",
          "2024-01-01T14:34:00.000000000",
          "2024-01-01T14:34:30.000000000",
          "2024-01-01T14:35:00.000000000",
          "2024-01-01T14:35:30.000000000",
          "2024-01-01T14:36:00.000000000",
          "2024-01-01T14:36:30.000000000",
          "2024-01-01T14:37:00.000000000",
          "2024-01-01T14:37:30.000000000",
          "2024-01-01T14:38:00.000000000",
          "2024-01-01T14:38:30.000000000",
          "2024-01-01T14:39:00.000000000",
          "2024-01-01T14:39:30.000000000",
          "2024-01-01T14:40:00.000000000",
          "2024-01-01T14:40:30.000000000",
          "2024-01-01T14:41:00.000000000",
          "2024-01-01T14:41:30.000000000",
          "2024-01-01T14:42:00.000000000",
          "2024-01-01T14:42:30.000000000",
          "2024-01-01T14:43:00.000000000",
          "2024-01-01T14:43:30.000000000",
          "2024-01-01T14:44:00.000000000",
          "2024-01-01T14:44:30.000000000",
          "2024-01-01T14:45:00.000000000",
          "2024-01-01T14:45:30.000000000",
          "2024-01-01T14:46:00.000000000",
          "2024-01-01T14:46:30.000000000",
          "2024-01-01T14:47:00.000000000",
          "2024-01-01T14:47:30.000000000",
          "2024-01-01T14:48:00.000000000",
          "2024-01-01T14:48:30.000000000",
          "2024-01-01T14:49:00.000000000",
          "2024-01-01T14:49:30.000000000",
          "2024-01-01T14:50:00.000000000",
          "2024-01-01T14:50:30.000000000",
          "2024-01-01T14:51:00.000000000",
          "2024-01-01T14:51:30.000000000",
          "2024-01-01T14:52:00.000000000",
          "2024-01-01T14:52:30.000000000",
          "2024-01-01T14:53:00.000000000",
          "2024-01-01T14:53:30.000000000",
          "2024-01-01T14:54:00.000000000",
          "2024-01-01T14:54:30.000000000",
          "2024-01-01T14:55:00.000000000",
          "2024-01-01T14:55:30.000000000",
          "2024-01-01T14:56:00.000000000",
          "2024-01-01T14:56:30.000000000",
          "2024-01-01T14:57:00.000000000",
          "2024-01-01T14:57:30.000000000",
          "2024-01-01T14:58:00.000000000",
          "2024-01-01T14:58:30.000000000",
          "2024-01-01T14:59:00.000000000",
          "2024-01-01T14:59:30.000000000",
          "2024-01-01T15:00:00.000000000",
          "2024-01-01T15:00:30.000000000",
          "2024-01-01T15:01:00.000000000",
          "2024-01-01T15:01:30.000000000",
          "2024-01-01T15:02:00.000000000",
          "2024-01-01T15:02:30.000000000",
          "2024-01-01T15:03:00.000000000",
          "2024-01-01T15:03:30.000000000",
          "2024-01-01T15:04:00.000000000",
          "2024-01-01T15:04:30.000000000",
          "2024-01-01T15:05:00.000000000",
          "2024-01-01T15:05:30.000000000",
          "2024-01-01T15:06:00.000000000",
          "2024-01-01T15:06:30.000000000",
          "2024-01-01T15:07:00.000000000",
          "2024-01-01T15:07:30.000000000",
          "2024-01-01T15:08:00.000000000",
          "2024-01-01T15:08:30.000000000",
          "2024-01-01T15:09:00.000000000",
          "2024-01-01T15:09:30.000000000",
          "2024-01-01T15:10:00.000000000",
          "2024-01-01T15:10:30.000000000",
          "2024-01-01T15:11:00.000000000",
          "2024-01-01T15:11:30.000000000",
          "2024-01-01T15:12:00.000000000",
          "2024-01-01T15:12:30.000000000",
          "2024-01-01T15:13:00.000000000",
          "2024-01-01T15:13:30.000000000",
          "2024-01-01T15:14:00.000000000",
          "2024-01-01T15:14:30.000000000",
          "2024-01-01T15:15:00.000000000",
          "2024-01-01T15:15:30.000000000",
          "2024-01-01T15:16:00.000000000",
          "2024-01-01T15:16:30.000000000",
          "2024-01-01T15:17:00.000000000",
          "2024-01-01T15:17:30.000000000",
          "2024-01-01T15:18:00.000000000",
          "2024-01-01T15:18:30.000000000",
          "2024-01-01T15:19:00.000000000",
          "2024-01-01T15:19:30.000000000",
          "2024-01-01T15:20:00.000000000",
          "2024-01-01T15:20:30.000000000",
          "2024-01-01T15:21:00.000000000",
          "2024-01-01T15:21:30.000000000",
          "2024-01-01T15:22:00.000000000",
          "2024-01-01T15:22:30.000000000",
          "2024-01-01T15:23:00.000000000",
          "2024-01-01T15:23:30.000000000",
          "2024-01-01T15:24:00.000000000",
          "2024-01-01T15:24:30.000000000",
          "2024-01-01T15:25:00.000000000",
          "2024-01-01T15:25:30.000000000",
          "2024-01-01T15:26:00.000000000",
          "2024-01-01T15:26:30.000000000",
          "2024-01-01T15:27:00.000000000",
          "2024-01-01T15:27:30.000000000",
          "2024-01-01T15:28:00.000000000",
          "2024-01-01T15:28:30.000000000",
          "2024-01-01T15:29:00.000000000",
          "2024-01-01T15:29:30.000000000",
          "2024-01-01T15:30:00.000000000",
          "2024-01-01T15:30:30.000000000",
          "2024-01-01T15:31:00.000000000",
          "2024-01-01T15:31:30.000000000",
          "2024-01-01T15:32:00.000000000",
          "2024-01-01T15:32:30.000000000",
          "2024-01-01T15:33:00.000000000",
          "2024-01-01T15:33:30.000000000",
          "2024-01-01T15:34:00.000000000",
          "2024-01-01T15:34:30.000000000",
          "2024-01-01T15:35:00.000000000",
          "2024-01-01T15:35:30.000000000",
          "2024-01-01T15:36:00.000000000",
          "2024-01-01T15:36:30.000000000",
          "2024-01-01T15:37:00.000000000",
          "2024-01-01T15:37:30.000000000",
          "2024-01-01T15:38:00.000000000",
          "2024-01-01T15:38:30.000000000",
          "2024-01-01T15:39:00.000000000",
          "2024-01-01T15:39:30.000000000",
          "2024-01-01T15:40:00.000000000",
          "2024-01-01T15:40:30.000000000",
          "2024-01-01T15:41:00.000000000",
          "2024-01-01T15:41:30.000000000",
          "2024-01-01T15:42:00.000000000",
          "2024-01-01T15:42:30.000000000",
          "2024-01-01T15:43:00.000000000",
          "2024-01-01T15:43:30.000000000",
          "2024-01-01T15:44:00.000000000",
          "2024-01-01T15:44:30.000000000",
          "2024-01-01T15:45:00.000000000",
          "2024-01-01T15:45:30.000000000",
          "2024-01-01T15:46:00.000000000",
          "2024-01-01T15:46:30.000000000",
          "2024-01-01T15:47:00.000000000",
          "2024-01-01T15:47:30.000000000",
          "2024-01-01T15:48:00.000000000",
          "2024-01-01T15:48:30.000000000",
          "2024-01-01T15:49:00.000000000",
          "2024-01-01T15:49:30.000000000",
          "2024-01-01T15:50:00.000000000",
          "2024-01-01T15:50:30.000000000",
          "2024-01-01T15:51:00.000000000",
          "2024-01-01T15:51:30.000000000",
          "2024-01-01T15:52:00.000000000",
          "2024-01-01T15:52:30.000000000",
          "2024-01-01T15:53:00.000000000",
          "2024-01-01T15:53:30.000000000",
          "2024-01-01T15:54:00.000000000",
          "2024-01-01T15:54:30.000000000",
          "2024-01-01T15:55:00.000000000",
          "2024-01-01T15:55:30.000000000",
          "2024-01-01T15:56:00.000000000",
          "2024-01-01T15:56:30.000000000",
          "2024-01-01T15:57:00.000000000",
          "2024-01-01T15:57:30.000000000",
          "2024-01-01T15:58:00.000000000",
          "2024-01-01T15:58:30.000000000",
          "2024-01-01T15:59:00.000000000",
          "2024-01-01T15:59:30.000000000",
          "2024-01-01T16:00:00.000000000",
          "2024-01-01T16:00:30.000000000",
          "2024-01-01T16:01:00.000000000",
          "2024-01-01T16:01:30.000000000",
          "2024-01-01T16:02:00.000000000",
          "2024-01-01T16:02:30.000000000",
          "2024-01-01T16:03:00.000000000",
          "2024-01-01T16:03:30.000000000",
          "2024-01-01T16:04:00.000000000",
          "2024-01-01T16:04:30.000000000",
          "2024-01-01T16:05:00.000000000",
          "2024-01-01T16:05:30.000000000",
          "2024-01-01T16:06:00.000000000",
          "2024-01-01T16:06:30.000000000",
          "2024-01-01T16:07:00.000000000",
          "2024-01-01T16:07:30.000000000",
          "2024-01-01T16:08:00.000000000",
          "2024-01-01T16:08:30.000000000",
          "2024-01-01T16:09:00.000000000",
          "2024-01-01T16:09:30.000000000",
          "2024-01-01T16:10:00.000000000",
          "2024-01-01T16:10:30.000000000",
          "2024-01-01T16:11:00.000000000",
          "2024-01-01T16:11:30.000000000",
          "2024-01-01T16:12:00.000000000",
          "2024-01-01T16:12:30.000000000",
          "2024-01-01T16:13:00.000000000",
          "2024-01-01T16:13:30.000000000",
          "2024-01-01T16:14:00.000000000",
          "2024-01-01T16:14:30.000000000",
          "2024-01-01T16:15:00.000000000",
          "2024-01-01T16:15:30.000000000",
          "2024-01-01T16:16:00.000000000",
          "2024-01-01T16:16:30.000000000",
          "2024-01-01T16:17:00.000000000",
          "2024-01-01T16:17:30.000000000",
          "2024-01-01T16:18:00.000000000",
          "2024-01-01T16:18:30.000000000",
          "2024-01-01T16:19:00.000000000",
          "2024-01-01T16:19:30.000000000",
          "2024-01-01T16:20:00.000000000",
          "2024-01-01T16:20:30.000000000",
          "2024-01-01T16:21:00.000000000",
          "2024-01-01T16:21:30.000000000",
          "2024-01-01T16:22:00.000000000",
          "2024-01-01T16:22:30.000000000",
          "2024-01-01T16:23:00.000000000",
          "2024-01-01T16:23:30.000000000",
          "2024-01-01T16:24:00.000000000",
          "2024-01-01T16:24:30.000000000",
          "2024-01-01T16:25:00.000000000",
          "2024-01-01T16:25:30.000000000",
          "2024-01-01T16:26:00.000000000",
          "2024-01-01T16:26:30.000000000",
          "2024-01-01T16:27:00.000000000",
          "2024-01-01T16:27:30.000000000",
          "2024-01-01T16:28:00.000000000",
          "2024-01-01T16:28:30.000000000",
          "2024-01-01T16:29:00.000000000",
          "2024-01-01T16:29:30.000000000",
          "2024-01-01T16:30:00.000000000",
          "2024-01-01T16:30:30.000000000",
          "2024-01-01T16:31:00.000000000",
          "2024-01-01T16:31:30.000000000",
          "2024-01-01T16:32:00.000000000",
          "2024-01-01T16:32:30.000000000",
          "2024-01-01T16:33:00.000000000",
          "2024-01-01T16:33:30.000000000",
          "2024-01-01T16:34:00.000000000",
          "2024-01-01T16:34:30.000000000",
          "2024-01-01T16:35:00.000000000",
          "2024-01-01T16:35:30.000000000",
          "2024-01-01T16:36:00.000000000",
          "2024-01-01T16:36:30.000000000",
          "2024-01-01T16:37:00.000000000",
          "2024-01-01T16:37:30.000000000",
          "2024-01-01T16:38:00.000000000",
          "2024-01-01T16:38:30.000000000",
          "2024-01-01T16:39:00.000000000",
          "2024-01-01T16:39:30.000000000",
          "2024-01-01T16:40:00.000000000",
          "2024-01-01T16:40:30.000000000",
          "2024-01-01T16:41:00.000000000",
          "2024-01-01T16:41:30.000000000",
          "2024-01-01T16:42:00.000000000",
          "2024-01-01T16:42:30.000000000",
          "2024-01-01T16:43:00.000000000",
          "2024-01-01T16:43:30.000000000",
          "2024-01-01T16:44:00.000000000",
          "2024-01-01T16:44:30.000000000",
          "2024-01-01T16:45:00.000000000",
          "2024-01-01T16:45:30.000000000",
          "2024-01-01T16:46:00.000000000",
          "2024-01-01T16:46:30.000000000",
          "2024-01-01T16:47:00.000000000",
          "2024-01-01T16:47:30.000000000",
          "2024-01-01T16:48:00.000000000",
          "2024-01-01T16:48:30.000000000",
          "2024-01-01T16:49:00.000000000",
          "2024-01-01T16:49:30.000000000",
          "2024-01-01T16:50:00.000000000",
          "2024-01-01T16:50:30.000000000",
          "2024-01-01T16:51:00.000000000",
          "2024-01-01T16:51:30.000000000",
          "2024-01-01T16:52:00.000000000",
          "2024-01-01T16:52:30.000000000",
          "2024-01-01T16:53:00.000000000",
          "2024-01-01T16:53:30.000000000",
          "2024-01-01T16:54:00.000000000",
          "2024-01-01T16:54:30.000000000",
          "2024-01-01T16:55:00.000000000",
          "2024-01-01T16:55:30.000000000",
          "2024-01-01T16:56:00.000000000",
          "2024-01-01T16:56:30.000000000",
          "2024-01-01T16:57:00.000000000",
          "2024-01-01T16:57:30.000000000",
          "2024-01-01T16:58:00.000000000",
          "2024-01-01T16:58:30.000000000",
          "2024-01-01T16:59:00.000000000",
          "2024-01-01T16:59:30.000000000",
          "2024-01-01T17:00:00.000000000",
          "2024-01-01T17:00:30.000000000",
          "2024-01-01T17:01:00.000000000",
          "2024-01-01T17:01:30.000000000",
          "2024-01-01T17:02:00.000000000",
          "2024-01-01T17:02:30.000000000",
          "2024-01-01T17:03:00.000000000",
          "2024-01-01T17:03:30.000000000",
          "2024-01-01T17:04:00.000000000",
          "2024-01-01T17:04:30.000000000",
          "2024-01-01T17:05:00.000000000",
          "2024-01-01T17:05:30.000000000",
          "2024-01-01T17:06:00.000000000",
          "2024-01-01T17:06:30.000000000",
          "2024-01-01T17:07:00.000000000",
          "2024-01-01T17:07:30.000000000",
          "2024-01-01T17:08:00.000000000",
          "2024-01-01T17:08:30.000000000",
          "2024-01-01T17:09:00.000000000",
          "2024-01-01T17:09:30.000000000",
          "2024-01-01T17:10:00.000000000",
          "2024-01-01T17:10:30.000000000",
          "2024-01-01T17:11:00.000000000",
          "2024-01-01T17:11:30.000000000",
          "2024-01-01T17:12:00.000000000",
          "2024-01-01T17:12:30.000000000",
          "2024-01-01T17:13:00.000000000",
          "2024-01-01T17:13:30.000000000",
          "2024-01-01T17:14:00.000000000",
          "2024-01-01T17:14:30.000000000",
          "2024-01-01T17:15:00.000000000",
          "2024-01-01T17:15:30.000000000",
          "2024-01-01T17:16:00.000000000",
          "2024-01-01T17:16:30.000000000",
          "2024-01-01T17:17:00.000000000",
          "2024-01-01T17:17:30.000000000",
          "2024-01-01T17:18:00.000000000",
          "2024-01-01T17:18:30.000000000",
          "2024-01-01T17:19:00.000000000",
          "2024-01-01T17:19:30.000000000",
          "2024-01-01T17:20:00.000000000",
          "2024-01-01T17:20:30.000000000",
          "2024-01-01T17:21:00.000000000",
          "2024-01-01T17:21:30.000000000",
          "2024-01-01T17:22:00.000000000",
          "2024-01-01T17:22:30.000000000",
          "2024-01-01T17:23:00.000000000",
          "2024-01-01T17:23:30.000000000",
          "2024-01-01T17:24:00.000000000",
          "2024-01-01T17:24:30.000000000",
          "2024-01-01T17:25:00.000000000",
          "2024-01-01T17:25:30.000000000",
          "2024-01-01T17:26:00.000000000",
          "2024-01-01T17:26:30.000000000",
          "2024-01-01T17:27:00.000000000",
          "2024-01-01T17:27:30.000000000",
          "2024-01-01T17:28:00.000000000",
          "2024-01-01T17:28:30.000000000",
          "2024-01-01T17:29:00.000000000",
          "2024-01-01T17:29:30.000000000",
          "2024-01-01T17:30:00.000000000",
          "2024-01-01T17:30:30.000000000",
          "2024-01-01T17:31:00.000000000",
          "2024-01-01T17:31:30.000000000",
          "2024-01-01T17:32:00.000000000",
          "2024-01-01T17:32:30.000000000",
          "2024-01-01T17:33:00.000000000",
          "2024-01-01T17:33:30.000000000",
          "2024-01-01T17:34:00.000000000",
          "2024-01-01T17:34:30.000000000",
          "2024-01-01T17:35:00.000000000",
          "2024-01-01T17:35:30.000000000",
          "2024-01-01T17:36:00.000000000",
          "2024-01-01T17:36:30.000000000",
          "2024-01-01T17:37:00.000000000",
          "2024-01-01T17:37:30.000000000",
          "2024-01-01T17:38:00.000000000",
          "2024-01-01T17:38:30.000000000",
          "2024-01-01T17:39:00.000000000",
          "2024-01-01T17:39:30.000000000",
          "2024-01-01T17:40:00.000000000",
          "2024-01-01T17:40:30.000000000",
          "2024-01-01T17:41:00.000000000",
          "2024-01-01T17:41:30.000000000",
          "2024-01-01T17:42:00.000000000",
          "2024-01-01T17:42:30.000000000",
          "2024-01-01T17:43:00.000000000",
          "2024-01-01T17:43:30.000000000",
          "2024-01-01T17:44:00.000000000",
          "2024-01-01T17:44:30.000000000",
          "2024-01-01T17:45:00.000000000",
          "2024-01-01T17:45:30.000000000",
          "2024-01-01T17:46:00.000000000",
          "2024-01-01T17:46:30.000000000",
          "2024-01-01T17:47:00.000000000",
          "2024-01-01T17:47:30.000000000",
          "2024-01-01T17:48:00.000000000",
          "2024-01-01T17:48:30.000000000",
          "2024-01-01T17:49:00.000000000",
          "2024-01-01T17:49:30.000000000",
          "2024-01-01T17:50:00.000000000",
          "2024-01-01T17:50:30.000000000",
          "2024-01-01T17:51:00.000000000",
          "2024-01-01T17:51:30.000000000",
          "2024-01-01T17:52:00.000000000",
          "2024-01-01T17:52:30.000000000",
          "2024-01-01T17:53:00.000000000",
          "2024-01-01T17:53:30.000000000",
          "2024-01-01T17:54:00.000000000",
          "2024-01-01T17:54:30.000000000",
          "2024-01-01T17:55:00.000000000",
          "2024-01-01T17:55:30.000000000",
          "2024-01-01T17:56:00.000000000",
          "2024-01-01T17:56:30.000000000",
          "2024-01-01T17:57:00.000000000",
          "2024-01-01T17:57:30.000000000",
          "2024-01-01T17:58:00.000000000",
          "2024-01-01T17:58:30.000000000",
          "2024-01-01T17:59:00.000000000",
          "2024-01-01T17:59:30.000000000",
          "2024-01-01T18:00:00.000000000",
          "2024-01-01T18:00:30.000000000",
          "2024-01-01T18:01:00.000000000",
          "2024-01-01T18:01:30.000000000",
          "2024-01-01T18:02:00.000000000",
          "2024-01-01T18:02:30.000000000",
          "2024-01-01T18:03:00.000000000",
          "2024-01-01T18:03:30.000000000",
          "2024-01-01T18:04:00.000000000",
          "2024-01-01T18:04:30.000000000",
          "2024-01-01T18:05:00.000000000",
          "2024-01-01T18:05:30.000000000",
          "2024-01-01T18:06:00.000000000",
          "2024-01-01T18:06:30.000000000",
          "2024-01-01T18:07:00.000000000",
          "2024-01-01T18:07:30.000000000",
          "2024-01-01T18:08:00.000000000",
          "2024-01-01T18:08:30.000000000",
          "2024-01-01T18:09:00.000000000",
          "2024-01-01T18:09:30.000000000",
          "2024-01-01T18:10:00.000000000",
          "2024-01-01T18:10:30.000000000",
          "2024-01-01T18:11:00.000000000",
          "2024-01-01T18:11:30.000000000",
          "2024-01-01T18:12:00.000000000",
          "2024-01-01T18:12:30.000000000",
          "2024-01-01T18:13:00.000000000",
          "2024-01-01T18:13:30.000000000",
          "2024-01-01T18:14:00.000000000",
          "2024-01-01T18:14:30.000000000",
          "2024-01-01T18:15:00.000000000",
          "2024-01-01T18:15:30.000000000",
          "2024-01-01T18:16:00.000000000",
          "2024-01-01T18:16:30.000000000",
          "2024-01-01T18:17:00.000000000",
          "2024-01-01T18:17:30.000000000",
          "2024-01-01T18:18:00.000000000",
          "2024-01-01T18:18:30.000000000",
          "2024-01-01T18:19:00.000000000",
          "2024-01-01T18:19:30.000000000",
          "2024-01-01T18:20:00.000000000",
          "2024-01-01T18:20:30.000000000",
          "2024-01-01T18:21:00.000000000",
          "2024-01-01T18:21:30.000000000",
          "2024-01-01T18:22:00.000000000",
          "2024-01-01T18:22:30.000000000",
          "2024-01-01T18:23:00.000000000",
          "2024-01-01T18:23:30.000000000",
          "2024-01-01T18:24:00.000000000",
          "2024-01-01T18:24:30.000000000",
          "2024-01-01T18:25:00.000000000",
          "2024-01-01T18:25:30.000000000",
          "2024-01-01T18:26:00.000000000",
          "2024-01-01T18:26:30.000000000",
          "2024-01-01T18:27:00.000000000",
          "2024-01-01T18:27:30.000000000",
          "2024-01-01T18:28:00.000000000",
          "2024-01-01T18:28:30.000000000",
          "2024-01-01T18:29:00.000000000",
          "2024-01-01T18:29:30.000000000",
          "2024-01-01T18:30:00.000000000",
          "2024-01-01T18:30:30.000000000",
          "2024-01-01T18:31:00.000000000",
          "2024-01-01T18:31:30.000000000",
          "2024-01-01T18:32:00.000000000",
          "2024-01-01T18:32:30.000000000",
          "2024-01-01T18:33:00.000000000",
          "2024-01-01T18:33:30.000000000",
          "2024-01-01T18:34:00.000000000",
          "2024-01-01T18:34:30.000000000",
          "2024-01-01T18:35:00.000000000",
          "2024-01-01T18:35:30.000000000",
          "2024-01-01T18:36:00.000000000",
          "2024-01-01T18:36:30.000000000",
          "2024-01-01T18:37:00.000000000",
          "2024-01-01T18:37:30.000000000",
          "2024-01-01T18:38:00.000000000",
          "2024-01-01T18:38:30.000000000",
          "2024-01-01T18:39:00.000000000",
          "2024-01-01T18:39:30.000000000",
          "2024-01-01T18:40:00.000000000",
          "2024-01-01T18:40:30.000000000",
          "2024-01-01T18:41:00.000000000",
          "2024-01-01T18:41:30.000000000",
          "2024-01-01T18:42:00.000000000",
          "2024-01-01T18:42:30.000000000",
          "2024-01-01T18:43:00.000000000",
          "2024-01-01T18:43:30.000000000",
          "2024-01-01T18:44:00.000000000",
          "2024-01-01T18:44:30.000000000",
          "2024-01-01T18:45:00.000000000",
          "2024-01-01T18:45:30.000000000",
          "2024-01-01T18:46:00.000000000",
          "2024-01-01T18:46:30.000000000",
          "2024-01-01T18:47:00.000000000",
          "2024-01-01T18:47:30.000000000",
          "2024-01-01T18:48:00.000000000",
          "2024-01-01T18:48:30.000000000",
          "2024-01-01T18:49:00.000000000",
          "2024-01-01T18:49:30.000000000",
          "2024-01-01T18:50:00.000000000",
          "2024-01-01T18:50:30.000000000",
          "2024-01-01T18:51:00.000000000",
          "2024-01-01T18:51:30.000000000",
          "2024-01-01T18:52:00.000000000",
          "2024-01-01T18:52:30.000000000",
          "2024-01-01T18:53:00.000000000",
          "2024-01-01T18:53:30.000000000",
          "2024-01-01T18:54:00.000000000",
          "2024-01-01T18:54:30.000000000",
          "2024-01-01T18:55:00.000000000",
          "2024-01-01T18:55:30.000000000",
          "2024-01-01T18:56:00.000000000",
          "2024-01-01T18:56:30.000000000",
          "2024-01-01T18:57:00.000000000",
          "2024-01-01T18:57:30.000000000",
          "2024-01-01T18:58:00.000000000",
          "2024-01-01T18:58:30.000000000",
          "2024-01-01T18:59:00.000000000",
          "2024-01-01T18:59:30.000000000",
          "2024-01-01T19:00:00.000000000",
          "2024-01-01T19:00:30.000000000",
          "2024-01-01T19:01:00.000000000",
          "2024-01-01T19:01:30.000000000",
          "2024-01-01T19:02:00.000000000",
          "2024-01-01T19:02:30.000000000",
          "2024-01-01T19:03:00.000000000",
          "2024-01-01T19:03:30.000000000",
          "2024-01-01T19:04:00.000000000",
          "2024-01-01T19:04:30.000000000",
          "2024-01-01T19:05:00.000000000",
          "2024-01-01T19:05:30.000000000",
          "2024-01-01T19:06:00.000000000",
          "2024-01-01T19:06:30.000000000",
          "2024-01-01T19:07:00.000000000",
          "2024-01-01T19:07:30.000000000",
          "2024-01-01T19:08:00.000000000",
          "2024-01-01T19:08:30.000000000",
          "2024-01-01T19:09:00.000000000",
          "2024-01-01T19:09:30.000000000",
          "2024-01-01T19:10:00.000000000",
          "2024-01-01T19:10:30.000000000",
          "2024-01-01T19:11:00.000000000",
          "2024-01-01T19:11:30.000000000",
          "2024-01-01T19:12:00.000000000",
          "2024-01-01T19:12:30.000000000",
          "2024-01-01T19:13:00.000000000",
          "2024-01-01T19:13:30.000000000",
          "2024-01-01T19:14:00.000000000",
          "2024-01-01T19:14:30.000000000",
          "2024-01-01T19:15:00.000000000",
          "2024-01-01T19:15:30.000000000",
          "2024-01-01T19:16:00.000000000",
          "2024-01-01T19:16:30.000000000",
          "2024-01-01T19:17:00.000000000",
          "2024-01-01T19:17:30.000000000",
          "2024-01-01T19:18:00.000000000",
          "2024-01-01T19:18:30.000000000",
          "2024-01-01T19:19:00.000000000",
          "2024-01-01T19:19:30.000000000",
          "2024-01-01T19:20:00.000000000",
          "2024-01-01T19:20:30.000000000",
          "2024-01-01T19:21:00.000000000",
          "2024-01-01T19:21:30.000000000",
          "2024-01-01T19:22:00.000000000",
          "2024-01-01T19:22:30.000000000",
          "2024-01-01T19:23:00.000000000",
          "2024-01-01T19:23:30.000000000",
          "2024-01-01T19:24:00.000000000",
          "2024-01-01T19:24:30.000000000",
          "2024-01-01T19:25:00.000000000",
          "2024-01-01T19:25:30.000000000",
          "2024-01-01T19:26:00.000000000",
          "2024-01-01T19:26:30.000000000",
          "2024-01-01T19:27:00.000000000",
          "2024-01-01T19:27:30.000000000",
          "2024-01-01T19:28:00.000000000",
          "2024-01-01T19:28:30.000000000",
          "2024-01-01T19:29:00.000000000",
          "2024-01-01T19:29:30.000000000",
          "2024-01-01T19:30:00.000000000",
          "2024-01-01T19:30:30.000000000",
          "2024-01-01T19:31:00.000000000",
          "2024-01-01T19:31:30.000000000",
          "2024-01-01T19:32:00.000000000",
          "2024-01-01T19:32:30.000000000",
          "2024-01-01T19:33:00.000000000",
          "2024-01-01T19:33:30.000000000",
          "2024-01-01T19:34:00.000000000",
          "2024-01-01T19:34:30.000000000",
          "2024-01-01T19:35:00.000000000",
          "2024-01-01T19:35:30.000000000",
          "2024-01-01T19:36:00.000000000",
          "2024-01-01T19:36:30.000000000",
          "2024-01-01T19:37:00.000000000",
          "2024-01-01T19:37:30.000000000",
          "2024-01-01T19:38:00.000000000",
          "2024-01-01T19:38:30.000000000",
          "2024-01-01T19:39:00.000000000",
          "2024-01-01T19:39:30.000000000",
          "2024-01-01T19:40:00.000000000",
          "2024-01-01T19:40:30.000000000",
          "2024-01-01T19:41:00.000000000",
          "2024-01-01T19:41:30.000000000",
          "2024-01-01T19:42:00.000000000",
          "2024-01-01T19:42:30.000000000",
          "2024-01-01T19:43:00.000000000",
          "2024-01-01T19:43:30.000000000",
          "2024-01-01T19:44:00.000000000",
          "2024-01-01T19:44:30.000000000",
          "2024-01-01T19:45:00.000000000",
          "2024-01-01T19:45:30.000000000",
          "2024-01-01T19:46:00.000000000",
          "2024-01-01T19:46:30.000000000",
          "2024-01-01T19:47:00.000000000",
          "2024-01-01T19:47:30.000000000",
          "2024-01-01T19:48:00.000000000",
          "2024-01-01T19:48:30.000000000",
          "2024-01-01T19:49:00.000000000",
          "2024-01-01T19:49:30.000000000",
          "2024-01-01T19:50:00.000000000",
          "2024-01-01T19:50:30.000000000",
          "2024-01-01T19:51:00.000000000",
          "2024-01-01T19:51:30.000000000",
          "2024-01-01T19:52:00.000000000",
          "2024-01-01T19:52:30.000000000",
          "2024-01-01T19:53:00.000000000",
          "2024-01-01T19:53:30.000000000",
          "2024-01-01T19:54:00.000000000",
          "2024-01-01T19:54:30.000000000",
          "2024-01-01T19:55:00.000000000",
          "2024-01-01T19:55:30.000000000",
          "2024-01-01T19:56:00.000000000",
          "2024-01-01T19:56:30.000000000",
          "2024-01-01T19:57:00.000000000",
          "2024-01-01T19:57:30.000000000",
          "2024-01-01T19:58:00.000000000",
          "2024-01-01T19:58:30.000000000",
          "2024-01-01T19:59:00.000000000",
          "2024-01-01T19:59:30.000000000",
          "2024-01-01T20:00:00.000000000",
          "2024-01-01T20:00:30.000000000",
          "2024-01-01T20:01:00.000000000",
          "2024-01-01T20:01:30.000000000",
          "2024-01-01T20:02:00.000000000",
          "2024-01-01T20:02:30.000000000",
          "2024-01-01T20:03:00.000000000",
          "2024-01-01T20:03:30.000000000",
          "2024-01-01T20:04:00.000000000",
          "2024-01-01T20:04:30.000000000",
          "2024-01-01T20:05:00.000000000",
          "2024-01-01T20:05:30.000000000",
          "2024-01-01T20:06:00.000000000",
          "2024-01-01T20:06:30.000000000",
          "2024-01-01T20:07:00.000000000",
          "2024-01-01T20:07:30.000000000",
          "2024-01-01T20:08:00.000000000",
          "2024-01-01T20:08:30.000000000",
          "2024-01-01T20:09:00.000000000",
          "2024-01-01T20:09:30.000000000",
          "2024-01-01T20:10:00.000000000",
          "2024-01-01T20:10:30.000000000",
          "2024-01-01T20:11:00.000000000",
          "2024-01-01T20:11:30.000000000",
          "2024-01-01T20:12:00.000000000",
          "2024-01-01T20:12:30.000000000",
          "2024-01-01T20:13:00.000000000",
          "2024-01-01T20:13:30.000000000",
          "2024-01-01T20:14:00.000000000",
          "2024-01-01T20:14:30.000000000",
          "2024-01-01T20:15:00.000000000",
          "2024-01-01T20:15:30.000000000",
          "2024-01-01T20:16:00.000000000",
          "2024-01-01T20:16:30.000000000",
          "2024-01-01T20:17:00.000000000",
          "2024-01-01T20:17:30.000000000",
          "2024-01-01T20:18:00.000000000",
          "2024-01-01T20:18:30.000000000",
          "2024-01-01T20:19:00.000000000",
          "2024-01-01T20:19:30.000000000",
          "2024-01-01T20:20:00.000000000",
          "2024-01-01T20:20:30.000000000",
          "2024-01-01T20:21:00.000000000",
          "2024-01-01T20:21:30.000000000",
          "2024-01-01T20:22:00.000000000",
          "2024-01-01T20:22:30.000000000",
          "2024-01-01T20:23:00.000000000",
          "2024-01-01T20:23:30.000000000",
          "2024-01-01T20:24:00.000000000",
          "2024-01-01T20:24:30.000000000",
          "2024-01-01T20:25:00.000000000",
          "2024-01-01T20:25:30.000000000",
          "2024-01-01T20:26:00.000000000",
          "2024-01-01T20:26:30.000000000",
          "2024-01-01T20:27:00.000000000",
          "2024-01-01T20:27:30.000000000",
          "2024-01-01T20:28:00.000000000",
          "2024-01-01T20:28:30.000000000",
          "2024-01-01T20:29:00.000000000",
          "2024-01-01T20:29:30.000000000",
          "2024-01-01T20:30:00.000000000",
          "2024-01-01T20:30:30.000000000",
          "2024-01-01T20:31:00.000000000",
          "2024-01-01T20:31:30.000000000",
          "2024-01-01T20:32:00.000000000",
          "2024-01-01T20:32:30.000000000",
          "2024-01-01T20:33:00.000000000",
          "2024-01-01T20:33:30.000000000",
          "2024-01-01T20:34:00.000000000",
          "2024-01-01T20:34:30.000000000",
          "2024-01-01T20:35:00.000000000",
          "2024-01-01T20:35:30.000000000",
          "2024-01-01T20:36:00.000000000",
          "2024-01-01T20:36:30.000000000",
          "2024-01-01T20:37:00.000000000",
          "2024-01-01T20:37:30.000000000",
          "2024-01-01T20:38:00.000000000",
          "2024-01-01T20:38:30.000000000",
          "2024-01-01T20:39:00.000000000",
          "2024-01-01T20:39:30.000000000",
          "2024-01-01T20:40:00.000000000",
          "2024-01-01T20:40:30.000000000",
          "2024-01-01T20:41:00.000000000",
          "2024-01-01T20:41:30.000000000",
          "2024-01-01T20:42:00.000000000",
          "2024-01-01T20:42:30.000000000",
          "2024-01-01T20:43:00.000000000",
          "2024-01-01T20:43:30.000000000",
          "2024-01-01T20:44:00.000000000",
          "2024-01-01T20:44:30.000000000",
          "2024-01-01T20:45:00.000000000",
          "2024-01-01T20:45:30.000000000",
          "2024-01-01T20:46:00.000000000",
          "2024-01-01T20:46:30.000000000",
          "2024-01-01T20:47:00.000000000",
          "2024-01-01T20:47:30.000000000",
          "2024-01-01T20:48:00.000000000",
          "2024-01-01T20:48:30.000000000",
          "2024-01-01T20:49:00.000000000",
          "2024-01-01T20:49:30.000000000",
          "2024-01-01T20:50:00.000000000",
          "2024-01-01T20:50:30.000000000",
          "2024-01-01T20:51:00.000000000",
          "2024-01-01T20:51:30.000000000",
          "2024-01-01T20:52:00.000000000",
          "2024-01-01T20:52:30.000000000",
          "2024-01-01T20:53:00.000000000",
          "2024-01-01T20:53:30.000000000",
          "2024-01-01T20:54:00.000000000",
          "2024-01-01T20:54:30.000000000",
          "2024-01-01T20:55:00.000000000",
          "2024-01-01T20:55:30.000000000",
          "2024-01-01T20:56:00.000000000",
          "2024-01-01T20:56:30.000000000",
          "2024-01-01T20:57:00.000000000",
          "2024-01-01T20:57:30.000000000",
          "2024-01-01T20:58:00.000000000",
          "2024-01-01T20:58:30.000000000",
          "2024-01-01T20:59:00.000000000",
          "2024-01-01T20:59:30.000000000",
          "2024-01-01T21:00:00.000000000",
          "2024-01-01T21:00:30.000000000",
          "2024-01-01T21:01:00.000000000",
          "2024-01-01T21:01:30.000000000",
          "2024-01-01T21:02:00.000000000",
          "2024-01-01T21:02:30.000000000",
          "2024-01-01T21:03:00.000000000",
          "2024-01-01T21:03:30.000000000",
          "2024-01-01T21:04:00.000000000",
          "2024-01-01T21:04:30.000000000",
          "2024-01-01T21:05:00.000000000",
          "2024-01-01T21:05:30.000000000",
          "2024-01-01T21:06:00.000000000",
          "2024-01-01T21:06:30.000000000",
          "2024-01-01T21:07:00.000000000",
          "2024-01-01T21:07:30.000000000",
          "2024-01-01T21:08:00.000000000",
          "2024-01-01T21:08:30.000000000",
          "2024-01-01T21:09:00.000000000",
          "2024-01-01T21:09:30.000000000",
          "2024-01-01T21:10:00.000000000",
          "2024-01-01T21:10:30.000000000",
          "2024-01-01T21:11:00.000000000",
          "2024-01-01T21:11:30.000000000",
          "2024-01-01T21:12:00.000000000",
          "2024-01-01T21:12:30.000000000",
          "2024-01-01T21:13:00.000000000",
          "2024-01-01T21:13:30.000000000",
          "2024-01-01T21:14:00.000000000",
          "2024-01-01T21:14:30.000000000",
          "2024-01-01T21:15:00.000000000",
          "2024-01-01T21:15:30.000000000",
          "2024-01-01T21:16:00.000000000",
          "2024-01-01T21:16:30.000000000",
          "2024-01-01T21:17:00.000000000",
          "2024-01-01T21:17:30.000000000",
          "2024-01-01T21:18:00.000000000",
          "2024-01-01T21:18:30.000000000",
          "2024-01-01T21:19:00.000000000",
          "2024-01-01T21:19:30.000000000",
          "2024-01-01T21:20:00.000000000",
          "2024-01-01T21:20:30.000000000",
          "2024-01-01T21:21:00.000000000",
          "2024-01-01T21:21:30.000000000",
          "2024-01-01T21:22:00.000000000",
          "2024-01-01T21:22:30.000000000",
          "2024-01-01T21:23:00.000000000",
          "2024-01-01T21:23:30.000000000",
          "2024-01-01T21:24:00.000000000",
          "2024-01-01T21:24:30.000000000",
          "2024-01-01T21:25:00.000000000",
          "2024-01-01T21:25:30.000000000",
          "2024-01-01T21:26:00.000000000",
          "2024-01-01T21:26:30.000000000",
          "2024-01-01T21:27:00.000000000",
          "2024-01-01T21:27:30.000000000",
          "2024-01-01T21:28:00.000000000",
          "2024-01-01T21:28:30.000000000",
          "2024-01-01T21:29:00.000000000",
          "2024-01-01T21:29:30.000000000",
          "2024-01-01T21:30:00.000000000",
          "2024-01-01T21:30:30.000000000",
          "2024-01-01T21:31:00.000000000",
          "2024-01-01T21:31:30.000000000",
          "2024-01-01T21:32:00.000000000",
          "2024-01-01T21:32:30.000000000",
          "2024-01-01T21:33:00.000000000",
          "2024-01-01T21:33:30.000000000",
          "2024-01-01T21:34:00.000000000",
          "2024-01-01T21:34:30.000000000",
          "2024-01-01T21:35:00.000000000",
          "2024-01-01T21:35:30.000000000",
          "2024-01-01T21:36:00.000000000",
          "2024-01-01T21:36:30.000000000",
          "2024-01-01T21:37:00.000000000",
          "2024-01-01T21:37:30.000000000",
          "2024-01-01T21:38:00.000000000",
          "2024-01-01T21:38:30.000000000",
          "2024-01-01T21:39:00.000000000",
          "2024-01-01T21:39:30.000000000",
          "2024-01-01T21:40:00.000000000",
          "2024-01-01T21:40:30.000000000",
          "2024-01-01T21:41:00.000000000",
          "2024-01-01T21:41:30.000000000",
          "2024-01-01T21:42:00.000000000",
          "2024-01-01T21:42:30.000000000",
          "2024-01-01T21:43:00.000000000",
          "2024-01-01T21:43:30.000000000",
          "2024-01-01T21:44:00.000000000",
          "2024-01-01T21:44:30.000000000",
          "2024-01-01T21:45:00.000000000",
          "2024-01-01T21:45:30.000000000",
          "2024-01-01T21:46:00.000000000",
          "2024-01-01T21:46:30.000000000",
          "2024-01-01T21:47:00.000000000",
          "2024-01-01T21:47:30.000000000",
          "2024-01-01T21:48:00.000000000",
          "2024-01-01T21:48:30.000000000",
          "2024-01-01T21:49:00.000000000",
          "2024-01-01T21:49:30.000000000",
          "2024-01-01T21:50:00.000000000",
          "2024-01-01T21:50:30.000000000",
          "2024-01-01T21:51:00.000000000",
          "2024-01-01T21:51:30.000000000",
          "2024-01-01T21:52:00.000000000",
          "2024-01-01T21:52:30.000000000",
          "2024-01-01T21:53:00.000000000",
          "2024-01-01T21:53:30.000000000",
          "2024-01-01T21:54:00.000000000",
          "2024-01-01T21:54:30.000000000",
          "2024-01-01T21:55:00.000000000",
          "2024-01-01T21:55:30.000000000",
          "2024-01-01T21:56:00.000000000",
          "2024-01-01T21:56:30.000000000",
          "2024-01-01T21:57:00.000000000",
          "2024-01-01T21:57:30.000000000",
          "2024-01-01T21:58:00.000000000",
          "2024-01-01T21:58:30.000000000",
          "2024-01-01T21:59:00.000000000",
          "2024-01-01T21:59:30.000000000",
          "2024-01-01T22:00:00.000000000",
          "2024-01-01T22:00:30.000000000",
          "2024-01-01T22:01:00.000000000",
          "2024-01-01T22:01:30.000000000",
          "2024-01-01T22:02:00.000000000",
          "2024-01-01T22:02:30.000000000",
          "2024-01-01T22:03:00.000000000",
          "2024-01-01T22:03:30.000000000",
          "2024-01-01T22:04:00.000000000",
          "2024-01-01T22:04:30.000000000",
          "2024-01-01T22:05:00.000000000",
          "2024-01-01T22:05:30.000000000",
          "2024-01-01T22:06:00.000000000",
          "2024-01-01T22:06:30.000000000",
          "2024-01-01T22:07:00.000000000",
          "2024-01-01T22:07:30.000000000",
          "2024-01-01T22:08:00.000000000",
          "2024-01-01T22:08:30.000000000",
          "2024-01-01T22:09:00.000000000",
          "2024-01-01T22:09:30.000000000",
          "2024-01-01T22:10:00.000000000",
          "2024-01-01T22:10:30.000000000",
          "2024-01-01T22:11:00.000000000",
          "2024-01-01T22:11:30.000000000",
          "2024-01-01T22:12:00.000000000",
          "2024-01-01T22:12:30.000000000",
          "2024-01-01T22:13:00.000000000",
          "2024-01-01T22:13:30.000000000",
          "2024-01-01T22:14:00.000000000",
          "2024-01-01T22:14:30.000000000",
          "2024-01-01T22:15:00.000000000",
          "2024-01-01T22:15:30.000000000",
          "2024-01-01T22:16:00.000000000",
          "2024-01-01T22:16:30.000000000",
          "2024-01-01T22:17:00.000000000",
          "2024-01-01T22:17:30.000000000",
          "2024-01-01T22:18:00.000000000",
          "2024-01-01T22:18:30.000000000",
          "2024-01-01T22:19:00.000000000",
          "2024-01-01T22:19:30.000000000",
          "2024-01-01T22:20:00.000000000",
          "2024-01-01T22:20:30.000000000",
          "2024-01-01T22:21:00.000000000",
          "2024-01-01T22:21:30.000000000",
          "2024-01-01T22:22:00.000000000",
          "2024-01-01T22:22:30.000000000",
          "2024-01-01T22:23:00.000000000",
          "2024-01-01T22:23:30.000000000",
          "2024-01-01T22:24:00.000000000",
          "2024-01-01T22:24:30.000000000",
          "2024-01-01T22:25:00.000000000",
          "2024-01-01T22:25:30.000000000",
          "2024-01-01T22:26:00.000000000",
          "2024-01-01T22:26:30.000000000",
          "2024-01-01T22:27:00.000000000",
          "2024-01-01T22:27:30.000000000",
          "2024-01-01T22:28:00.000000000",
          "2024-01-01T22:28:30.000000000",
          "2024-01-01T22:29:00.000000000",
          "2024-01-01T22:29:30.000000000",
          "2024-01-01T22:30:00.000000000",
          "2024-01-01T22:30:30.000000000",
          "2024-01-01T22:31:00.000000000",
          "2024-01-01T22:31:30.000000000",
          "2024-01-01T22:32:00.000000000",
          "2024-01-01T22:32:30.000000000",
          "2024-01-01T22:33:00.000000000",
          "2024-01-01T22:33:30.000000000",
          "2024-01-01T22:34:00.000000000",
          "2024-01-01T22:34:30.000000000",
          "2024-01-01T22:35:00.000000000",
          "2024-01-01T22:35:30.000000000",
          "2024-01-01T22:36:00.000000000",
          "2024-01-01T22:36:30.000000000",
          "2024-01-01T22:37:00.000000000",
          "2024-01-01T22:37:30.000000000",
          "2024-01-01T22:38:00.000000000",
          "2024-01-01T22:38:30.000000000",
          "2024-01-01T22:39:00.000000000",
          "2024-01-01T22:39:30.000000000",
          "2024-01-01T22:40:00.000000000",
          "2024-01-01T22:40:30.000000000",
          "2024-01-01T22:41:00.000000000",
          "2024-01-01T22:41:30.000000000",
          "2024-01-01T22:42:00.000000000",
          "2024-01-01T22:42:30.000000000",
          "2024-01-01T22:43:00.000000000",
          "2024-01-01T22:43:30.000000000",
          "2024-01-01T22:44:00.000000000",
          "2024-01-01T22:44:30.000000000",
          "2024-01-01T22:45:00.000000000",
          "2024-01-01T22:45:30.000000000",
          "2024-01-01T22:46:00.000000000",
          "2024-01-01T22:46:30.000000000",
          "2024-01-01T22:47:00.000000000",
          "2024-01-01T22:47:30.000000000",
          "2024-01-01T22:48:00.000000000",
          "2024-01-01T22:48:30.000000000",
          "2024-01-01T22:49:00.000000000",
          "2024-01-01T22:49:30.000000000",
          "2024-01-01T22:50:00.000000000",
          "2024-01-01T22:50:30.000000000",
          "2024-01-01T22:51:00.000000000",
          "2024-01-01T22:51:30.000000000",
          "2024-01-01T22:52:00.000000000",
          "2024-01-01T22:52:30.000000000",
          "2024-01-01T22:53:00.000000000",
          "2024-01-01T22:53:30.000000000",
          "2024-01-01T22:54:00.000000000",
          "2024-01-01T22:54:30.000000000",
          "2024-01-01T22:55:00.000000000",
          "2024-01-01T22:55:30.000000000",
          "2024-01-01T22:56:00.000000000",
          "2024-01-01T22:56:30.000000000",
          "2024-01-01T22:57:00.000000000",
          "2024-01-01T22:57:30.000000000",
          "2024-01-01T22:58:00.000000000",
          "2024-01-01T22:58:30.000000000",
          "2024-01-01T22:59:00.000000000",
          "2024-01-01T22:59:30.000000000",
          "2024-01-01T23:00:00.000000000",
          "2024-01-01T23:00:30.000000000",
          "2024-01-01T23:01:00.000000000",
          "2024-01-01T23:01:30.000000000",
          "2024-01-01T23:02:00.000000000",
          "2024-01-01T23:02:30.000000000",
          "2024-01-01T23:03:00.000000000",
          "2024-01-01T23:03:30.000000000",
          "2024-01-01T23:04:00.000000000",
          "2024-01-01T23:04:30.000000000",
          "2024-01-01T23:05:00.000000000",
          "2024-01-01T23:05:30.000000000",
          "2024-01-01T23:06:00.000000000",
          "2024-01-01T23:06:30.000000000",
          "2024-01-01T23:07:00.000000000",
          "2024-01-01T23:07:30.000000000",
          "2024-01-01T23:08:00.000000000",
          "2024-01-01T23:08:30.000000000",
          "2024-01-01T23:09:00.000000000",
          "2024-01-01T23:09:30.000000000",
          "2024-01-01T23:10:00.000000000",
          "2024-01-01T23:10:30.000000000",
          "2024-01-01T23:11:00.000000000",
          "2024-01-01T23:11:30.000000000",
          "2024-01-01T23:12:00.000000000",
          "2024-01-01T23:12:30.000000000",
          "2024-01-01T23:13:00.000000000",
          "2024-01-01T23:13:30.000000000",
          "2024-01-01T23:14:00.000000000",
          "2024-01-01T23:14:30.000000000",
          "2024-01-01T23:15:00.000000000",
          "2024-01-01T23:15:30.000000000",
          "2024-01-01T23:16:00.000000000",
          "2024-01-01T23:16:30.000000000",
          "2024-01-01T23:17:00.000000000",
          "2024-01-01T23:17:30.000000000",
          "2024-01-01T23:18:00.000000000",
          "2024-01-01T23:18:30.000000000",
          "2024-01-01T23:19:00.000000000",
          "2024-01-01T23:19:30.000000000",
          "2024-01-01T23:20:00.000000000",
          "2024-01-01T23:20:30.000000000",
          "2024-01-01T23:21:00.000000000",
          "2024-01-01T23:21:30.000000000",
          "2024-01-01T23:22:00.000000000",
          "2024-01-01T23:22:30.000000000",
          "2024-01-01T23:23:00.000000000",
          "2024-01-01T23:23:30.000000000",
          "2024-01-01T23:24:00.000000000",
          "2024-01-01T23:24:30.000000000",
          "2024-01-01T23:25:00.000000000",
          "2024-01-01T23:25:30.000000000",
          "2024-01-01T23:26:00.000000000",
          "2024-01-01T23:26:30.000000000",
          "2024-01-01T23:27:00.000000000",
          "2024-01-01T23:27:30.000000000",
          "2024-01-01T23:28:00.000000000",
          "2024-01-01T23:28:30.000000000",
          "2024-01-01T23:29:00.000000000",
          "2024-01-01T23:29:30.000000000",
          "2024-01-01T23:30:00.000000000",
          "2024-01-01T23:30:30.000000000",
          "2024-01-01T23:31:00.000000000",
          "2024-01-01T23:31:30.000000000",
          "2024-01-01T23:32:00.000000000",
          "2024-01-01T23:32:30.000000000",
          "2024-01-01T23:33:00.000000000",
          "2024-01-01T23:33:30.000000000",
          "2024-01-01T23:34:00.000000000",
          "2024-01-01T23:34:30.000000000",
          "2024-01-01T23:35:00.000000000",
          "2024-01-01T23:35:30.000000000",
          "2024-01-01T23:36:00.000000000",
          "2024-01-01T23:36:30.000000000",
          "2024-01-01T23:37:00.000000000",
          "2024-01-01T23:37:30.000000000",
          "2024-01-01T23:38:00.000000000",
          "2024-01-01T23:38:30.000000000",
          "2024-01-01T23:39:00.000000000",
          "2024-01-01T23:39:30.000000000",
          "2024-01-01T23:40:00.000000000",
          "2024-01-01T23:40:30.000000000",
          "2024-01-01T23:41:00.000000000",
          "2024-01-01T23:41:30.000000000",
          "2024-01-01T23:42:00.000000000",
          "2024-01-01T23:42:30.000000000",
          "2024-01-01T23:43:00.000000000",
          "2024-01-01T23:43:30.000000000",
          "2024-01-01T23:44:00.000000000",
          "2024-01-01T23:44:30.000000000",
          "2024-01-01T23:45:00.000000000",
          "2024-01-01T23:45:30.000000000",
          "2024-01-01T23:46:00.000000000",
          "2024-01-01T23:46:30.000000000",
          "2024-01-01T23:47:00.000000000",
          "2024-01-01T23:47:30.000000000",
          "2024-01-01T23:48:00.000000000",
          "2024-01-01T23:48:30.000000000",
          "2024-01-01T23:49:00.000000000",
          "2024-01-01T23:49:30.000000000",
          "2024-01-01T23:50:00.000000000",
          "2024-01-01T23:50:30.000000000",
          "2024-01-01T23:51:00.000000000",
          "2024-01-01T23:51:30.000000000",
          "2024-01-01T23:52:00.000000000",
          "2024-01-01T23:52:30.000000000",
          "2024-01-01T23:53:00.000000000",
          "2024-01-01T23:53:30.000000000",
          "2024-01-01T23:54:00.000000000",
          "2024-01-01T23:54:30.000000000",
          "2024-01-01T23:55:00.000000000",
          "2024-01-01T23:55:30.000000000",
          "2024-01-01T23:56:00.000000000",
          "2024-01-01T23:56:30.000000000",
          "2024-01-01T23:57:00.000000000",
          "2024-01-01T23:57:30.000000000",
          "2024-01-01T23:58:00.000000000",
          "2024-01-01T23:58:30.000000000",
          "2024-01-01T23:59:00.000000000",
          "2024-01-01T23:59:30.000000000",
          "2024-01-02T00:00:00.000000000",
          "2024-01-02T00:00:30.000000000",
          "2024-01-02T00:01:00.000000000",
          "2024-01-02T00:01:30.000000000",
          "2024-01-02T00:02:00.000000000",
          "2024-01-02T00:02:30.000000000",
          "2024-01-02T00:03:00.000000000",
          "2024-01-02T00:03:30.000000000",
          "2024-01-02T00:04:00.000000000",
          "2024-01-02T00:04:30.000000000",
          "2024-01-02T00:05:00.000000000",
          "2024-01-02T00:05:30.000000000",
          "2024-01-02T00:06:00.000000000",
          "2024-01-02T00:06:30.000000000",
          "2024-01-02T00:07:00.000000000",
          "2024-01-02T00:07:30.000000000"
         ]
        }
       ],
       "layout": {
        "dragmode": "zoom",
        "template": {
         "data": {
          "bar": [
           {
            "error_x": {
             "color": "#2a3f5f"
            },
            "error_y": {
             "color": "#2a3f5f"
            },
            "marker": {
             "line": {
              "color": "#E5ECF6",
              "width": 0.5
             },
             "pattern": {
              "fillmode": "overlay",
              "size": 10,
              "solidity": 0.2
             }
            },
            "type": "bar"
           }
          ],
          "barpolar": [
           {
            "marker": {
             "line": {
              "color": "#E5ECF6",
              "width": 0.5
             },
             "pattern": {
              "fillmode": "overlay",
              "size": 10,
              "solidity": 0.2
             }
            },
            "type": "barpolar"
           }
          ],
          "carpet": [
           {
            "aaxis": {
             "endlinecolor": "#2a3f5f",
             "gridcolor": "white",
             "linecolor": "white",
             "minorgridcolor": "white",
             "startlinecolor": "#2a3f5f"
            },
            "baxis": {
             "endlinecolor": "#2a3f5f",
             "gridcolor": "white",
             "linecolor": "white",
             "minorgridcolor": "white",
             "startlinecolor": "#2a3f5f"
            },
            "type": "carpet"
           }
          ],
          "choropleth": [
           {
            "colorbar": {
             "outlinewidth": 0,
             "ticks": ""
            },
            "type": "choropleth"
           }
          ],
          "contour": [
           {
            "colorbar": {
             "outlinewidth": 0,
             "ticks": ""
            },
            "colorscale": [
             [
              0,
              "#0d0887"
             ],
             [
              0.1111111111111111,
              "#46039f"
             ],
             [
              0.2222222222222222,
              "#7201a8"
             ],
             [
              0.3333333333333333,
              "#9c179e"
             ],
             [
              0.4444444444444444,
              "#bd3786"
             ],
             [
              0.5555555555555556,
              "#d8576b"
             ],
             [
              0.6666666666666666,
              "#ed7953"
             ],
             [
              0.7777777777777778,
              "#fb9f3a"
             ],
             [
              0.8888888888888888,
              "#fdca26"
             ],
             [
              1,
              "#f0f921"
             ]
            ],
            "type": "contour"
           }
          ],
          "contourcarpet": [
           {
            "colorbar": {
             "outlinewidth": 0,
             "ticks": ""
            },
            "type": "contourcarpet"
           }
          ],
          "heatmap": [
           {
            "colorbar": {
             "outlinewidth": 0,
             "ticks": ""
            },
            "colorscale": [
             [
              0,
              "#0d0887"
             ],
             [
              0.1111111111111111,
              "#46039f"
             ],
             [
              0.2222222222222222,
              "#7201a8"
             ],
             [
              0.3333333333333333,
              "#9c179e"
             ],
             [
              0.4444444444444444,
              "#bd3786"
             ],
             [
              0.5555555555555556,
              "#d8576b"
             ],
             [
              0.6666666666666666,
              "#ed7953"
             ],
             [
              0.7777777777777778,
              "#fb9f3a"
             ],
             [
              0.8888888888888888,
              "#fdca26"
             ],
             [
              1,
              "#f0f921"
             ]
            ],
            "type": "heatmap"
           }
          ],
          "histogram": [
           {
            "marker": {
             "pattern": {
              "fillmode": "overlay",
              "size": 10,
              "solidity": 0.2
             }
            },
            "type": "histogram"
           }
          ],
          "histogram2d": [
           {
            "colorbar": {
             "outlinewidth": 0,
             "ticks": ""
            },
            "colorscale": [
             [
              0,
              "#0d0887"
             ],
             [
              0.1111111111111111,
              "#46039f"
             ],
             [
              0.2222222222222222,
              "#7201a8"
             ],
             [
              0.3333333333333333,
              "#9c179e"
             ],
             [
              0.4444444444444444,
              "#bd3786"
             ],
             [
              0.5555555555555556,
              "#d8576b"
             ],
             [
              0.6666666666666666,
              "#ed7953"
             ],
             [
              0.7777777777777778,
              "#fb9f3a"
             ],
             [
              0.8888888888888888,
              "#fdca26"
             ],
             [
              1,
              "#f0f921"
             ]
            ],
            "type": "histogram2d"
           }
          ],
          "histogram2dcontour": [
           {
            "colorbar": {
             "outlinewidth": 0,
             "ticks": ""
            },
            "colorscale": [
             [
              0,
              "#0d0887"
             ],
             [
              0.1111111111111111,
              "#46039f"
             ],
             [
              0.2222222222222222,
              "#7201a8"
             ],
             [
              0.3333333333333333,
              "#9c179e"
             ],
             [
              0.4444444444444444,
              "#bd3786"
             ],
             [
              0.5555555555555556,
              "#d8576b"
             ],
             [
              0.6666666666666666,
              "#ed7953"
             ],
             [
              0.7777777777777778,
              "#fb9f3a"
             ],
             [
              0.8888888888888888,
              "#fdca26"
             ],
             [
              1,
              "#f0f921"
             ]
            ],
            "type": "histogram2dcontour"
           }
          ],
          "mesh3d": [
           {
            "colorbar": {
             "outlinewidth": 0,
             "ticks": ""
            },
            "type": "mesh3d"
           }
          ],
          "parcoords": [
           {
            "line": {
             "colorbar": {
              "outlinewidth": 0,
              "ticks": ""
             }
            },
            "type": "parcoords"
           }
          ],
          "pie": [
           {
            "automargin": true,
            "type": "pie"
           }
          ],
          "scatter": [
           {
            "fillpattern": {
             "fillmode": "overlay",
             "size": 10,
             "solidity": 0.2
            },
            "type": "scatter"
           }
          ],
          "scatter3d": [
           {
            "line": {
             "colorbar": {
              "outlinewidth": 0,
              "ticks": ""
             }
            },
            "marker": {
             "colorbar": {
              "outlinewidth": 0,
              "ticks": ""
             }
            },
            "type": "scatter3d"
           }
          ],
          "scattercarpet": [
           {
            "marker": {
             "colorbar": {
              "outlinewidth": 0,
              "ticks": ""
             }
            },
            "type": "scattercarpet"
           }
          ],
          "scattergeo": [
           {
            "marker": {
             "colorbar": {
              "outlinewidth": 0,
              "ticks": ""
             }
            },
            "type": "scattergeo"
           }
          ],
          "scattergl": [
           {
            "marker": {
             "colorbar": {
              "outlinewidth": 0,
              "ticks": ""
             }
            },
            "type": "scattergl"
           }
          ],
          "scattermap": [
           {
            "marker": {
             "colorbar": {
              "outlinewidth": 0,
              "ticks": ""
             }
            },
            "type": "scattermap"
           }
          ],
          "scattermapbox": [
           {
            "marker": {
             "colorbar": {
              "outlinewidth": 0,
              "ticks": ""
             }
            },
            "type": "scattermapbox"
           }
          ],
          "scatterpolar": [
           {
            "marker": {
             "colorbar": {
              "outlinewidth": 0,
              "ticks": ""
             }
            },
            "type": "scatterpolar"
           }
          ],
          "scatterpolargl": [
           {
            "marker": {
             "colorbar": {
              "outlinewidth": 0,
              "ticks": ""
             }
            },
            "type": "scatterpolargl"
           }
          ],
          "scatterternary": [
           {
            "marker": {
             "colorbar": {
              "outlinewidth": 0,
              "ticks": ""
             }
            },
            "type": "scatterternary"
           }
          ],
          "surface": [
           {
            "colorbar": {
             "outlinewidth": 0,
             "ticks": ""
            },
            "colorscale": [
             [
              0,
              "#0d0887"
             ],
             [
              0.1111111111111111,
              "#46039f"
             ],
             [
              0.2222222222222222,
              "#7201a8"
             ],
             [
              0.3333333333333333,
              "#9c179e"
             ],
             [
              0.4444444444444444,
              "#bd3786"
             ],
             [
              0.5555555555555556,
              "#d8576b"
             ],
             [
              0.6666666666666666,
              "#ed7953"
             ],
             [
              0.7777777777777778,
              "#fb9f3a"
             ],
             [
              0.8888888888888888,
              "#fdca26"
             ],
             [
              1,
              "#f0f921"
             ]
            ],
            "type": "surface"
           }
          ],
          "table": [
           {
            "cells": {
             "fill": {
              "color": "#EBF0F8"
             },
             "line": {
              "color": "white"
             }
            },
            "header": {
             "fill": {
              "color": "#C8D4E3"
             },
             "line": {
              "color": "white"
             }
            },
            "type": "table"
           }
          ]
         },
         "layout": {
          "annotationdefaults": {
           "arrowcolor": "#2a3f5f",
           "arrowhead": 0,
           "arrowwidth": 1
          },
          "autotypenumbers": "strict",
          "coloraxis": {
           "colorbar": {
            "outlinewidth": 0,
            "ticks": ""
           }
          },
          "colorscale": {
           "diverging": [
            [
             0,
             "#8e0152"
            ],
            [
             0.1,
             "#c51b7d"
            ],
            [
             0.2,
             "#de77ae"
            ],
            [
             0.3,
             "#f1b6da"
            ],
            [
             0.4,
             "#fde0ef"
            ],
            [
             0.5,
             "#f7f7f7"
            ],
            [
             0.6,
             "#e6f5d0"
            ],
            [
             0.7,
             "#b8e186"
            ],
            [
             0.8,
             "#7fbc41"
            ],
            [
             0.9,
             "#4d9221"
            ],
            [
             1,
             "#276419"
            ]
           ],
           "sequential": [
            [
             0,
             "#0d0887"
            ],
            [
             0.1111111111111111,
             "#46039f"
            ],
            [
             0.2222222222222222,
             "#7201a8"
            ],
            [
             0.3333333333333333,
             "#9c179e"
            ],
            [
             0.4444444444444444,
             "#bd3786"
            ],
            [
             0.5555555555555556,
             "#d8576b"
            ],
            [
             0.6666666666666666,
             "#ed7953"
            ],
            [
             0.7777777777777778,
             "#fb9f3a"
            ],
            [
             0.8888888888888888,
             "#fdca26"
            ],
            [
             1,
             "#f0f921"
            ]
           ],
           "sequentialminus": [
            [
             0,
             "#0d0887"
            ],
            [
             0.1111111111111111,
             "#46039f"
            ],
            [
             0.2222222222222222,
             "#7201a8"
            ],
            [
             0.3333333333333333,
             "#9c179e"
            ],
            [
             0.4444444444444444,
             "#bd3786"
            ],
            [
             0.5555555555555556,
             "#d8576b"
            ],
            [
             0.6666666666666666,
             "#ed7953"
            ],
            [
             0.7777777777777778,
             "#fb9f3a"
            ],
            [
             0.8888888888888888,
             "#fdca26"
            ],
            [
             1,
             "#f0f921"
            ]
           ]
          },
          "colorway": [
           "#636efa",
           "#EF553B",
           "#00cc96",
           "#ab63fa",
           "#FFA15A",
           "#19d3f3",
           "#FF6692",
           "#B6E880",
           "#FF97FF",
           "#FECB52"
          ],
          "font": {
           "color": "#2a3f5f"
          },
          "geo": {
           "bgcolor": "white",
           "lakecolor": "white",
           "landcolor": "#E5ECF6",
           "showlakes": true,
           "showland": true,
           "subunitcolor": "white"
          },
          "hoverlabel": {
           "align": "left"
          },
          "hovermode": "closest",
          "mapbox": {
           "style": "light"
          },
          "paper_bgcolor": "white",
          "plot_bgcolor": "#E5ECF6",
          "polar": {
           "angularaxis": {
            "gridcolor": "white",
            "linecolor": "white",
            "ticks": ""
           },
           "bgcolor": "#E5ECF6",
           "radialaxis": {
            "gridcolor": "white",
            "linecolor": "white",
            "ticks": ""
           }
          },
          "scene": {
           "xaxis": {
            "backgroundcolor": "#E5ECF6",
            "gridcolor": "white",
            "gridwidth": 2,
            "linecolor": "white",
            "showbackground": true,
            "ticks": "",
            "zerolinecolor": "white"
           },
           "yaxis": {
            "backgroundcolor": "#E5ECF6",
            "gridcolor": "white",
            "gridwidth": 2,
            "linecolor": "white",
            "showbackground": true,
            "ticks": "",
            "zerolinecolor": "white"
           },
           "zaxis": {
            "backgroundcolor": "#E5ECF6",
            "gridcolor": "white",
            "gridwidth": 2,
            "linecolor": "white",
            "showbackground": true,
            "ticks": "",
            "zerolinecolor": "white"
           }
          },
          "shapedefaults": {
           "line": {
            "color": "#2a3f5f"
           }
          },
          "ternary": {
           "aaxis": {
            "gridcolor": "white",
            "linecolor": "white",
            "ticks": ""
           },
           "baxis": {
            "gridcolor": "white",
            "linecolor": "white",
            "ticks": ""
           },
           "bgcolor": "#E5ECF6",
           "caxis": {
            "gridcolor": "white",
            "linecolor": "white",
            "ticks": ""
           }
          },
          "title": {
           "x": 0.05
          },
          "xaxis": {
           "automargin": true,
           "gridcolor": "white",
           "linecolor": "white",
           "ticks": "",
           "title": {
            "standoff": 15
           },
           "zerolinecolor": "white",
           "zerolinewidth": 2
          },
          "yaxis": {
           "automargin": true,
           "gridcolor": "white",
           "linecolor": "white",
           "ticks": "",
           "title": {
            "standoff": 15
           },
           "zerolinecolor": "white",
           "zerolinewidth": 2
          }
         }
        },
        "xaxis": {
         "rangeslider": {
          "visible": false
         }
        },
        "yaxis": {
         "fixedrange": false
        }
       }
      }
     },
     "metadata": {},
     "output_type": "display_data"
    }
   ],
   "source": [
    "df_trades = pd.DataFrame(data=[(t.timestamp, t.price, t.amount) for t in all_trades], columns=['timestamp', 'price', 'amount']).set_index('timestamp')\n",
    "df_resampled_trades = df_trades.resample('30s')['price'].agg(['first', 'max', 'min', 'last'])\n",
    "\n",
    "fig = go.Figure(data=[go.Candlestick(x=df_resampled_trades.index,\n",
    "                open=df_resampled_trades['first'],\n",
    "                high=df_resampled_trades['max'],\n",
    "                low=df_resampled_trades['min'],\n",
    "                close=df_resampled_trades['last'])])\n",
    "\n",
    "fig.update_layout(yaxis=dict(fixedrange=False), dragmode='zoom', xaxis_rangeslider_visible=False)\n",
    "fig.show()"
   ]
  },
  {
   "cell_type": "code",
   "execution_count": null,
   "metadata": {},
   "outputs": [],
   "source": []
  }
 ],
 "metadata": {
  "kernelspec": {
   "display_name": ".venv",
   "language": "python",
   "name": "python3"
  },
  "language_info": {
   "codemirror_mode": {
    "name": "ipython",
    "version": 3
   },
   "file_extension": ".py",
   "mimetype": "text/x-python",
   "name": "python",
   "nbconvert_exporter": "python",
   "pygments_lexer": "ipython3",
   "version": "3.13.1"
  }
 },
 "nbformat": 4,
 "nbformat_minor": 2
}
